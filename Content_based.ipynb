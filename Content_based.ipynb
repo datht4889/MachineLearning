{
  "cells": [
    {
      "cell_type": "code",
      "execution_count": 1,
      "metadata": {
        "id": "Q7Tol2FonFpG"
      },
      "outputs": [],
      "source": [
        "import pandas as pd\n",
        "import numpy as np\n",
        "from sklearn.linear_model import Ridge\n",
        "from sklearn import linear_model\n",
        "from sklearn.feature_extraction.text import TfidfTransformer\n",
        "from sklearn.model_selection import train_test_split\n",
        "from sklearn.metrics import ndcg_score\n",
        "import math"
      ]
    },
    {
      "cell_type": "markdown",
      "metadata": {
        "id": "d-UgESJkniPf"
      },
      "source": [
        "# Data processing"
      ]
    },
    {
      "cell_type": "code",
      "execution_count": 2,
      "metadata": {
        "colab": {
          "base_uri": "https://localhost:8080/"
        },
        "id": "4W4OeWcHnFpI",
        "outputId": "ffa9753b-0acc-4049-b82f-6084bd86bcb7"
      },
      "outputs": [
        {
          "data": {
            "text/plain": [
              "6040"
            ]
          },
          "execution_count": 2,
          "metadata": {},
          "output_type": "execute_result"
        }
      ],
      "source": [
        "# Reading users file\n",
        "u_cols = ['user_id', 'gender', 'age', 'occupation', 'zip_code']\n",
        "users = pd.read_csv('/Applications/codingforlife/semester4/ML/project/MachineLearning/dataset/users.dat', sep='::', names=u_cols, encoding='latin-1', engine='python')\n",
        "n_users = users.shape[0]\n",
        "n_users"
      ]
    },
    {
      "cell_type": "code",
      "execution_count": 3,
      "metadata": {
        "colab": {
          "base_uri": "https://localhost:8080/"
        },
        "id": "_DXnMetmnFpI",
        "outputId": "cb16af54-65f7-4520-841c-c937663cf64a"
      },
      "outputs": [
        {
          "data": {
            "text/plain": [
              "array([[        1,      1193,         5, 978300760],\n",
              "       [        1,       661,         3, 978302109],\n",
              "       [        1,       914,         3, 978301968],\n",
              "       ...,\n",
              "       [     6040,       562,         5, 956704746],\n",
              "       [     6040,      1096,         4, 956715648],\n",
              "       [     6040,      1097,         4, 956715569]])"
            ]
          },
          "execution_count": 3,
          "metadata": {},
          "output_type": "execute_result"
        }
      ],
      "source": [
        "# Reading ratings file\n",
        "r_cols = ['user_id', 'movie_id', 'rating', 'unix_timestamp']\n",
        "\n",
        "ratings_base = pd.read_csv('/Applications/codingforlife/semester4/ML/project/MachineLearning/dataset/ratings.dat', sep='::', names=r_cols, encoding='latin-1', engine='python')\n",
        "ratings = ratings_base.to_numpy()\n",
        "rate_train, rate_test = train_test_split(ratings, test_size=0.1, stratify=ratings[:,0])\n",
        "ratings"
      ]
    },
    {
      "cell_type": "code",
      "execution_count": 4,
      "metadata": {
        "id": "M-mTCvMCrJR4"
      },
      "outputs": [],
      "source": [
        "mean = np.array([np.mean(ratings[:,2][ratings[:,0]==1]) for i in range(n_users)])"
      ]
    },
    {
      "cell_type": "code",
      "execution_count": 6,
      "metadata": {
        "colab": {
          "base_uri": "https://localhost:8080/"
        },
        "id": "LWaefN-cnFpI",
        "outputId": "b7cf5cc7-003b-425d-a633-65c828028d54"
      },
      "outputs": [
        {
          "data": {
            "text/plain": [
              "3952"
            ]
          },
          "execution_count": 6,
          "metadata": {},
          "output_type": "execute_result"
        }
      ],
      "source": [
        "# Reading movies file\n",
        "i_cols = ['movie id', 'movie title', 'genres']\n",
        "movies = pd.read_csv('/Applications/codingforlife/semester4/ML/project/MachineLearning/dataset/movies.dat', sep='::', names=i_cols, encoding='latin-1', engine='python')\n",
        "genres_columns = movies['genres'].str.get_dummies(sep='|')\n",
        "movies = pd.concat([movies, genres_columns], axis=1)\n",
        "movies = movies.drop('genres', axis=1)\n",
        "n_movies = max(movies['movie id'])\n",
        "n_movies"
      ]
    },
    {
      "cell_type": "markdown",
      "metadata": {
        "id": "iw7wfwl8oQY2"
      },
      "source": [
        "Handle missing data"
      ]
    },
    {
      "cell_type": "code",
      "execution_count": 7,
      "metadata": {
        "id": "S6GwqCT0nFpJ"
      },
      "outputs": [],
      "source": [
        "#Find and insert missing data to the dataframe with: movie title = 'XXX' and all values in genre column = '0'\n",
        "existing_ids = movies['movie id'].tolist()\n",
        "missing_ids = [id for id in range(1, max(existing_ids) + 1) if id not in existing_ids]\n",
        "missing_data = pd.DataFrame({'movie id': missing_ids, 'movie title': 'XXX'})\n",
        "missing_data = pd.concat([missing_data, pd.DataFrame(0, index=np.arange(len(missing_data)), columns=genres_columns.columns)], axis=1)\n",
        "movies = pd.concat([movies, missing_data], ignore_index=True)\n"
      ]
    },
    {
      "cell_type": "markdown",
      "metadata": {
        "id": "ny_uwU1ZoHnd"
      },
      "source": [
        "# Prediction\n"
      ]
    },
    {
      "cell_type": "code",
      "execution_count": 8,
      "metadata": {
        "colab": {
          "base_uri": "https://localhost:8080/"
        },
        "id": "tVjCqgx9nFpJ",
        "outputId": "f30ace06-cc19-4261-d1b3-27741966b9b7"
      },
      "outputs": [
        {
          "data": {
            "text/plain": [
              "array([[0, 0, 1, ..., 0, 0, 0],\n",
              "       [0, 1, 0, ..., 0, 0, 0],\n",
              "       [0, 0, 0, ..., 0, 0, 0],\n",
              "       ...,\n",
              "       [0, 0, 0, ..., 0, 0, 0],\n",
              "       [0, 0, 0, ..., 0, 0, 0],\n",
              "       [0, 0, 0, ..., 0, 0, 0]], dtype=object)"
            ]
          },
          "execution_count": 8,
          "metadata": {},
          "output_type": "execute_result"
        }
      ],
      "source": [
        "#Since we rely on the movie genre to build our profile, we'll only be interested in the 18 binary values at the end of each row:\n",
        "genre = 18\n",
        "X0 = movies.to_numpy()\n",
        "X_train_counts = X0[:, -genre:]\n",
        "X_train_counts"
      ]
    },
    {
      "cell_type": "code",
      "execution_count": 9,
      "metadata": {
        "id": "mlgQPKRznFpJ"
      },
      "outputs": [],
      "source": [
        "#tfidf\n",
        "from sklearn.feature_extraction.text import TfidfTransformer\n",
        "transformer = TfidfTransformer(smooth_idf=True, norm ='l2')\n",
        "tfidf = transformer.fit_transform(X_train_counts.tolist()).toarray()\n",
        "\n",
        "\n",
        "def get_items_rated_by_user(rate_matrix, user_id):\n",
        "    y = rate_matrix[:,0]\n",
        "    ids = np.where(y == user_id +1)[0]\n",
        "    item_ids = rate_matrix[ids, 1] - 1\n",
        "    scores = rate_matrix[ids, 2]\n",
        "    item_ids = item_ids[np.argsort(scores)]\n",
        "    scores = sorted(scores)\n",
        "    return (item_ids[::-1], scores[::-1])\n",
        "\n",
        "d = tfidf.shape[1] # data dimension\n",
        "W = np.zeros((d, n_users))\n",
        "b = np.zeros((1, n_users))\n",
        "\n",
        "\n"
      ]
    },
    {
      "cell_type": "code",
      "execution_count": 10,
      "metadata": {
        "id": "n4382TY6nFpJ"
      },
      "outputs": [],
      "source": [
        "def predict(alpha):\n",
        "    for n in range(n_users):\n",
        "        ids, scores = get_items_rated_by_user(rate_train, n)\n",
        "        clf = Ridge(alpha=alpha, fit_intercept  = True)\n",
        "        Xhat = tfidf[ids, :]\n",
        "\n",
        "        clf.fit(Xhat, scores)\n",
        "        W[:, n] = clf.coef_\n",
        "        b[0, n] = clf.intercept_\n",
        "    #Predicted scores\n",
        "    Yhat = tfidf.dot(W) + b\n",
        "    return Yhat"
      ]
    },
    {
      "cell_type": "markdown",
      "metadata": {
        "id": "t8fBNFocnODn"
      },
      "source": [
        "# Evaluate model"
      ]
    },
    {
      "cell_type": "code",
      "execution_count": 11,
      "metadata": {
        "id": "mp-4mmTonFpJ"
      },
      "outputs": [],
      "source": [
        "def RMSE(Y, rates):\n",
        "    se = 0\n",
        "    cnt = 0\n",
        "    for n in range(n_users):\n",
        "        ids, scores_truth = get_items_rated_by_user(rates, n)\n",
        "        scores_pred = Y[ids, n]\n",
        "        e = scores_truth - scores_pred\n",
        "        se += (e*e).sum(axis = 0)\n",
        "        cnt += e.size\n",
        "    return math.sqrt(se/cnt)"
      ]
    },
    {
      "cell_type": "code",
      "execution_count": 12,
      "metadata": {
        "id": "daJS3Fz2qGHp"
      },
      "outputs": [],
      "source": [
        "def MAE(Y, rates):\n",
        "    se = 0\n",
        "    cnt = 0\n",
        "    for n in range(n_users):\n",
        "        ids, scores_truth = get_items_rated_by_user(rates, n)\n",
        "        scores_pred = Y[ids, n]\n",
        "        e = abs(scores_truth - scores_pred )\n",
        "        se += e.sum(axis = 0)\n",
        "        cnt += e.size\n",
        "    return math.sqrt(se/cnt)"
      ]
    },
    {
      "cell_type": "code",
      "execution_count": 13,
      "metadata": {
        "id": "qIbFqtXTnFpK"
      },
      "outputs": [],
      "source": [
        "def metrics(n, rate_test):\n",
        "    # rate_test = rate_test[:n]\n",
        "    tp=0\n",
        "    tp_fp=0\n",
        "    tp_fn=0\n",
        "    precision = 0\n",
        "    recall = 0\n",
        "    f1 = 0\n",
        "    para = 0.05\n",
        "    for r in rate_test:\n",
        "        trueRate = r[2]-mean[r[0]-1]\n",
        "        predictRate = Yhat[r[1]-1,r[0]-1]-mean[r[0]-1]\n",
        "        if predictRate>para:\n",
        "            tp_fp+=1\n",
        "        if trueRate>para:\n",
        "            tp_fn += 1\n",
        "            if predictRate>para:\n",
        "                tp+=1\n",
        "    if tp_fp!=0:\n",
        "        precision = tp/tp_fp\n",
        "    if tp_fn!=0:\n",
        "        recall = tp/tp_fn\n",
        "    if precision+recall != 0:\n",
        "        f1 = 2* precision * recall/(precision+recall)\n",
        "    # print('Precision    :', precision)\n",
        "    # print('Reacll       :', recall)\n",
        "    # print('NDCG         :', NDCG)\n",
        "    return (precision, recall, f1)"
      ]
    },
    {
      "cell_type": "code",
      "execution_count": 14,
      "metadata": {
        "id": "1AvEPtpZymgg"
      },
      "outputs": [],
      "source": [
        "def metrics(Y):\n",
        "    tp=0\n",
        "    tp_fp=0\n",
        "    tp_fn=0\n",
        "    para = 0.05\n",
        "    for r in rate_test:\n",
        "        trueRate = r[2]-mean[r[0]-1]\n",
        "        predictRate = Y[r[1]-1,r[0]-1]-mean[r[0]-1]\n",
        "        if predictRate>para:\n",
        "            tp_fp+=1\n",
        "        if trueRate>para:\n",
        "            tp_fn += 1\n",
        "            if predictRate>para:\n",
        "                tp+=1\n",
        "    precision = tp/tp_fp\n",
        "    recall = tp/tp_fn\n",
        "    f1 = 2*precision*recall/(precision+recall)\n",
        "    return (precision, recall,f1)"
      ]
    },
    {
      "cell_type": "code",
      "execution_count": 15,
      "metadata": {
        "id": "9gJxHukYdmHR"
      },
      "outputs": [],
      "source": [
        "def NDCG(Y):\n",
        "    rcm_movie_test = np.argsort(-(user_item_test))\n",
        "    rcm_movie = np.argsort(Y.T)\n",
        "    ndcg=[]\n",
        "    for u in range(n_users):\n",
        "        dcg=0\n",
        "        idcg=0\n",
        "        rcm_test = rcm_movie_test[u][np.in1d(rcm_movie_test[u], np.argwhere(~np.isnan(user_item_test[u])))]\n",
        "        rcm = rcm_movie[u][np.in1d(rcm_movie[u], rcm_test)]\n",
        "        for i in range(len(rcm)):\n",
        "            dcg += (2**user_item_test[u][rcm[i]]-1)/math.log(i+2, 2)\n",
        "            idcg += (2**user_item_test[u][rcm_test[i]]-1)/math.log(i+2, 2)\n",
        "        ndcg.append(dcg/idcg)\n",
        "    return np.mean(ndcg)"
      ]
    },
    {
      "cell_type": "code",
      "execution_count": null,
      "metadata": {},
      "outputs": [],
      "source": [
        "def MAP"
      ]
    },
    {
      "cell_type": "code",
      "execution_count": 16,
      "metadata": {
        "colab": {
          "base_uri": "https://localhost:8080/"
        },
        "id": "c1iVoBo2vo-o",
        "outputId": "85fa3205-9866-4a18-b9ca-457c451564dc"
      },
      "outputs": [
        {
          "ename": "NameError",
          "evalue": "name 'rcm_movie' is not defined",
          "output_type": "error",
          "traceback": [
            "\u001b[0;31m---------------------------------------------------------------------------\u001b[0m",
            "\u001b[0;31mNameError\u001b[0m                                 Traceback (most recent call last)",
            "Cell \u001b[0;32mIn[16], line 2\u001b[0m\n\u001b[1;32m      1\u001b[0m c \u001b[39m=\u001b[39m \u001b[39m0\u001b[39m\n\u001b[0;32m----> 2\u001b[0m \u001b[39mfor\u001b[39;00m i \u001b[39min\u001b[39;00m rcm_movie[\u001b[39m0\u001b[39m]:\n\u001b[1;32m      3\u001b[0m     \u001b[39mif\u001b[39;00m \u001b[39mnot\u001b[39;00m np\u001b[39m.\u001b[39misnan(user_item_test[\u001b[39m0\u001b[39m][i]):\n\u001b[1;32m      4\u001b[0m         \u001b[39mif\u001b[39;00m i \u001b[39min\u001b[39;00m rcm_movie_test[\u001b[39m0\u001b[39m]:\n",
            "\u001b[0;31mNameError\u001b[0m: name 'rcm_movie' is not defined"
          ]
        }
      ],
      "source": [
        "c = 0\n",
        "for i in rcm_movie[0]:\n",
        "    if not np.isnan(user_item_test[0][i]):\n",
        "        if i in rcm_movie_test[0]:\n",
        "            c+=1\n",
        "\n",
        "c/len(rcm_movie[0][:100])"
      ]
    },
    {
      "cell_type": "code",
      "execution_count": 17,
      "metadata": {
        "colab": {
          "base_uri": "https://localhost:8080/"
        },
        "id": "7QFBEebKqTpy",
        "outputId": "2eca3486-b85c-4b49-ffa4-ad45ef0db5c5"
      },
      "outputs": [
        {
          "data": {
            "text/plain": [
              "array([[nan, nan, nan, ..., nan, nan, nan],\n",
              "       [nan, nan, nan, ..., nan, nan, nan],\n",
              "       [nan, nan, nan, ..., nan, nan, nan],\n",
              "       ...,\n",
              "       [nan, nan, nan, ..., nan, nan, nan],\n",
              "       [nan, nan, nan, ..., nan, nan, nan],\n",
              "       [ 3., nan, nan, ..., nan, nan, nan]])"
            ]
          },
          "execution_count": 17,
          "metadata": {},
          "output_type": "execute_result"
        }
      ],
      "source": [
        "user_item = np.full((n_users,n_movies),np.nan)\n",
        "for r in rate_train:\n",
        "    user_item[r[0]-1][r[1]-1] = r[2]\n",
        "\n",
        "user_item_test = np.full((n_users,n_movies),np.nan)\n",
        "for r in rate_test:\n",
        "    user_item_test[r[0]-1][r[1]-1] = r[2]\n",
        "user_item_test"
      ]
    },
    {
      "cell_type": "code",
      "execution_count": null,
      "metadata": {
        "id": "pv-9hdFX_y0u"
      },
      "outputs": [],
      "source": [
        "rmse_train = []\n",
        "rmse_test =[]\n",
        "mae_train=[]\n",
        "mae_test=[]\n",
        "precision=[]\n",
        "recall=[]\n",
        "f1=[]\n",
        "ndcg=[]\n",
        "\n",
        "iteration_list = [0.001, 0.005, 0.01, 0.05, 0.1, 0.5, 1, 5, 10, 15, 30, 50]\n",
        "\n",
        "for a in iteration_list:\n",
        "    Yhat = predict(a)\n",
        "    rmse_train.append(RMSE(Yhat, rate_train))\n",
        "    rmse_test.append(RMSE(Yhat, rate_test))\n",
        "    mae_train.append(MAE(Yhat, rate_train))\n",
        "    mae_test.append(MAE(Yhat, rate_test))\n",
        "    metric = metrics(Yhat)\n",
        "    precision.append(metric[0])\n",
        "    recall.append(metric[1])\n",
        "    f1.append(metric[2])\n",
        "    ndcg.append(NDCG(Yhat))\n"
      ]
    },
    {
      "cell_type": "code",
      "execution_count": null,
      "metadata": {
        "colab": {
          "base_uri": "https://localhost:8080/",
          "height": 529
        },
        "id": "v586qJcZBsBS",
        "outputId": "a2886808-9b4a-475d-dde5-8103f749afe5"
      },
      "outputs": [
        {
          "name": "stdout",
          "output_type": "stream",
          "text": [
            "RMSE:  [0.9691241066374477, 0.9691490211409759, 0.9691957754014381, 0.9696862441287881, 0.9703170077231283, 0.9745617208303555, 0.9785319495128438, 0.9939258293325526, 1.0019732130047845, 1.006513076646754, 1.0134038301652961, 1.0175267972319064]\n",
            "RMSE:  [1.1143806520506758, 1.110949021289559, 1.1081959072585341, 1.0975896481154805, 1.09122098908329, 1.073024150820189, 1.0644143045814434, 1.0468452100712806, 1.0416925096615797, 1.0394837843100053, 1.0369315739107745, 1.0358371263200543]\n"
          ]
        },
        {
          "data": {
            "image/png": "[encoded data removed]",
            "text/plain": [
              "<Figure size 640x480 with 1 Axes>"
            ]
          },
          "metadata": {},
          "output_type": "display_data"
        }
      ],
      "source": [
        "import matplotlib.pyplot as plt\n",
        "from importlib import reload\n",
        "print(\"RMSE: \",rmse_train)\n",
        "print(\"RMSE: \",rmse_test)\n",
        "plt=reload(plt)\n",
        "plt.plot(iteration_list, rmse_train, label = 'Train')\n",
        "plt.plot(iteration_list, rmse_test, label = 'Test')\n",
        "plt.xlabel('lambda')\n",
        "plt.title('RMSE')\n",
        "plt.legend()\n",
        "plt.show()"
      ]
    },
    {
      "cell_type": "code",
      "execution_count": null,
      "metadata": {
        "colab": {
          "base_uri": "https://localhost:8080/",
          "height": 893
        },
        "id": "a9jiq-AjBvLx",
        "outputId": "37448b7c-aef4-443d-ee39-3847d03ba5ec"
      },
      "outputs": [
        {
          "name": "stdout",
          "output_type": "stream",
          "text": [
            "Precision:  [0.4092375772102886, 0.409292444116017, 0.4095326237852846, 0.41111530477448577, 0.41468330134357007, 0.42570532915360504, 0.4384815275110157, 0.4852963128825198, 0.5056368837287565, 0.5124933545986178, 0.525112443778111, 0.5348125478194338]\n",
            "Recall:  [0.19693877551020408, 0.19658385093167702, 0.1963176574977817, 0.1933007985803017, 0.1917036379769299, 0.18074534161490682, 0.17218278615794144, 0.14423247559893523, 0.13331854480922803, 0.12830523513753328, 0.12431233362910382, 0.12404614019520852]\n",
            "F1:  []\n"
          ]
        },
        {
          "ename": "ValueError",
          "evalue": "ignored",
          "output_type": "error",
          "traceback": [
            "\u001b[0;31m---------------------------------------------------------------------------\u001b[0m",
            "\u001b[0;31mValueError\u001b[0m                                Traceback (most recent call last)",
            "\u001b[0;32m<ipython-input-28-d260c15b4dee>\u001b[0m in \u001b[0;36m<cell line: 5>\u001b[0;34m()\u001b[0m\n\u001b[1;32m      3\u001b[0m \u001b[0mprint\u001b[0m\u001b[0;34m(\u001b[0m\u001b[0;34m\"F1: \"\u001b[0m\u001b[0;34m,\u001b[0m\u001b[0mf1\u001b[0m\u001b[0;34m)\u001b[0m\u001b[0;34m\u001b[0m\u001b[0;34m\u001b[0m\u001b[0m\n\u001b[1;32m      4\u001b[0m \u001b[0mplt\u001b[0m\u001b[0;34m=\u001b[0m\u001b[0mreload\u001b[0m\u001b[0;34m(\u001b[0m\u001b[0mplt\u001b[0m\u001b[0;34m)\u001b[0m\u001b[0;34m\u001b[0m\u001b[0;34m\u001b[0m\u001b[0m\n\u001b[0;32m----> 5\u001b[0;31m \u001b[0mplt\u001b[0m\u001b[0;34m.\u001b[0m\u001b[0mplot\u001b[0m\u001b[0;34m(\u001b[0m\u001b[0mneighbors\u001b[0m\u001b[0;34m,\u001b[0m \u001b[0mprecision\u001b[0m\u001b[0;34m,\u001b[0m \u001b[0mlabel\u001b[0m \u001b[0;34m=\u001b[0m \u001b[0;34m'Precision'\u001b[0m\u001b[0;34m)\u001b[0m\u001b[0;34m\u001b[0m\u001b[0;34m\u001b[0m\u001b[0m\n\u001b[0m\u001b[1;32m      6\u001b[0m \u001b[0mplt\u001b[0m\u001b[0;34m.\u001b[0m\u001b[0mplot\u001b[0m\u001b[0;34m(\u001b[0m\u001b[0mneighbors\u001b[0m\u001b[0;34m,\u001b[0m \u001b[0mrecall\u001b[0m\u001b[0;34m,\u001b[0m \u001b[0mlabel\u001b[0m \u001b[0;34m=\u001b[0m\u001b[0;34m'Recall'\u001b[0m\u001b[0;34m)\u001b[0m\u001b[0;34m\u001b[0m\u001b[0;34m\u001b[0m\u001b[0m\n\u001b[1;32m      7\u001b[0m \u001b[0mplt\u001b[0m\u001b[0;34m.\u001b[0m\u001b[0mplot\u001b[0m\u001b[0;34m(\u001b[0m\u001b[0mneighbors\u001b[0m\u001b[0;34m,\u001b[0m \u001b[0mf1\u001b[0m\u001b[0;34m,\u001b[0m\u001b[0mlabel\u001b[0m\u001b[0;34m=\u001b[0m\u001b[0;34m'F1'\u001b[0m\u001b[0;34m)\u001b[0m\u001b[0;34m\u001b[0m\u001b[0;34m\u001b[0m\u001b[0m\n",
            "\u001b[0;32m/usr/local/lib/python3.10/dist-packages/matplotlib/pyplot.py\u001b[0m in \u001b[0;36mplot\u001b[0;34m(scalex, scaley, data, *args, **kwargs)\u001b[0m\n\u001b[1;32m   2810\u001b[0m \u001b[0;34m@\u001b[0m\u001b[0m_copy_docstring_and_deprecators\u001b[0m\u001b[0;34m(\u001b[0m\u001b[0mAxes\u001b[0m\u001b[0;34m.\u001b[0m\u001b[0mplot\u001b[0m\u001b[0;34m)\u001b[0m\u001b[0;34m\u001b[0m\u001b[0;34m\u001b[0m\u001b[0m\n\u001b[1;32m   2811\u001b[0m \u001b[0;32mdef\u001b[0m \u001b[0mplot\u001b[0m\u001b[0;34m(\u001b[0m\u001b[0;34m*\u001b[0m\u001b[0margs\u001b[0m\u001b[0;34m,\u001b[0m \u001b[0mscalex\u001b[0m\u001b[0;34m=\u001b[0m\u001b[0;32mTrue\u001b[0m\u001b[0;34m,\u001b[0m \u001b[0mscaley\u001b[0m\u001b[0;34m=\u001b[0m\u001b[0;32mTrue\u001b[0m\u001b[0;34m,\u001b[0m \u001b[0mdata\u001b[0m\u001b[0;34m=\u001b[0m\u001b[0;32mNone\u001b[0m\u001b[0;34m,\u001b[0m \u001b[0;34m**\u001b[0m\u001b[0mkwargs\u001b[0m\u001b[0;34m)\u001b[0m\u001b[0;34m:\u001b[0m\u001b[0;34m\u001b[0m\u001b[0;34m\u001b[0m\u001b[0m\n\u001b[0;32m-> 2812\u001b[0;31m     return gca().plot(\n\u001b[0m\u001b[1;32m   2813\u001b[0m         \u001b[0;34m*\u001b[0m\u001b[0margs\u001b[0m\u001b[0;34m,\u001b[0m \u001b[0mscalex\u001b[0m\u001b[0;34m=\u001b[0m\u001b[0mscalex\u001b[0m\u001b[0;34m,\u001b[0m \u001b[0mscaley\u001b[0m\u001b[0;34m=\u001b[0m\u001b[0mscaley\u001b[0m\u001b[0;34m,\u001b[0m\u001b[0;34m\u001b[0m\u001b[0;34m\u001b[0m\u001b[0m\n\u001b[1;32m   2814\u001b[0m         **({\"data\": data} if data is not None else {}), **kwargs)\n",
            "\u001b[0;32m/usr/local/lib/python3.10/dist-packages/matplotlib/axes/_axes.py\u001b[0m in \u001b[0;36mplot\u001b[0;34m(self, scalex, scaley, data, *args, **kwargs)\u001b[0m\n\u001b[1;32m   1686\u001b[0m         \"\"\"\n\u001b[1;32m   1687\u001b[0m         \u001b[0mkwargs\u001b[0m \u001b[0;34m=\u001b[0m \u001b[0mcbook\u001b[0m\u001b[0;34m.\u001b[0m\u001b[0mnormalize_kwargs\u001b[0m\u001b[0;34m(\u001b[0m\u001b[0mkwargs\u001b[0m\u001b[0;34m,\u001b[0m \u001b[0mmlines\u001b[0m\u001b[0;34m.\u001b[0m\u001b[0mLine2D\u001b[0m\u001b[0;34m)\u001b[0m\u001b[0;34m\u001b[0m\u001b[0;34m\u001b[0m\u001b[0m\n\u001b[0;32m-> 1688\u001b[0;31m         \u001b[0mlines\u001b[0m \u001b[0;34m=\u001b[0m \u001b[0;34m[\u001b[0m\u001b[0;34m*\u001b[0m\u001b[0mself\u001b[0m\u001b[0;34m.\u001b[0m\u001b[0m_get_lines\u001b[0m\u001b[0;34m(\u001b[0m\u001b[0;34m*\u001b[0m\u001b[0margs\u001b[0m\u001b[0;34m,\u001b[0m \u001b[0mdata\u001b[0m\u001b[0;34m=\u001b[0m\u001b[0mdata\u001b[0m\u001b[0;34m,\u001b[0m \u001b[0;34m**\u001b[0m\u001b[0mkwargs\u001b[0m\u001b[0;34m)\u001b[0m\u001b[0;34m]\u001b[0m\u001b[0;34m\u001b[0m\u001b[0;34m\u001b[0m\u001b[0m\n\u001b[0m\u001b[1;32m   1689\u001b[0m         \u001b[0;32mfor\u001b[0m \u001b[0mline\u001b[0m \u001b[0;32min\u001b[0m \u001b[0mlines\u001b[0m\u001b[0;34m:\u001b[0m\u001b[0;34m\u001b[0m\u001b[0;34m\u001b[0m\u001b[0m\n\u001b[1;32m   1690\u001b[0m             \u001b[0mself\u001b[0m\u001b[0;34m.\u001b[0m\u001b[0madd_line\u001b[0m\u001b[0;34m(\u001b[0m\u001b[0mline\u001b[0m\u001b[0;34m)\u001b[0m\u001b[0;34m\u001b[0m\u001b[0;34m\u001b[0m\u001b[0m\n",
            "\u001b[0;32m/usr/local/lib/python3.10/dist-packages/matplotlib/axes/_base.py\u001b[0m in \u001b[0;36m__call__\u001b[0;34m(self, data, *args, **kwargs)\u001b[0m\n\u001b[1;32m    309\u001b[0m                 \u001b[0mthis\u001b[0m \u001b[0;34m+=\u001b[0m \u001b[0margs\u001b[0m\u001b[0;34m[\u001b[0m\u001b[0;36m0\u001b[0m\u001b[0;34m]\u001b[0m\u001b[0;34m,\u001b[0m\u001b[0;34m\u001b[0m\u001b[0;34m\u001b[0m\u001b[0m\n\u001b[1;32m    310\u001b[0m                 \u001b[0margs\u001b[0m \u001b[0;34m=\u001b[0m \u001b[0margs\u001b[0m\u001b[0;34m[\u001b[0m\u001b[0;36m1\u001b[0m\u001b[0;34m:\u001b[0m\u001b[0;34m]\u001b[0m\u001b[0;34m\u001b[0m\u001b[0;34m\u001b[0m\u001b[0m\n\u001b[0;32m--> 311\u001b[0;31m             yield from self._plot_args(\n\u001b[0m\u001b[1;32m    312\u001b[0m                 this, kwargs, ambiguous_fmt_datakey=ambiguous_fmt_datakey)\n\u001b[1;32m    313\u001b[0m \u001b[0;34m\u001b[0m\u001b[0m\n",
            "\u001b[0;32m/usr/local/lib/python3.10/dist-packages/matplotlib/axes/_base.py\u001b[0m in \u001b[0;36m_plot_args\u001b[0;34m(self, tup, kwargs, return_kwargs, ambiguous_fmt_datakey)\u001b[0m\n\u001b[1;32m    502\u001b[0m \u001b[0;34m\u001b[0m\u001b[0m\n\u001b[1;32m    503\u001b[0m         \u001b[0;32mif\u001b[0m \u001b[0mx\u001b[0m\u001b[0;34m.\u001b[0m\u001b[0mshape\u001b[0m\u001b[0;34m[\u001b[0m\u001b[0;36m0\u001b[0m\u001b[0;34m]\u001b[0m \u001b[0;34m!=\u001b[0m \u001b[0my\u001b[0m\u001b[0;34m.\u001b[0m\u001b[0mshape\u001b[0m\u001b[0;34m[\u001b[0m\u001b[0;36m0\u001b[0m\u001b[0;34m]\u001b[0m\u001b[0;34m:\u001b[0m\u001b[0;34m\u001b[0m\u001b[0;34m\u001b[0m\u001b[0m\n\u001b[0;32m--> 504\u001b[0;31m             raise ValueError(f\"x and y must have same first dimension, but \"\n\u001b[0m\u001b[1;32m    505\u001b[0m                              f\"have shapes {x.shape} and {y.shape}\")\n\u001b[1;32m    506\u001b[0m         \u001b[0;32mif\u001b[0m \u001b[0mx\u001b[0m\u001b[0;34m.\u001b[0m\u001b[0mndim\u001b[0m \u001b[0;34m>\u001b[0m \u001b[0;36m2\u001b[0m \u001b[0;32mor\u001b[0m \u001b[0my\u001b[0m\u001b[0;34m.\u001b[0m\u001b[0mndim\u001b[0m \u001b[0;34m>\u001b[0m \u001b[0;36m2\u001b[0m\u001b[0;34m:\u001b[0m\u001b[0;34m\u001b[0m\u001b[0;34m\u001b[0m\u001b[0m\n",
            "\u001b[0;31mValueError\u001b[0m: x and y must have same first dimension, but have shapes (4,) and (12,)"
          ]
        },
        {
          "data": {
            "image/png": "[encoded data removed]",
            "text/plain": [
              "<Figure size 640x480 with 1 Axes>"
            ]
          },
          "metadata": {},
          "output_type": "display_data"
        }
      ],
      "source": [
        "print(\"Precision: \",precision)\n",
        "print(\"Recall: \",recall)\n",
        "print(\"F1: \",f1)\n",
        "plt=reload(plt)\n",
        "plt.plot(neighbors, precision, label = 'Precision')\n",
        "plt.plot(neighbors, recall, label ='Recall')\n",
        "plt.plot(neighbors, f1,label='F1')\n",
        "plt.xlabel('Number of movies')\n",
        "# plt.title('Precision')\n",
        "plt.legend()\n",
        "plt.show()"
      ]
    },
    {
      "cell_type": "code",
      "execution_count": null,
      "metadata": {
        "id": "9dDsNUfSB_Pp"
      },
      "outputs": [],
      "source": [
        "print(\"Recall: \",recall)\n",
        "plt=reload(plt)\n",
        "plt.plot(iteration_list, recall)\n",
        "plt.xlabel('lambda')\n",
        "plt.title('Recall')\n",
        "plt.show()"
      ]
    },
    {
      "cell_type": "code",
      "execution_count": null,
      "metadata": {
        "id": "9osRFmnXH8tE"
      },
      "outputs": [],
      "source": []
    }
  ],
  "metadata": {
    "colab": {
      "provenance": []
    },
    "kernelspec": {
      "display_name": "Python 3",
      "language": "python",
      "name": "python3"
    },
    "language_info": {
      "codemirror_mode": {
        "name": "ipython",
        "version": 3
      },
      "file_extension": ".py",
      "mimetype": "text/x-python",
      "name": "python",
      "nbconvert_exporter": "python",
      "pygments_lexer": "ipython3",
      "version": "3.9.6"
    },
    "orig_nbformat": 4
  },
  "nbformat": 4,
  "nbformat_minor": 0
}
