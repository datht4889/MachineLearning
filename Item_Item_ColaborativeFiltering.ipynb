{
 "cells": [
  {
   "cell_type": "code",
   "execution_count": 10,
   "metadata": {},
   "outputs": [
    {
     "name": "stderr",
     "output_type": "stream",
     "text": [
      "C:\\Users\\AD\\AppData\\Local\\Temp\\ipykernel_11328\\3636731997.py:9: ParserWarning: Falling back to the 'python' engine because the 'c' engine does not support regex separators (separators > 1 char and different from '\\s+' are interpreted as regex); you can avoid this warning by specifying engine='python'.\n",
      "  users=pd.read_csv(r'C:\\Users\\AD\\Desktop\\Linhtinh\\users.dat',sep=\"::\")\n",
      "C:\\Users\\AD\\AppData\\Local\\Temp\\ipykernel_11328\\3636731997.py:10: ParserWarning: Falling back to the 'python' engine because the 'c' engine does not support regex separators (separators > 1 char and different from '\\s+' are interpreted as regex); you can avoid this warning by specifying engine='python'.\n",
      "  movies=pd.read_csv(r'C:\\Users\\AD\\Desktop\\Linhtinh\\movies.dat',sep=\"::\")\n",
      "C:\\Users\\AD\\AppData\\Local\\Temp\\ipykernel_11328\\3636731997.py:11: ParserWarning: Falling back to the 'python' engine because the 'c' engine does not support regex separators (separators > 1 char and different from '\\s+' are interpreted as regex); you can avoid this warning by specifying engine='python'.\n",
      "  ratings=pd.read_csv(r'C:\\Users\\AD\\Desktop\\Linhtinh\\ratings.dat',sep=\"::\")\n"
     ]
    }
   ],
   "source": [
    "import pandas as pd\n",
    "import numpy as np\n",
    "from sklearn.model_selection import train_test_split\n",
    "import math\n",
    "\n",
    "# Test\n",
    "# ratings=pd.read_csv(r'C:\\Users\\AD\\Desktop\\Linhtinh\\miniRating.csv')\n",
    "\n",
    "users=pd.read_csv(r'C:\\Users\\AD\\Desktop\\Linhtinh\\users.dat',sep=\"::\",names=['UserID','Gender','Age','Occupation','Zip-code'])\n",
    "movies=pd.read_csv(r'C:\\Users\\AD\\Desktop\\Linhtinh\\movies.dat',sep=\"::\",names=['cache_dates=MovieID','Title','Genres'])\n",
    "ratings=pd.read_csv(r'C:\\Users\\AD\\Desktop\\Linhtinh\\ratings.dat',sep=\"::\"names=['UserID','MovieID','Rating','Timestamp'])\n",
    "# movies=pd.read_csv(r'C:\\Users\\AD\\Desktop\\Linhtinh\\movies.csv')\n",
    "# ratings=pd.read_csv(r'C:\\Users\\AD\\Desktop\\Linhtinh\\ratings.csv')\n",
    "# print(users.head())\n",
    "# print(movies.head())\n",
    "# print(ratings.head())"
   ]
  },
  {
   "cell_type": "code",
   "execution_count": 11,
   "metadata": {},
   "outputs": [
    {
     "data": {
      "text/html": [
       "<div>\n",
       "<style scoped>\n",
       "    .dataframe tbody tr th:only-of-type {\n",
       "        vertical-align: middle;\n",
       "    }\n",
       "\n",
       "    .dataframe tbody tr th {\n",
       "        vertical-align: top;\n",
       "    }\n",
       "\n",
       "    .dataframe thead th {\n",
       "        text-align: right;\n",
       "    }\n",
       "</style>\n",
       "<table border=\"1\" class=\"dataframe\">\n",
       "  <thead>\n",
       "    <tr style=\"text-align: right;\">\n",
       "      <th></th>\n",
       "      <th>UserID</th>\n",
       "      <th>MovieID</th>\n",
       "      <th>Rating</th>\n",
       "      <th>Timestamp</th>\n",
       "    </tr>\n",
       "  </thead>\n",
       "  <tbody>\n",
       "    <tr>\n",
       "      <th>11801</th>\n",
       "      <td>92</td>\n",
       "      <td>661</td>\n",
       "      <td>1</td>\n",
       "      <td>986187347</td>\n",
       "    </tr>\n",
       "    <tr>\n",
       "      <th>539662</th>\n",
       "      <td>3320</td>\n",
       "      <td>733</td>\n",
       "      <td>4</td>\n",
       "      <td>968522085</td>\n",
       "    </tr>\n",
       "    <tr>\n",
       "      <th>404360</th>\n",
       "      <td>2419</td>\n",
       "      <td>921</td>\n",
       "      <td>4</td>\n",
       "      <td>974247742</td>\n",
       "    </tr>\n",
       "    <tr>\n",
       "      <th>185118</th>\n",
       "      <td>1150</td>\n",
       "      <td>2678</td>\n",
       "      <td>1</td>\n",
       "      <td>974874113</td>\n",
       "    </tr>\n",
       "    <tr>\n",
       "      <th>69902</th>\n",
       "      <td>471</td>\n",
       "      <td>1215</td>\n",
       "      <td>3</td>\n",
       "      <td>976225070</td>\n",
       "    </tr>\n",
       "  </tbody>\n",
       "</table>\n",
       "</div>"
      ],
      "text/plain": [
       "        UserID  MovieID  Rating  Timestamp\n",
       "11801       92      661       1  986187347\n",
       "539662    3320      733       4  968522085\n",
       "404360    2419      921       4  974247742\n",
       "185118    1150     2678       1  974874113\n",
       "69902      471     1215       3  976225070"
      ]
     },
     "execution_count": 11,
     "metadata": {},
     "output_type": "execute_result"
    }
   ],
   "source": [
    "\n",
    "u=len(users)\n",
    "m=max(movies[\"MovieID\"])\n",
    "# Test\n",
    "# u=7\n",
    "# m=5\n",
    "\n",
    "# user_item=np.array([[5,5,2,0,1,np.nan,np.nan],\n",
    "#                   [4,np.nan,np.nan,0,np.nan,2,np.nan],\n",
    "#                   [np.nan,4,1,np.nan,np.nan,1,1],\n",
    "#                   [2,2,3,4,4,np.nan,4],\n",
    "#                   [2,0,4,np.nan,np.nan,np.nan,5]])\n",
    "# not_seen=np.argwhere(np.isnan(user_item))\n",
    "# print(not_seen)\n",
    "# r_train=ratings\n",
    "# user_item=np.array([[np.nan for i in range(u)] for j in range(m)])\n",
    "user_item=np.full((m,u),np.nan)\n",
    "r_train,r_test=train_test_split(ratings,test_size=0.1,stratify=ratings['UserID'])\n",
    "\n",
    "r_train.head()"
   ]
  },
  {
   "cell_type": "code",
   "execution_count": 12,
   "metadata": {},
   "outputs": [
    {
     "data": {
      "text/plain": [
       "array([[ 5., nan, nan, ..., nan, nan,  3.],\n",
       "       [nan, nan, nan, ..., nan, nan, nan],\n",
       "       [nan, nan, nan, ..., nan, nan, nan],\n",
       "       ...,\n",
       "       [nan, nan, nan, ..., nan, nan, nan],\n",
       "       [nan, nan, nan, ..., nan, nan, nan],\n",
       "       [nan, nan, nan, ..., nan, nan, nan]])"
      ]
     },
     "execution_count": 12,
     "metadata": {},
     "output_type": "execute_result"
    }
   ],
   "source": [
    "for r in r_train.itertuples():\n",
    "    user_item[r[2]-1][r[1]-1]=r[3]\n",
    "\n",
    "user_item"
   ]
  },
  {
   "cell_type": "code",
   "execution_count": 13,
   "metadata": {},
   "outputs": [
    {
     "name": "stderr",
     "output_type": "stream",
     "text": [
      "C:\\Users\\AD\\AppData\\Local\\Temp\\ipykernel_11328\\1864555427.py:3: RuntimeWarning: Mean of empty slice\n",
      "  mean=np.nanmean(user_item,axis=1)\n"
     ]
    },
    {
     "name": "stdout",
     "output_type": "stream",
     "text": [
      "[[ 0.8535809  0.         0.        ...  0.         0.        -1.1464191]\n",
      " [ 0.         0.         0.        ...  0.         0.         0.       ]\n",
      " [ 0.         0.         0.        ...  0.         0.         0.       ]\n",
      " ...\n",
      " [ 0.         0.         0.        ...  0.         0.         0.       ]\n",
      " [ 0.         0.         0.        ...  0.         0.         0.       ]\n",
      " [ 0.         0.         0.        ...  0.         0.         0.       ]]\n",
      "[4.1464191  3.21293375 3.0091954  ... 3.66666667 3.83783784 3.79821958]\n"
     ]
    }
   ],
   "source": [
    "# for vector in user_item:\n",
    "#     vector[]\n",
    "mean=np.nanmean(user_item,axis=1)\n",
    "for i in range(m):\n",
    "    user_item[i]=user_item[i]-mean[i]\n",
    "\n",
    "nan_cell=np.argwhere(np.isnan(user_item))\n",
    "\n",
    "user_item=np.nan_to_num(user_item)\n",
    "print(user_item)\n",
    "print(mean)\n",
    "\n",
    "\n",
    "# user_item=user_item-mean"
   ]
  },
  {
   "cell_type": "code",
   "execution_count": 14,
   "metadata": {},
   "outputs": [
    {
     "data": {
      "text/plain": [
       "array([[   0,    1],\n",
       "       [   0,    2],\n",
       "       [   0,    3],\n",
       "       ...,\n",
       "       [3951, 6037],\n",
       "       [3951, 6038],\n",
       "       [3951, 6039]], dtype=int64)"
      ]
     },
     "execution_count": 14,
     "metadata": {},
     "output_type": "execute_result"
    }
   ],
   "source": [
    "nan_list=[[] for i in range(u)]\n",
    "for cell in nan_cell:\n",
    "    nan_list[cell[1]].append(cell[0])\n",
    "    # print(cell[1])\n",
    "    # break\n",
    "nan_cell"
   ]
  },
  {
   "cell_type": "code",
   "execution_count": 15,
   "metadata": {},
   "outputs": [],
   "source": [
    "def similarity(x,y):\n",
    "    if np.dot(x,y)==0:\n",
    "        return 0\n",
    "    return np.dot(x,y)/math.sqrt(np.sum(x**2)*np.sum(y**2))"
   ]
  },
  {
   "cell_type": "code",
   "execution_count": 16,
   "metadata": {},
   "outputs": [],
   "source": [
    "# similarity_matrix=np.array([[None for i in range(m)] for j in range(m)])\n",
    "similarity_matrix=np.full((m,m),np.nan)\n",
    "# for movie_1 in range(m):\n",
    "#     for movie_2 in range(movie_1+1):\n",
    "#         res=similarity(user_item[movie_1],user_item[movie_2])\n",
    "#         similarity_matrix[movie_1][movie_2]=res\n",
    "#         similarity_matrix[movie_2][movie_1]=res\n",
    "\n",
    "# similarity_matrix\n",
    "# ans=similarity(user_item[0],user_item[4])\n",
    "# ans"
   ]
  },
  {
   "cell_type": "code",
   "execution_count": 17,
   "metadata": {},
   "outputs": [],
   "source": [
    "def similarity2(x,y):\n",
    "    if np.dot(x,y)==0:\n",
    "        return 0\n",
    "    return np.dot(x,y)/math.sqrt(np.sum(x**2)*np.sum(y[x!=0]**2))\n"
   ]
  },
  {
   "cell_type": "code",
   "execution_count": 18,
   "metadata": {},
   "outputs": [
    {
     "data": {
      "text/plain": [
       "array([[ 1.        ,  0.10809258,  0.0457197 , ...,  0.0220256 ,\n",
       "         0.02164107,  0.02345653],\n",
       "       [ 0.18157163,  1.        ,  0.09203263, ..., -0.03259058,\n",
       "        -0.02335392,  0.016589  ],\n",
       "       [ 0.09394219,  0.11446956,  1.        , ...,  0.06229171,\n",
       "         0.03984615,  0.04162212],\n",
       "       ...,\n",
       "       [ 0.11938295, -0.10473926,  0.14859141, ...,  1.        ,\n",
       "         0.10789549,  0.09635505],\n",
       "       [ 0.24122747, -0.12268791,  0.22656122, ...,  0.11039515,\n",
       "         1.        ,  0.29688709],\n",
       "       [ 0.05647149,  0.02029112,  0.04199398, ...,  0.03858496,\n",
       "         0.09667227,  1.        ]])"
      ]
     },
     "execution_count": 18,
     "metadata": {},
     "output_type": "execute_result"
    }
   ],
   "source": [
    "# similarity_matrix=np.array([[None for i in range(m)] for j in range(m)])\n",
    "for movie_1 in range(m):\n",
    "    for movie_2 in range(m):\n",
    "        similarity_matrix[movie_1][movie_2]=similarity2(user_item[movie_1],user_item[movie_2])\n",
    "\n",
    "similarity_matrix"
   ]
  },
  {
   "cell_type": "code",
   "execution_count": 19,
   "metadata": {},
   "outputs": [],
   "source": [
    "# def neighbors(user,movie,k):\n",
    "#     copy=np.array(similarity_matrix[movie])\n",
    "#     np.delete(copy,nan_list[user])\n",
    "#     x=(-copy).argsort()[1:k+1]\n",
    "#     return x\n",
    "\n",
    "def predict(user,movie,k):\n",
    "    copy=np.array(similarity_matrix[movie])\n",
    "    np.delete(copy,nan_list[user])\n",
    "    neighbor=(-copy).argsort()[1:k+1]\n",
    "    # neighbor=neighbors(user,movie,k)\n",
    "    similar=copy[neighbor]\n",
    "    # print(similar)\n",
    "    # print(np.sum(similar))\n",
    "    rate=user_item.T[user][neighbor]\n",
    "    # print(rate)\n",
    "    if np.sum(similar)!=0:\n",
    "        return (rate@similar)/np.sum(np.abs(similar))\n",
    "    return 0"
   ]
  },
  {
   "cell_type": "code",
   "execution_count": 20,
   "metadata": {},
   "outputs": [],
   "source": [
    "similarity_matrix=np.nan_to_num(similarity_matrix)\n",
    "# predict_matrix=np.full((m,u),np.nan)\n",
    "mean=np.nan_to_num(mean)\n",
    "se=0\n",
    "for r in r_test.itertuples():\n",
    "    user_item[r[2]-1][r[1]-1]=predict(r[1]-1,r[2]-1,40)+mean[r[2]-1]\n",
    "    # if np.isnan(mean[r[2]-1]):\n",
    "    #     print(\"NaN\")\n",
    "    se+=(user_item[r[2]-1][r[1]-1]-r[3])**2\n",
    "\n",
    "rmse=math.sqrt(se/len(r_test))\n",
    "\n",
    "# x=(-similarity_matrix[0]).argsort()[1:51]\n",
    "# print(similarity_matrix[0][x])\n",
    "# print(x)\n",
    "# np.shape(similarity_matrix[0][x])\n",
    "# np.shape(user_item.T[x])\n",
    "# for mo in range(m):\n",
    "#     x=(-similarity_matrix[mo]).argsort()[1:21]\n",
    "#     if np.sum(similarity_matrix[mo][x])!=0:\n",
    "#         array=user_item[x].T@similarity_matrix[mo][x]\n",
    "#         array=array/np.sum(np.abs(similarity_matrix[mo][x]))\n",
    "#         predict_matrix[mo]=array\n",
    "#     else:\n",
    "#         predict_matrix[mo]=np.zeros(u)\n",
    "# print(predict(0,3,5))"
   ]
  },
  {
   "cell_type": "code",
   "execution_count": 21,
   "metadata": {},
   "outputs": [
    {
     "data": {
      "text/plain": [
       "0.9132334094169263"
      ]
     },
     "execution_count": 21,
     "metadata": {},
     "output_type": "execute_result"
    }
   ],
   "source": [
    "rmse"
   ]
  }
 ],
 "metadata": {
  "kernelspec": {
   "display_name": "Python 3",
   "language": "python",
   "name": "python3"
  },
  "language_info": {
   "codemirror_mode": {
    "name": "ipython",
    "version": 3
   },
   "file_extension": ".py",
   "mimetype": "text/x-python",
   "name": "python",
   "nbconvert_exporter": "python",
   "pygments_lexer": "ipython3",
   "version": "3.11.0"
  },
  "orig_nbformat": 4
 },
 "nbformat": 4,
 "nbformat_minor": 2
}
