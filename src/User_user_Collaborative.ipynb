{
  "cells": [
    {
      "cell_type": "code",
      "execution_count": 1,
      "metadata": {
        "colab": {
          "base_uri": "https://localhost:8080/"
        },
        "id": "fG62y5E2F6-d",
        "outputId": "309864d6-3bc3-44e7-c157-eb168bd0e0ba"
      },
      "outputs": [
        {
          "output_type": "stream",
          "name": "stdout",
          "text": [
            "Mounted at /content/drive\n"
          ]
        }
      ],
      "source": [
        "from google.colab import drive\n",
        "drive.mount('/content/drive')"
      ]
    },
    {
      "cell_type": "code",
      "execution_count": 2,
      "metadata": {
        "id": "xT5cjsxBGGCf"
      },
      "outputs": [],
      "source": [
        "import pandas as pd\n",
        "import numpy as np\n",
        "from sklearn.model_selection import train_test_split\n",
        "from sklearn.metrics import ndcg_score\n",
        "import math\n",
        "\n"
      ]
    },
    {
      "cell_type": "code",
      "execution_count": 3,
      "metadata": {
        "id": "QiRQMw63je_j",
        "colab": {
          "base_uri": "https://localhost:8080/"
        },
        "outputId": "02215ee0-d98e-4d47-dd61-6f8d09e03731"
      },
      "outputs": [
        {
          "output_type": "stream",
          "name": "stderr",
          "text": [
            "<ipython-input-3-4c609c110fe4>:1: ParserWarning: Falling back to the 'python' engine because the 'c' engine does not support regex separators (separators > 1 char and different from '\\s+' are interpreted as regex); you can avoid this warning by specifying engine='python'.\n",
            "  users=pd.read_csv(r'/content/drive/MyDrive/Colab/ML/users.dat',sep=\"::\",names=['UserID','Gender','Age','Occupation','Zip-code'])\n",
            "<ipython-input-3-4c609c110fe4>:2: ParserWarning: Falling back to the 'python' engine because the 'c' engine does not support regex separators (separators > 1 char and different from '\\s+' are interpreted as regex); you can avoid this warning by specifying engine='python'.\n",
            "  movies=pd.read_csv(r'/content/drive/MyDrive/Colab/ML/movies.dat',sep=\"::\",names=['MovieID','Title','Genres'])\n",
            "<ipython-input-3-4c609c110fe4>:3: ParserWarning: Falling back to the 'python' engine because the 'c' engine does not support regex separators (separators > 1 char and different from '\\s+' are interpreted as regex); you can avoid this warning by specifying engine='python'.\n",
            "  ratings=pd.read_csv(r'/content/drive/MyDrive/Colab/ML/ratings.dat',sep=\"::\",names=['UserID','MovieID','Rating','Timestamp'])\n"
          ]
        }
      ],
      "source": [
        "users=pd.read_csv(r'/content/drive/MyDrive/Colab/ML/users.dat',sep=\"::\",names=['UserID','Gender','Age','Occupation','Zip-code'])\n",
        "movies=pd.read_csv(r'/content/drive/MyDrive/Colab/ML/movies.dat',sep=\"::\",names=['MovieID','Title','Genres'])\n",
        "ratings=pd.read_csv(r'/content/drive/MyDrive/Colab/ML/ratings.dat',sep=\"::\",names=['UserID','MovieID','Rating','Timestamp'])"
      ]
    },
    {
      "cell_type": "code",
      "execution_count": 4,
      "metadata": {
        "id": "VgtmqudXGG3I"
      },
      "outputs": [],
      "source": [
        "\n",
        "u=len(users)\n",
        "m=max(movies[\"MovieID\"])\n",
        "r_train,r_test=train_test_split(ratings,test_size=0.1,stratify=ratings['UserID'])\n",
        "\n",
        "# r_train.head()"
      ]
    },
    {
      "cell_type": "code",
      "execution_count": 5,
      "metadata": {
        "id": "-7UduAS9GHys"
      },
      "outputs": [],
      "source": [
        "user_item=np.full((u,m),np.nan)\n",
        "for r in r_train.itertuples():\n",
        "    user_item[r[1]-1][r[2]-1]=r[3]\n",
        "\n",
        "user_item_test=np.full((u,m),np.nan)\n",
        "for r in r_test.itertuples():\n",
        "    user_item_test[r[1]-1][r[2]-1]=r[3]\n",
        "# user_item"
      ]
    },
    {
      "cell_type": "code",
      "execution_count": 6,
      "metadata": {
        "id": "lTJnRk_TGK5H"
      },
      "outputs": [],
      "source": [
        "mean=np.nanmean(user_item,axis=1)\n",
        "for i in range(m):\n",
        "    user_item[i]=user_item[i]-mean[i]\n",
        "    user_item_test[i] = user_item_test[i] - mean[i]\n",
        "\n",
        "nan_cell=np.argwhere(np.isnan(user_item))\n",
        "\n",
        "user_item=np.nan_to_num(user_item)"
      ]
    },
    {
      "cell_type": "code",
      "execution_count": 7,
      "metadata": {
        "id": "R5IBD7eyGL5W"
      },
      "outputs": [],
      "source": [
        "nan_list=[[] for i in range(u)]\n",
        "for cell in nan_cell:\n",
        "    nan_list[cell[1]].append(cell[0])\n",
        "# nan_cell"
      ]
    },
    {
      "cell_type": "code",
      "execution_count": 8,
      "metadata": {
        "id": "U1W89B9BGNRG"
      },
      "outputs": [],
      "source": [
        "def similarity(x,y):\n",
        "    if np.dot(x,y)==0:\n",
        "        return 0\n",
        "    return np.dot(x,y)/math.sqrt(np.sum(x**2)*np.sum(y**2))"
      ]
    },
    {
      "cell_type": "code",
      "execution_count": 9,
      "metadata": {
        "colab": {
          "base_uri": "https://localhost:8080/"
        },
        "id": "XRFpoelpGOPM",
        "outputId": "e45c95eb-25ff-4b27-a717-f7800d83c69c"
      },
      "outputs": [
        {
          "output_type": "execute_result",
          "data": {
            "text/plain": [
              "array([[1.        , 0.03772631, 0.00121964, ..., 0.        , 0.01463444,\n",
              "        0.02300043],\n",
              "       [0.03772631, 1.        , 0.02743126, ..., 0.05623587, 0.02520585,\n",
              "        0.02421147],\n",
              "       [0.00121964, 0.02743126, 1.        , ..., 0.08992386, 0.00479186,\n",
              "        0.01415352],\n",
              "       ...,\n",
              "       [0.        , 0.05623587, 0.08992386, ..., 1.        , 0.15127516,\n",
              "        0.10553359],\n",
              "       [0.01463444, 0.02520585, 0.00479186, ..., 0.15127516, 1.        ,\n",
              "        0.21061228],\n",
              "       [0.02300043, 0.02421147, 0.01415352, ..., 0.10553359, 0.21061228,\n",
              "        1.        ]])"
            ]
          },
          "metadata": {},
          "execution_count": 9
        }
      ],
      "source": [
        "similarity_matrix=np.full((u,u),np.nan)\n",
        "for user_1 in range(u):\n",
        "    for user_2 in range(user_1+1):\n",
        "        res=similarity(user_item[user_1],user_item[user_2])\n",
        "        similarity_matrix[user_1][user_2]=res\n",
        "        similarity_matrix[user_2][user_1]=res\n",
        "\n",
        "similarity_matrix"
      ]
    },
    {
      "cell_type": "code",
      "execution_count": 10,
      "metadata": {
        "id": "Uvkf461mGP42"
      },
      "outputs": [],
      "source": [
        "def predict(movie,user,k):\n",
        "    copy=np.array(similarity_matrix[movie])\n",
        "\n",
        "    np.delete(copy,nan_list[user])\n",
        "    neighbor=(-copy).argsort()[1:k+1]\n",
        "    similar=copy[neighbor]\n",
        "    rate=user_item.T[user][neighbor]\n",
        "    if np.sum(similar)!=0:\n",
        "        return (rate@similar)/np.sum(np.abs(similar))\n",
        "    return 0"
      ]
    },
    {
      "cell_type": "code",
      "execution_count": 11,
      "metadata": {
        "id": "XHSNXtnjGRwO"
      },
      "outputs": [],
      "source": [
        "def predict1(movie,user,k):\n",
        "    copy=np.array(similarity_matrix[movie])\n",
        "    np.delete(copy,nan_list[user])\n",
        "    abs_copy=abs(copy)\n",
        "    neighbor=(-abs_copy).argsort()[1:k+1]\n",
        "    similar=copy[neighbor]\n",
        "    rate=user_item.T[user][neighbor]\n",
        "    if np.sum(similar)!=0:\n",
        "        return (rate@similar)/np.sum(np.abs(similar))\n",
        "    return 0"
      ]
    },
    {
      "cell_type": "code",
      "execution_count": null,
      "metadata": {
        "id": "fg92rzppGW93"
      },
      "outputs": [],
      "source": [
        "rmse = []\n",
        "mae = []\n",
        "precision = []\n",
        "recall = []\n",
        "NDCG = []\n",
        "iteration_list = [1,5,10,15,30,50,100]\n",
        "for k in iteration_list:\n",
        "    similarity_matrix=np.nan_to_num(similarity_matrix)\n",
        "    mean=np.nan_to_num(mean)\n",
        "    para = 0\n",
        "    se=0\n",
        "    e = 0\n",
        "    tp=0\n",
        "    tp_fp=0\n",
        "    tp_tn=0\n",
        "    DCG = []\n",
        "    IDCG = sorted(r_test['Rating'])[::-1]\n",
        "    for r in r_test.itertuples():\n",
        "        pred=predict1(r[1]-1,r[2]-1,k)\n",
        "        user_item[r[1]-1][r[2]-1]=pred+mean[r[2]-1]\n",
        "        DCG.append(pred+mean[r[2]-1])\n",
        "        if pred>para:\n",
        "            tp_fp+=1\n",
        "        if r[3]>mean[r[2]-1]+para:\n",
        "            tp_tn += 1\n",
        "            if pred>para:\n",
        "                tp+=1\n",
        "        se+=(user_item[r[1]-1][r[2]-1]-r[3])**2\n",
        "        e += math.fabs(user_item[r[1]-1][r[2]-1]-r[3])\n",
        "    DCG = sorted(DCG)[::-1]\n",
        "    NDCG.append(ndcg_score([IDCG], [DCG]))\n",
        "    mae.append(e/len(r_test))\n",
        "    rmse.append(math.sqrt(se/len(r_test)))\n",
        "    precision.append(tp/tp_fp)\n",
        "    recall.append(tp/tp_tn)"
      ]
    },
    {
      "cell_type": "code",
      "execution_count": null,
      "metadata": {
        "id": "7ALXvc_pJJc9"
      },
      "outputs": [],
      "source": [
        "import matplotlib.pyplot as plt\n",
        "from importlib import reload\n",
        "print(\"RMSE: \",rmse)\n",
        "plt=reload(plt)\n",
        "plt.plot(iteration_list, rmse)\n",
        "plt.xlabel('Neighbor')\n",
        "plt.title('RMSE')\n",
        "plt.show()"
      ]
    },
    {
      "cell_type": "code",
      "source": [
        "print(\"MAE: \",mae)\n",
        "plt=reload(plt)\n",
        "plt.plot(iteration_list, mae)\n",
        "plt.xlabel('Neighbor')\n",
        "plt.title('MAE')\n",
        "plt.show()"
      ],
      "metadata": {
        "id": "hMRanOUDxC-1"
      },
      "execution_count": null,
      "outputs": []
    },
    {
      "cell_type": "code",
      "execution_count": null,
      "metadata": {
        "id": "G0rhuRoY21Ek"
      },
      "outputs": [],
      "source": [
        "print(\"Precision: \",precision)\n",
        "plt=reload(plt)\n",
        "plt.plot(iteration_list, precision)\n",
        "plt.xlabel('Neighbor')\n",
        "plt.title('Precision')\n",
        "plt.show()"
      ]
    },
    {
      "cell_type": "code",
      "execution_count": null,
      "metadata": {
        "id": "I9GvEOR422Dm"
      },
      "outputs": [],
      "source": [
        "print(\"Recall: \",recall)\n",
        "plt=reload(plt)\n",
        "plt.plot(iteration_list, recall)\n",
        "plt.xlabel('Neighbor')\n",
        "plt.title('Recall')\n",
        "plt.show()"
      ]
    },
    {
      "cell_type": "code",
      "execution_count": null,
      "metadata": {
        "id": "nmj3rX_142wJ"
      },
      "outputs": [],
      "source": [
        "print(\"NDCG: \",NDCG)\n",
        "plt=reload(plt)\n",
        "plt.title('NDCG')\n",
        "plt.plot(iteration_list,NDCG)\n",
        "plt.xlabel(\"Iteration\")\n",
        "plt.show()"
      ]
    },
    {
      "cell_type": "code",
      "source": [],
      "metadata": {
        "id": "KdukxAN_x6r6"
      },
      "execution_count": null,
      "outputs": []
    }
  ],
  "metadata": {
    "colab": {
      "provenance": []
    },
    "kernelspec": {
      "display_name": "Python 3",
      "name": "python3"
    },
    "language_info": {
      "name": "python"
    }
  },
  "nbformat": 4,
  "nbformat_minor": 0
}