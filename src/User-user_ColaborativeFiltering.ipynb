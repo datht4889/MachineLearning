{
  "cells": [
    {
      "cell_type": "markdown",
      "metadata": {
        "id": "xdy6CUEaxAJM"
      },
      "source": [
        "# **Data processing**"
      ]
    },
    {
      "cell_type": "code",
      "execution_count": 2,
      "metadata": {
        "id": "qN7D7Kn7M3Fe"
      },
      "outputs": [],
      "source": [
        "import pandas as pd\n",
        "from math import sqrt\n",
        "import math\n",
        "import numpy as np\n",
        "import matplotlib.pyplot as plt\n",
        "import itertools\n"
      ]
    },
    {
      "cell_type": "markdown",
      "metadata": {
        "id": "86YM1UTpFfxQ"
      },
      "source": [
        "#  movies_df\n"
      ]
    },
    {
      "cell_type": "code",
      "execution_count": 3,
      "metadata": {
        "colab": {
          "base_uri": "https://localhost:8080/"
        },
        "id": "wAebHPySC_p8",
        "outputId": "3fc45ba6-cd3c-4c92-a734-b818f86cac82"
      },
      "outputs": [
        {
          "name": "stderr",
          "output_type": "stream",
          "text": [
            "/var/folders/9m/q_st48_96nxbrmf463nr7q580000gn/T/ipykernel_23050/4281932699.py:2: ParserWarning: Falling back to the 'python' engine because the 'c' engine does not support regex separators (separators > 1 char and different from '\\s+' are interpreted as regex); you can avoid this warning by specifying engine='python'.\n",
            "  movies_df = pd.read_csv('/Applications/coding for life/semester4/ML/project/MachineLearning/dataset/movies.dat', sep=\"::\", names=[\"movieId\", \"title\", \"genres\"])\n"
          ]
        },
        {
          "data": {
            "text/html": [
              "<div>\n",
              "<style scoped>\n",
              "    .dataframe tbody tr th:only-of-type {\n",
              "        vertical-align: middle;\n",
              "    }\n",
              "\n",
              "    .dataframe tbody tr th {\n",
              "        vertical-align: top;\n",
              "    }\n",
              "\n",
              "    .dataframe thead th {\n",
              "        text-align: right;\n",
              "    }\n",
              "</style>\n",
              "<table border=\"1\" class=\"dataframe\">\n",
              "  <thead>\n",
              "    <tr style=\"text-align: right;\">\n",
              "      <th></th>\n",
              "      <th>movieId</th>\n",
              "      <th>title</th>\n",
              "      <th>genres</th>\n",
              "    </tr>\n",
              "  </thead>\n",
              "  <tbody>\n",
              "    <tr>\n",
              "      <th>0</th>\n",
              "      <td>1</td>\n",
              "      <td>Toy Story (1995)</td>\n",
              "      <td>Animation|Children's|Comedy</td>\n",
              "    </tr>\n",
              "    <tr>\n",
              "      <th>1</th>\n",
              "      <td>2</td>\n",
              "      <td>Jumanji (1995)</td>\n",
              "      <td>Adventure|Children's|Fantasy</td>\n",
              "    </tr>\n",
              "    <tr>\n",
              "      <th>2</th>\n",
              "      <td>3</td>\n",
              "      <td>Grumpier Old Men (1995)</td>\n",
              "      <td>Comedy|Romance</td>\n",
              "    </tr>\n",
              "    <tr>\n",
              "      <th>3</th>\n",
              "      <td>4</td>\n",
              "      <td>Waiting to Exhale (1995)</td>\n",
              "      <td>Comedy|Drama</td>\n",
              "    </tr>\n",
              "    <tr>\n",
              "      <th>4</th>\n",
              "      <td>5</td>\n",
              "      <td>Father of the Bride Part II (1995)</td>\n",
              "      <td>Comedy</td>\n",
              "    </tr>\n",
              "    <tr>\n",
              "      <th>...</th>\n",
              "      <td>...</td>\n",
              "      <td>...</td>\n",
              "      <td>...</td>\n",
              "    </tr>\n",
              "    <tr>\n",
              "      <th>3878</th>\n",
              "      <td>3948</td>\n",
              "      <td>Meet the Parents (2000)</td>\n",
              "      <td>Comedy</td>\n",
              "    </tr>\n",
              "    <tr>\n",
              "      <th>3879</th>\n",
              "      <td>3949</td>\n",
              "      <td>Requiem for a Dream (2000)</td>\n",
              "      <td>Drama</td>\n",
              "    </tr>\n",
              "    <tr>\n",
              "      <th>3880</th>\n",
              "      <td>3950</td>\n",
              "      <td>Tigerland (2000)</td>\n",
              "      <td>Drama</td>\n",
              "    </tr>\n",
              "    <tr>\n",
              "      <th>3881</th>\n",
              "      <td>3951</td>\n",
              "      <td>Two Family House (2000)</td>\n",
              "      <td>Drama</td>\n",
              "    </tr>\n",
              "    <tr>\n",
              "      <th>3882</th>\n",
              "      <td>3952</td>\n",
              "      <td>Contender, The (2000)</td>\n",
              "      <td>Drama|Thriller</td>\n",
              "    </tr>\n",
              "  </tbody>\n",
              "</table>\n",
              "<p>3883 rows × 3 columns</p>\n",
              "</div>"
            ],
            "text/plain": [
              "      movieId                               title  \\\n",
              "0           1                    Toy Story (1995)   \n",
              "1           2                      Jumanji (1995)   \n",
              "2           3             Grumpier Old Men (1995)   \n",
              "3           4            Waiting to Exhale (1995)   \n",
              "4           5  Father of the Bride Part II (1995)   \n",
              "...       ...                                 ...   \n",
              "3878     3948             Meet the Parents (2000)   \n",
              "3879     3949          Requiem for a Dream (2000)   \n",
              "3880     3950                    Tigerland (2000)   \n",
              "3881     3951             Two Family House (2000)   \n",
              "3882     3952               Contender, The (2000)   \n",
              "\n",
              "                            genres  \n",
              "0      Animation|Children's|Comedy  \n",
              "1     Adventure|Children's|Fantasy  \n",
              "2                   Comedy|Romance  \n",
              "3                     Comedy|Drama  \n",
              "4                           Comedy  \n",
              "...                            ...  \n",
              "3878                        Comedy  \n",
              "3879                         Drama  \n",
              "3880                         Drama  \n",
              "3881                         Drama  \n",
              "3882                Drama|Thriller  \n",
              "\n",
              "[3883 rows x 3 columns]"
            ]
          },
          "execution_count": 3,
          "metadata": {},
          "output_type": "execute_result"
        }
      ],
      "source": [
        "# movies_df = pd.read_csv('/content/drive/MyDrive/Colab/miniMovies.csv')\n",
        "movies_df = pd.read_csv('/Applications/coding for life/semester4/ML/project/MachineLearning/dataset/movies.dat', sep=\"::\", names=[\"movieId\", \"title\", \"genres\"])\n",
        "\n",
        "movies_df"
      ]
    },
    {
      "cell_type": "markdown",
      "metadata": {
        "id": "w1o0G934FqUn"
      },
      "source": [
        "# ratings_df"
      ]
    },
    {
      "cell_type": "code",
      "execution_count": 4,
      "metadata": {
        "colab": {
          "base_uri": "https://localhost:8080/"
        },
        "id": "arOQq5THMcYv",
        "outputId": "ad75dff3-b9cf-4264-8362-d085dc7bdcfc"
      },
      "outputs": [
        {
          "name": "stderr",
          "output_type": "stream",
          "text": [
            "/var/folders/9m/q_st48_96nxbrmf463nr7q580000gn/T/ipykernel_23050/3020666396.py:2: ParserWarning: Falling back to the 'python' engine because the 'c' engine does not support regex separators (separators > 1 char and different from '\\s+' are interpreted as regex); you can avoid this warning by specifying engine='python'.\n",
            "  ratings_df = pd.read_csv('/Applications/coding for life/semester4/ML/project/MachineLearning/dataset/ratings.dat', sep = \"::\", names = [\"userId\", \"movieId\", \"rating\", \"timestamp\"], dtype = {'userId':'int32', 'movieId':'int32', 'rating':'float16'})\n"
          ]
        },
        {
          "data": {
            "text/html": [
              "<div>\n",
              "<style scoped>\n",
              "    .dataframe tbody tr th:only-of-type {\n",
              "        vertical-align: middle;\n",
              "    }\n",
              "\n",
              "    .dataframe tbody tr th {\n",
              "        vertical-align: top;\n",
              "    }\n",
              "\n",
              "    .dataframe thead th {\n",
              "        text-align: right;\n",
              "    }\n",
              "</style>\n",
              "<table border=\"1\" class=\"dataframe\">\n",
              "  <thead>\n",
              "    <tr style=\"text-align: right;\">\n",
              "      <th></th>\n",
              "      <th>userId</th>\n",
              "      <th>movieId</th>\n",
              "      <th>rating</th>\n",
              "      <th>timestamp</th>\n",
              "    </tr>\n",
              "  </thead>\n",
              "  <tbody>\n",
              "    <tr>\n",
              "      <th>0</th>\n",
              "      <td>1</td>\n",
              "      <td>1193</td>\n",
              "      <td>5.0</td>\n",
              "      <td>978300760</td>\n",
              "    </tr>\n",
              "    <tr>\n",
              "      <th>1</th>\n",
              "      <td>1</td>\n",
              "      <td>661</td>\n",
              "      <td>3.0</td>\n",
              "      <td>978302109</td>\n",
              "    </tr>\n",
              "    <tr>\n",
              "      <th>2</th>\n",
              "      <td>1</td>\n",
              "      <td>914</td>\n",
              "      <td>3.0</td>\n",
              "      <td>978301968</td>\n",
              "    </tr>\n",
              "    <tr>\n",
              "      <th>3</th>\n",
              "      <td>1</td>\n",
              "      <td>3408</td>\n",
              "      <td>4.0</td>\n",
              "      <td>978300275</td>\n",
              "    </tr>\n",
              "    <tr>\n",
              "      <th>4</th>\n",
              "      <td>1</td>\n",
              "      <td>2355</td>\n",
              "      <td>5.0</td>\n",
              "      <td>978824291</td>\n",
              "    </tr>\n",
              "    <tr>\n",
              "      <th>...</th>\n",
              "      <td>...</td>\n",
              "      <td>...</td>\n",
              "      <td>...</td>\n",
              "      <td>...</td>\n",
              "    </tr>\n",
              "    <tr>\n",
              "      <th>1000204</th>\n",
              "      <td>6040</td>\n",
              "      <td>1091</td>\n",
              "      <td>1.0</td>\n",
              "      <td>956716541</td>\n",
              "    </tr>\n",
              "    <tr>\n",
              "      <th>1000205</th>\n",
              "      <td>6040</td>\n",
              "      <td>1094</td>\n",
              "      <td>5.0</td>\n",
              "      <td>956704887</td>\n",
              "    </tr>\n",
              "    <tr>\n",
              "      <th>1000206</th>\n",
              "      <td>6040</td>\n",
              "      <td>562</td>\n",
              "      <td>5.0</td>\n",
              "      <td>956704746</td>\n",
              "    </tr>\n",
              "    <tr>\n",
              "      <th>1000207</th>\n",
              "      <td>6040</td>\n",
              "      <td>1096</td>\n",
              "      <td>4.0</td>\n",
              "      <td>956715648</td>\n",
              "    </tr>\n",
              "    <tr>\n",
              "      <th>1000208</th>\n",
              "      <td>6040</td>\n",
              "      <td>1097</td>\n",
              "      <td>4.0</td>\n",
              "      <td>956715569</td>\n",
              "    </tr>\n",
              "  </tbody>\n",
              "</table>\n",
              "<p>1000209 rows × 4 columns</p>\n",
              "</div>"
            ],
            "text/plain": [
              "         userId  movieId  rating  timestamp\n",
              "0             1     1193     5.0  978300760\n",
              "1             1      661     3.0  978302109\n",
              "2             1      914     3.0  978301968\n",
              "3             1     3408     4.0  978300275\n",
              "4             1     2355     5.0  978824291\n",
              "...         ...      ...     ...        ...\n",
              "1000204    6040     1091     1.0  956716541\n",
              "1000205    6040     1094     5.0  956704887\n",
              "1000206    6040      562     5.0  956704746\n",
              "1000207    6040     1096     4.0  956715648\n",
              "1000208    6040     1097     4.0  956715569\n",
              "\n",
              "[1000209 rows x 4 columns]"
            ]
          },
          "execution_count": 4,
          "metadata": {},
          "output_type": "execute_result"
        }
      ],
      "source": [
        "# ratings_df = pd.read_csv('/content/drive/MyDrive/Colab/miniRating.csv')\n",
        "ratings_df = pd.read_csv('/Applications/coding for life/semester4/ML/project/MachineLearning/dataset/ratings.dat', sep = \"::\", names = [\"userId\", \"movieId\", \"rating\", \"timestamp\"], dtype = {'userId':'int32', 'movieId':'int32', 'rating':'float16'}) \n",
        "ratings_df"
      ]
    },
    {
      "cell_type": "markdown",
      "metadata": {
        "id": "vGT_Yp1vRCP2"
      },
      "source": [
        "Split train - test set (10%)"
      ]
    },
    {
      "cell_type": "code",
      "execution_count": 5,
      "metadata": {
        "id": "Jmm-H-_zJUKf"
      },
      "outputs": [],
      "source": [
        "from sklearn.model_selection import train_test_split\n",
        "r_train, r_test = train_test_split(ratings_df, test_size=0.1, stratify=ratings_df['userId'])"
      ]
    },
    {
      "cell_type": "markdown",
      "metadata": {
        "id": "-OFXVnxARIV4"
      },
      "source": [
        "Item-user matrix on training set"
      ]
    },
    {
      "cell_type": "code",
      "execution_count": 6,
      "metadata": {
        "colab": {
          "base_uri": "https://localhost:8080/"
        },
        "id": "Ue_3QSklaHUx",
        "outputId": "0b6fa9de-9105-4379-efb7-ec68dd4798f3"
      },
      "outputs": [
        {
          "data": {
            "text/plain": [
              "array([[ 5., nan, nan, ..., nan, nan,  3.],\n",
              "       [nan, nan, nan, ..., nan, nan, nan],\n",
              "       [nan, nan, nan, ..., nan, nan, nan],\n",
              "       ...,\n",
              "       [nan, nan, nan, ..., nan, nan, nan],\n",
              "       [nan, nan, nan, ..., nan, nan, nan],\n",
              "       [nan, nan, nan, ..., nan, nan, nan]])"
            ]
          },
          "execution_count": 6,
          "metadata": {},
          "output_type": "execute_result"
        }
      ],
      "source": [
        "movieId = movies_df['movieId']\n",
        "userId = ratings_df['userId'].drop_duplicates()\n",
        "originalRating = np.full([max(movieId), max(userId)], np.nan)\n",
        "test = np.full([max(movieId), max(userId)], np.nan)\n",
        "\n",
        "for line in r_train.itertuples():\n",
        "    originalRating[line[2]-1][line[1]-1] = line[3]\n",
        "\n",
        "for line in r_test.itertuples():\n",
        "    test[line[2]-1][line[1]-1] = line[3]\n",
        "\n",
        "originalRating\n",
        "\n",
        "\n"
      ]
    },
    {
      "cell_type": "markdown",
      "metadata": {
        "id": "6JpbC4eSVP5N"
      },
      "source": [
        "# ***User-User***\n"
      ]
    },
    {
      "cell_type": "code",
      "execution_count": 64,
      "metadata": {},
      "outputs": [],
      "source": [
        "class CF(object):\n",
        "    def __init__(self, train, test, cf=0):\n",
        "        self.cf = cf # user-user (0) or item-item (1) CF\n",
        "        self.train = train\n",
        "        self.test = test\n",
        "    def normalize(self, data):\n",
        "        # if self.cf == 0:\n",
        "        return data - np.nanmean(self.train, axis = 0)\n",
        "        # if self.cf == 1:\n",
        "        #     return data.T - np.nanmean(self.train, axis = 1).T\n",
        "    def nanIndex(self):\n",
        "        indexNanMovie = [0 for i in range(max(movieId))]\n",
        "        for i in range(max(movieId)):\n",
        "            indexNanMovie[i] = np.where(np.isnan(self.normalize(originalRating)[i]))[0]\n",
        "        return indexNanMovie\n",
        "    def ratedIndex(self):\n",
        "        indexRatedMovie = [0 for i in range(max(movieId))]\n",
        "        for i in range(max(movieId)):\n",
        "            indexRatedMovie[i] = np.where(~np.isnan(self.normalize(originalRating)[i]))[0]\n",
        "        return indexRatedMovie\n",
        "    def similarity(self):\n",
        "        similiarityUser = np.full([max(userId), max(userId)], np.nan)\n",
        "        for i in range(max(userId)):\n",
        "            for j in range(i, max(userId)):\n",
        "                sim = self.cos(np.nan_to_num(self.normalize(originalRating))[:,i], np.nan_to_num(self.normalize(originalRating))[:,j])\n",
        "                similiarityUser[i][j] = sim\n",
        "                similiarityUser[j][i] = sim\n",
        "        return similiarityUser\n",
        "    def cos(self,x,y):\n",
        "        if x.dot(y)==0:\n",
        "            return 0\n",
        "        return x.dot(y)/math.sqrt(np.sum(x**2)*np.sum(y**2))\n",
        "    def predict(self):\n",
        "        item_user = originalRating - np.nanmean(self.train, axis = 0).copy()\n",
        "        indexNanMovie = self.nanIndex\n",
        "        indexRatedMovie = self.ratedIndex\n",
        "        similiarityUser = self.similarity\n",
        "        predict = item_user.copy()\n",
        "        for i in movieId-1:\n",
        "            rate = (item_user[i][~np.isnan(item_user[i])]) # All ratings of movie i\n",
        "            rateIndex = indexRatedMovie[i] # users watch movie i\n",
        "            nul = indexNanMovie[i] # users do not watch movie i\n",
        "            sim = similiarityUser[nul]\n",
        "            for u in range(len(sim)):\n",
        "                predict[i][nul[u]] = (sim[u][rateIndex] @ rate / sum(np.abs(sim[u][rateIndex])))\n",
        "        return predict\n",
        "    \n",
        "    # def fit():\n",
        "    #     return\n",
        "    def MSE(self):\n",
        "        predictItem = (self.predict().T + np.nanmean(originalRating, axis=1)).T\n",
        "        rmse = 0\n",
        "        for r in self.test.itertuples():\n",
        "            if not np.isnan(predictItem[r[2]-1][r[1]-1]):\n",
        "                rmse+=(predictItem[r[2]-1][r[1]-1]-r[3])**2\n",
        "        return rmse/len(self.test)"
      ]
    },
    {
      "cell_type": "code",
      "execution_count": 7,
      "metadata": {},
      "outputs": [
        {
          "data": {
            "text/plain": [
              "0          1\n",
              "1          2\n",
              "2          3\n",
              "3          4\n",
              "4          5\n",
              "        ... \n",
              "3878    3948\n",
              "3879    3949\n",
              "3880    3950\n",
              "3881    3951\n",
              "3882    3952\n",
              "Name: movieId, Length: 3883, dtype: int64"
            ]
          },
          "execution_count": 7,
          "metadata": {},
          "output_type": "execute_result"
        }
      ],
      "source": [
        "movieId"
      ]
    },
    {
      "cell_type": "code",
      "execution_count": 65,
      "metadata": {},
      "outputs": [
        {
          "ename": "KeyboardInterrupt",
          "evalue": "",
          "output_type": "error",
          "traceback": [
            "\u001b[0;31m---------------------------------------------------------------------------\u001b[0m",
            "\u001b[0;31mKeyboardInterrupt\u001b[0m                         Traceback (most recent call last)",
            "Cell \u001b[0;32mIn[65], line 2\u001b[0m\n\u001b[1;32m      1\u001b[0m cf \u001b[39m=\u001b[39m CF(cf \u001b[39m=\u001b[39m \u001b[39m0\u001b[39m, train \u001b[39m=\u001b[39m originalRating, test \u001b[39m=\u001b[39m test)\n\u001b[0;32m----> 2\u001b[0m cf\u001b[39m.\u001b[39;49msimilarity()\n",
            "Cell \u001b[0;32mIn[64], line 25\u001b[0m, in \u001b[0;36mCF.similarity\u001b[0;34m(self)\u001b[0m\n\u001b[1;32m     23\u001b[0m \u001b[39mfor\u001b[39;00m i \u001b[39min\u001b[39;00m \u001b[39mrange\u001b[39m(\u001b[39mmax\u001b[39m(userId)):\n\u001b[1;32m     24\u001b[0m     \u001b[39mfor\u001b[39;00m j \u001b[39min\u001b[39;00m \u001b[39mrange\u001b[39m(i, \u001b[39mmax\u001b[39m(userId)):\n\u001b[0;32m---> 25\u001b[0m         sim \u001b[39m=\u001b[39m \u001b[39mself\u001b[39m\u001b[39m.\u001b[39mcos(np\u001b[39m.\u001b[39mnan_to_num(\u001b[39mself\u001b[39m\u001b[39m.\u001b[39mnormalize(originalRating))[:,i], np\u001b[39m.\u001b[39;49mnan_to_num(\u001b[39mself\u001b[39;49m\u001b[39m.\u001b[39;49mnormalize(originalRating))[:,j])\n\u001b[1;32m     26\u001b[0m         similiarityUser[i][j] \u001b[39m=\u001b[39m sim\n\u001b[1;32m     27\u001b[0m         similiarityUser[j][i] \u001b[39m=\u001b[39m sim\n",
            "File \u001b[0;32m<__array_function__ internals>:180\u001b[0m, in \u001b[0;36mnan_to_num\u001b[0;34m(*args, **kwargs)\u001b[0m\n",
            "File \u001b[0;32m~/Library/Python/3.9/lib/python/site-packages/numpy/lib/type_check.py:518\u001b[0m, in \u001b[0;36mnan_to_num\u001b[0;34m(x, copy, nan, posinf, neginf)\u001b[0m\n\u001b[1;32m    516\u001b[0m idx_posinf \u001b[39m=\u001b[39m isposinf(d)\n\u001b[1;32m    517\u001b[0m idx_neginf \u001b[39m=\u001b[39m isneginf(d)\n\u001b[0;32m--> 518\u001b[0m _nx\u001b[39m.\u001b[39;49mcopyto(d, nan, where\u001b[39m=\u001b[39;49midx_nan)\n\u001b[1;32m    519\u001b[0m _nx\u001b[39m.\u001b[39mcopyto(d, maxf, where\u001b[39m=\u001b[39midx_posinf)\n\u001b[1;32m    520\u001b[0m _nx\u001b[39m.\u001b[39mcopyto(d, minf, where\u001b[39m=\u001b[39midx_neginf)\n",
            "File \u001b[0;32m<__array_function__ internals>:180\u001b[0m, in \u001b[0;36mcopyto\u001b[0;34m(*args, **kwargs)\u001b[0m\n",
            "\u001b[0;31mKeyboardInterrupt\u001b[0m: "
          ]
        }
      ],
      "source": [
        "cf = CF(cf = 0, train = originalRating, test = test)\n",
        "cf.similarity()\n",
        "\n"
      ]
    },
    {
      "cell_type": "code",
      "execution_count": null,
      "metadata": {},
      "outputs": [],
      "source": []
    }
  ],
  "metadata": {
    "colab": {
      "collapsed_sections": [
        "xdy6CUEaxAJM",
        "86YM1UTpFfxQ",
        "w1o0G934FqUn",
        "VDSIv9RuZCGK",
        "P9jzivpX4rWB",
        "9EbfgzNVAy3S"
      ],
      "provenance": []
    },
    "gpuClass": "standard",
    "kernelspec": {
      "display_name": "Python 3",
      "name": "python3"
    },
    "language_info": {
      "codemirror_mode": {
        "name": "ipython",
        "version": 3
      },
      "file_extension": ".py",
      "mimetype": "text/x-python",
      "name": "python",
      "nbconvert_exporter": "python",
      "pygments_lexer": "ipython3",
      "version": "3.9.6"
    }
  },
  "nbformat": 4,
  "nbformat_minor": 0
}
