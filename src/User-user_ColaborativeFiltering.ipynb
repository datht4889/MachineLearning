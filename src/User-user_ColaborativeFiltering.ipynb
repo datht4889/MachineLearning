{
  "cells": [
    {
      "cell_type": "code",
      "execution_count": null,
      "metadata": {
        "colab": {
          "base_uri": "https://localhost:8080/"
        },
        "id": "uBmWAAsKMxkg",
        "outputId": "13f4a419-6bcf-460f-a46a-566747428183"
      },
      "outputs": [
        {
          "output_type": "stream",
          "name": "stdout",
          "text": [
            "Drive already mounted at /content/drive; to attempt to forcibly remount, call drive.mount(\"/content/drive\", force_remount=True).\n"
          ]
        }
      ],
      "source": [
        "from google.colab import drive\n",
        "drive.mount('/content/drive')"
      ]
    },
    {
      "cell_type": "markdown",
      "metadata": {
        "id": "xdy6CUEaxAJM"
      },
      "source": [
        "# **Data processing**"
      ]
    },
    {
      "cell_type": "code",
      "execution_count": null,
      "metadata": {
        "id": "qN7D7Kn7M3Fe"
      },
      "outputs": [],
      "source": [
        "import pandas as pd\n",
        "from math import sqrt\n",
        "import numpy as np\n",
        "import matplotlib.pyplot as plt\n",
        "import itertools\n"
      ]
    },
    {
      "cell_type": "markdown",
      "metadata": {
        "id": "86YM1UTpFfxQ"
      },
      "source": [
        "#  movies_df\n"
      ]
    },
    {
      "cell_type": "code",
      "execution_count": null,
      "metadata": {
        "colab": {
          "base_uri": "https://localhost:8080/"
        },
        "id": "wAebHPySC_p8",
        "outputId": "3fc45ba6-cd3c-4c92-a734-b818f86cac82"
      },
      "outputs": [
        {
          "output_type": "stream",
          "name": "stderr",
          "text": [
            "<ipython-input-41-a1bbc6dd2c48>:2: ParserWarning: Falling back to the 'python' engine because the 'c' engine does not support regex separators (separators > 1 char and different from '\\s+' are interpreted as regex); you can avoid this warning by specifying engine='python'.\n",
            "  movies_df = pd.read_csv('/content/drive/MyDrive/Colab/movies.dat', sep=\"::\", names=[\"movieId\", \"title\", \"genres\"])\n"
          ]
        },
        {
          "output_type": "execute_result",
          "data": {
            "text/plain": [
              "      movieId                               title  \\\n",
              "0           1                    Toy Story (1995)   \n",
              "1           2                      Jumanji (1995)   \n",
              "2           3             Grumpier Old Men (1995)   \n",
              "3           4            Waiting to Exhale (1995)   \n",
              "4           5  Father of the Bride Part II (1995)   \n",
              "...       ...                                 ...   \n",
              "3878     3948             Meet the Parents (2000)   \n",
              "3879     3949          Requiem for a Dream (2000)   \n",
              "3880     3950                    Tigerland (2000)   \n",
              "3881     3951             Two Family House (2000)   \n",
              "3882     3952               Contender, The (2000)   \n",
              "\n",
              "                            genres  \n",
              "0      Animation|Children's|Comedy  \n",
              "1     Adventure|Children's|Fantasy  \n",
              "2                   Comedy|Romance  \n",
              "3                     Comedy|Drama  \n",
              "4                           Comedy  \n",
              "...                            ...  \n",
              "3878                        Comedy  \n",
              "3879                         Drama  \n",
              "3880                         Drama  \n",
              "3881                         Drama  \n",
              "3882                Drama|Thriller  \n",
              "\n",
              "[3883 rows x 3 columns]"
            ],
            "text/html": [
              "\n",
              "  <div id=\"df-797149ae-985d-4361-b8bf-5734bb8767cd\">\n",
              "    <div class=\"colab-df-container\">\n",
              "      <div>\n",
              "<style scoped>\n",
              "    .dataframe tbody tr th:only-of-type {\n",
              "        vertical-align: middle;\n",
              "    }\n",
              "\n",
              "    .dataframe tbody tr th {\n",
              "        vertical-align: top;\n",
              "    }\n",
              "\n",
              "    .dataframe thead th {\n",
              "        text-align: right;\n",
              "    }\n",
              "</style>\n",
              "<table border=\"1\" class=\"dataframe\">\n",
              "  <thead>\n",
              "    <tr style=\"text-align: right;\">\n",
              "      <th></th>\n",
              "      <th>movieId</th>\n",
              "      <th>title</th>\n",
              "      <th>genres</th>\n",
              "    </tr>\n",
              "  </thead>\n",
              "  <tbody>\n",
              "    <tr>\n",
              "      <th>0</th>\n",
              "      <td>1</td>\n",
              "      <td>Toy Story (1995)</td>\n",
              "      <td>Animation|Children's|Comedy</td>\n",
              "    </tr>\n",
              "    <tr>\n",
              "      <th>1</th>\n",
              "      <td>2</td>\n",
              "      <td>Jumanji (1995)</td>\n",
              "      <td>Adventure|Children's|Fantasy</td>\n",
              "    </tr>\n",
              "    <tr>\n",
              "      <th>2</th>\n",
              "      <td>3</td>\n",
              "      <td>Grumpier Old Men (1995)</td>\n",
              "      <td>Comedy|Romance</td>\n",
              "    </tr>\n",
              "    <tr>\n",
              "      <th>3</th>\n",
              "      <td>4</td>\n",
              "      <td>Waiting to Exhale (1995)</td>\n",
              "      <td>Comedy|Drama</td>\n",
              "    </tr>\n",
              "    <tr>\n",
              "      <th>4</th>\n",
              "      <td>5</td>\n",
              "      <td>Father of the Bride Part II (1995)</td>\n",
              "      <td>Comedy</td>\n",
              "    </tr>\n",
              "    <tr>\n",
              "      <th>...</th>\n",
              "      <td>...</td>\n",
              "      <td>...</td>\n",
              "      <td>...</td>\n",
              "    </tr>\n",
              "    <tr>\n",
              "      <th>3878</th>\n",
              "      <td>3948</td>\n",
              "      <td>Meet the Parents (2000)</td>\n",
              "      <td>Comedy</td>\n",
              "    </tr>\n",
              "    <tr>\n",
              "      <th>3879</th>\n",
              "      <td>3949</td>\n",
              "      <td>Requiem for a Dream (2000)</td>\n",
              "      <td>Drama</td>\n",
              "    </tr>\n",
              "    <tr>\n",
              "      <th>3880</th>\n",
              "      <td>3950</td>\n",
              "      <td>Tigerland (2000)</td>\n",
              "      <td>Drama</td>\n",
              "    </tr>\n",
              "    <tr>\n",
              "      <th>3881</th>\n",
              "      <td>3951</td>\n",
              "      <td>Two Family House (2000)</td>\n",
              "      <td>Drama</td>\n",
              "    </tr>\n",
              "    <tr>\n",
              "      <th>3882</th>\n",
              "      <td>3952</td>\n",
              "      <td>Contender, The (2000)</td>\n",
              "      <td>Drama|Thriller</td>\n",
              "    </tr>\n",
              "  </tbody>\n",
              "</table>\n",
              "<p>3883 rows × 3 columns</p>\n",
              "</div>\n",
              "      <button class=\"colab-df-convert\" onclick=\"convertToInteractive('df-797149ae-985d-4361-b8bf-5734bb8767cd')\"\n",
              "              title=\"Convert this dataframe to an interactive table.\"\n",
              "              style=\"display:none;\">\n",
              "        \n",
              "  <svg xmlns=\"http://www.w3.org/2000/svg\" height=\"24px\"viewBox=\"0 0 24 24\"\n",
              "       width=\"24px\">\n",
              "    <path d=\"M0 0h24v24H0V0z\" fill=\"none\"/>\n",
              "    <path d=\"M18.56 5.44l.94 2.06.94-2.06 2.06-.94-2.06-.94-.94-2.06-.94 2.06-2.06.94zm-11 1L8.5 8.5l.94-2.06 2.06-.94-2.06-.94L8.5 2.5l-.94 2.06-2.06.94zm10 10l.94 2.06.94-2.06 2.06-.94-2.06-.94-.94-2.06-.94 2.06-2.06.94z\"/><path d=\"M17.41 7.96l-1.37-1.37c-.4-.4-.92-.59-1.43-.59-.52 0-1.04.2-1.43.59L10.3 9.45l-7.72 7.72c-.78.78-.78 2.05 0 2.83L4 21.41c.39.39.9.59 1.41.59.51 0 1.02-.2 1.41-.59l7.78-7.78 2.81-2.81c.8-.78.8-2.07 0-2.86zM5.41 20L4 18.59l7.72-7.72 1.47 1.35L5.41 20z\"/>\n",
              "  </svg>\n",
              "      </button>\n",
              "      \n",
              "  <style>\n",
              "    .colab-df-container {\n",
              "      display:flex;\n",
              "      flex-wrap:wrap;\n",
              "      gap: 12px;\n",
              "    }\n",
              "\n",
              "    .colab-df-convert {\n",
              "      background-color: #E8F0FE;\n",
              "      border: none;\n",
              "      border-radius: 50%;\n",
              "      cursor: pointer;\n",
              "      display: none;\n",
              "      fill: #1967D2;\n",
              "      height: 32px;\n",
              "      padding: 0 0 0 0;\n",
              "      width: 32px;\n",
              "    }\n",
              "\n",
              "    .colab-df-convert:hover {\n",
              "      background-color: #E2EBFA;\n",
              "      box-shadow: 0px 1px 2px rgba(60, 64, 67, 0.3), 0px 1px 3px 1px rgba(60, 64, 67, 0.15);\n",
              "      fill: #174EA6;\n",
              "    }\n",
              "\n",
              "    [theme=dark] .colab-df-convert {\n",
              "      background-color: #3B4455;\n",
              "      fill: #D2E3FC;\n",
              "    }\n",
              "\n",
              "    [theme=dark] .colab-df-convert:hover {\n",
              "      background-color: #434B5C;\n",
              "      box-shadow: 0px 1px 3px 1px rgba(0, 0, 0, 0.15);\n",
              "      filter: drop-shadow(0px 1px 2px rgba(0, 0, 0, 0.3));\n",
              "      fill: #FFFFFF;\n",
              "    }\n",
              "  </style>\n",
              "\n",
              "      <script>\n",
              "        const buttonEl =\n",
              "          document.querySelector('#df-797149ae-985d-4361-b8bf-5734bb8767cd button.colab-df-convert');\n",
              "        buttonEl.style.display =\n",
              "          google.colab.kernel.accessAllowed ? 'block' : 'none';\n",
              "\n",
              "        async function convertToInteractive(key) {\n",
              "          const element = document.querySelector('#df-797149ae-985d-4361-b8bf-5734bb8767cd');\n",
              "          const dataTable =\n",
              "            await google.colab.kernel.invokeFunction('convertToInteractive',\n",
              "                                                     [key], {});\n",
              "          if (!dataTable) return;\n",
              "\n",
              "          const docLinkHtml = 'Like what you see? Visit the ' +\n",
              "            '<a target=\"_blank\" href=https://colab.research.google.com/notebooks/data_table.ipynb>data table notebook</a>'\n",
              "            + ' to learn more about interactive tables.';\n",
              "          element.innerHTML = '';\n",
              "          dataTable['output_type'] = 'display_data';\n",
              "          await google.colab.output.renderOutput(dataTable, element);\n",
              "          const docLink = document.createElement('div');\n",
              "          docLink.innerHTML = docLinkHtml;\n",
              "          element.appendChild(docLink);\n",
              "        }\n",
              "      </script>\n",
              "    </div>\n",
              "  </div>\n",
              "  "
            ]
          },
          "metadata": {},
          "execution_count": 41
        }
      ],
      "source": [
        "# movies_df = pd.read_csv('/content/drive/MyDrive/Colab/miniMovies.csv')\n",
        "movies_df = pd.read_csv('/content/drive/MyDrive/Colab/movies.dat', sep=\"::\", names=[\"movieId\", \"title\", \"genres\"])\n",
        "\n",
        "movies_df"
      ]
    },
    {
      "cell_type": "code",
      "execution_count": null,
      "metadata": {
        "colab": {
          "base_uri": "https://localhost:8080/"
        },
        "id": "yWDFhCCUM5d_",
        "outputId": "5a628dcf-4f55-4bbb-e4b4-01c28c6cf250"
      },
      "outputs": [
        {
          "output_type": "execute_result",
          "data": {
            "text/plain": [
              "                                   genres\n",
              "movieId                                  \n",
              "1         [Animation, Children's, Comedy]\n",
              "2        [Adventure, Children's, Fantasy]\n",
              "3                       [Comedy, Romance]\n",
              "4                         [Comedy, Drama]\n",
              "5                                [Comedy]\n",
              "...                                   ...\n",
              "3948                             [Comedy]\n",
              "3949                              [Drama]\n",
              "3950                              [Drama]\n",
              "3951                              [Drama]\n",
              "3952                    [Drama, Thriller]\n",
              "\n",
              "[3883 rows x 1 columns]"
            ],
            "text/html": [
              "\n",
              "  <div id=\"df-247fbccc-4145-42a2-ac14-52c2b9cc4570\">\n",
              "    <div class=\"colab-df-container\">\n",
              "      <div>\n",
              "<style scoped>\n",
              "    .dataframe tbody tr th:only-of-type {\n",
              "        vertical-align: middle;\n",
              "    }\n",
              "\n",
              "    .dataframe tbody tr th {\n",
              "        vertical-align: top;\n",
              "    }\n",
              "\n",
              "    .dataframe thead th {\n",
              "        text-align: right;\n",
              "    }\n",
              "</style>\n",
              "<table border=\"1\" class=\"dataframe\">\n",
              "  <thead>\n",
              "    <tr style=\"text-align: right;\">\n",
              "      <th></th>\n",
              "      <th>genres</th>\n",
              "    </tr>\n",
              "    <tr>\n",
              "      <th>movieId</th>\n",
              "      <th></th>\n",
              "    </tr>\n",
              "  </thead>\n",
              "  <tbody>\n",
              "    <tr>\n",
              "      <th>1</th>\n",
              "      <td>[Animation, Children's, Comedy]</td>\n",
              "    </tr>\n",
              "    <tr>\n",
              "      <th>2</th>\n",
              "      <td>[Adventure, Children's, Fantasy]</td>\n",
              "    </tr>\n",
              "    <tr>\n",
              "      <th>3</th>\n",
              "      <td>[Comedy, Romance]</td>\n",
              "    </tr>\n",
              "    <tr>\n",
              "      <th>4</th>\n",
              "      <td>[Comedy, Drama]</td>\n",
              "    </tr>\n",
              "    <tr>\n",
              "      <th>5</th>\n",
              "      <td>[Comedy]</td>\n",
              "    </tr>\n",
              "    <tr>\n",
              "      <th>...</th>\n",
              "      <td>...</td>\n",
              "    </tr>\n",
              "    <tr>\n",
              "      <th>3948</th>\n",
              "      <td>[Comedy]</td>\n",
              "    </tr>\n",
              "    <tr>\n",
              "      <th>3949</th>\n",
              "      <td>[Drama]</td>\n",
              "    </tr>\n",
              "    <tr>\n",
              "      <th>3950</th>\n",
              "      <td>[Drama]</td>\n",
              "    </tr>\n",
              "    <tr>\n",
              "      <th>3951</th>\n",
              "      <td>[Drama]</td>\n",
              "    </tr>\n",
              "    <tr>\n",
              "      <th>3952</th>\n",
              "      <td>[Drama, Thriller]</td>\n",
              "    </tr>\n",
              "  </tbody>\n",
              "</table>\n",
              "<p>3883 rows × 1 columns</p>\n",
              "</div>\n",
              "      <button class=\"colab-df-convert\" onclick=\"convertToInteractive('df-247fbccc-4145-42a2-ac14-52c2b9cc4570')\"\n",
              "              title=\"Convert this dataframe to an interactive table.\"\n",
              "              style=\"display:none;\">\n",
              "        \n",
              "  <svg xmlns=\"http://www.w3.org/2000/svg\" height=\"24px\"viewBox=\"0 0 24 24\"\n",
              "       width=\"24px\">\n",
              "    <path d=\"M0 0h24v24H0V0z\" fill=\"none\"/>\n",
              "    <path d=\"M18.56 5.44l.94 2.06.94-2.06 2.06-.94-2.06-.94-.94-2.06-.94 2.06-2.06.94zm-11 1L8.5 8.5l.94-2.06 2.06-.94-2.06-.94L8.5 2.5l-.94 2.06-2.06.94zm10 10l.94 2.06.94-2.06 2.06-.94-2.06-.94-.94-2.06-.94 2.06-2.06.94z\"/><path d=\"M17.41 7.96l-1.37-1.37c-.4-.4-.92-.59-1.43-.59-.52 0-1.04.2-1.43.59L10.3 9.45l-7.72 7.72c-.78.78-.78 2.05 0 2.83L4 21.41c.39.39.9.59 1.41.59.51 0 1.02-.2 1.41-.59l7.78-7.78 2.81-2.81c.8-.78.8-2.07 0-2.86zM5.41 20L4 18.59l7.72-7.72 1.47 1.35L5.41 20z\"/>\n",
              "  </svg>\n",
              "      </button>\n",
              "      \n",
              "  <style>\n",
              "    .colab-df-container {\n",
              "      display:flex;\n",
              "      flex-wrap:wrap;\n",
              "      gap: 12px;\n",
              "    }\n",
              "\n",
              "    .colab-df-convert {\n",
              "      background-color: #E8F0FE;\n",
              "      border: none;\n",
              "      border-radius: 50%;\n",
              "      cursor: pointer;\n",
              "      display: none;\n",
              "      fill: #1967D2;\n",
              "      height: 32px;\n",
              "      padding: 0 0 0 0;\n",
              "      width: 32px;\n",
              "    }\n",
              "\n",
              "    .colab-df-convert:hover {\n",
              "      background-color: #E2EBFA;\n",
              "      box-shadow: 0px 1px 2px rgba(60, 64, 67, 0.3), 0px 1px 3px 1px rgba(60, 64, 67, 0.15);\n",
              "      fill: #174EA6;\n",
              "    }\n",
              "\n",
              "    [theme=dark] .colab-df-convert {\n",
              "      background-color: #3B4455;\n",
              "      fill: #D2E3FC;\n",
              "    }\n",
              "\n",
              "    [theme=dark] .colab-df-convert:hover {\n",
              "      background-color: #434B5C;\n",
              "      box-shadow: 0px 1px 3px 1px rgba(0, 0, 0, 0.15);\n",
              "      filter: drop-shadow(0px 1px 2px rgba(0, 0, 0, 0.3));\n",
              "      fill: #FFFFFF;\n",
              "    }\n",
              "  </style>\n",
              "\n",
              "      <script>\n",
              "        const buttonEl =\n",
              "          document.querySelector('#df-247fbccc-4145-42a2-ac14-52c2b9cc4570 button.colab-df-convert');\n",
              "        buttonEl.style.display =\n",
              "          google.colab.kernel.accessAllowed ? 'block' : 'none';\n",
              "\n",
              "        async function convertToInteractive(key) {\n",
              "          const element = document.querySelector('#df-247fbccc-4145-42a2-ac14-52c2b9cc4570');\n",
              "          const dataTable =\n",
              "            await google.colab.kernel.invokeFunction('convertToInteractive',\n",
              "                                                     [key], {});\n",
              "          if (!dataTable) return;\n",
              "\n",
              "          const docLinkHtml = 'Like what you see? Visit the ' +\n",
              "            '<a target=\"_blank\" href=https://colab.research.google.com/notebooks/data_table.ipynb>data table notebook</a>'\n",
              "            + ' to learn more about interactive tables.';\n",
              "          element.innerHTML = '';\n",
              "          dataTable['output_type'] = 'display_data';\n",
              "          await google.colab.output.renderOutput(dataTable, element);\n",
              "          const docLink = document.createElement('div');\n",
              "          docLink.innerHTML = docLinkHtml;\n",
              "          element.appendChild(docLink);\n",
              "        }\n",
              "      </script>\n",
              "    </div>\n",
              "  </div>\n",
              "  "
            ]
          },
          "metadata": {},
          "execution_count": 42
        }
      ],
      "source": [
        "#Generate \"year\" column and turn \"genres\" into a list\n",
        "# movies_df['year'] = movies_df.title.str.extract('(\\(\\d\\d\\d\\d\\))',expand=False)\n",
        "# movies_df['year'] = movies_df.year.str.extract('(\\d\\d\\d\\d)',expand=False)\n",
        "# movies_df['title'] = movies_df.title.str.replace('(\\(\\d\\d\\d\\d\\))', '')\n",
        "# movies_df['title'] = movies_df['title'].apply(lambda x: x.strip())\n",
        "movies_df['genres'] = movies_df.genres.str.split('|')\n",
        "movies_df = movies_df.drop(columns = 'title')\n",
        "movies_df = movies_df.set_index('movieId')\n",
        "# movies_df.astype({'year': 'int16'})\n",
        "movies_df"
      ]
    },
    {
      "cell_type": "code",
      "execution_count": null,
      "metadata": {
        "colab": {
          "base_uri": "https://localhost:8080/"
        },
        "id": "QfBWe-SHTfZv",
        "outputId": "f4b662a8-815c-4329-e251-ee120773e8a5"
      },
      "outputs": [
        {
          "output_type": "execute_result",
          "data": {
            "text/plain": [
              "         Animation  Children's  Comedy  Adventure  Fantasy  Romance  Drama  \\\n",
              "movieId                                                                      \n",
              "1              1.0         1.0     1.0        0.0      0.0      0.0    0.0   \n",
              "2              0.0         1.0     0.0        1.0      1.0      0.0    0.0   \n",
              "3              0.0         0.0     1.0        0.0      0.0      1.0    0.0   \n",
              "4              0.0         0.0     1.0        0.0      0.0      0.0    1.0   \n",
              "5              0.0         0.0     1.0        0.0      0.0      0.0    0.0   \n",
              "...            ...         ...     ...        ...      ...      ...    ...   \n",
              "3948           0.0         0.0     1.0        0.0      0.0      0.0    0.0   \n",
              "3949           0.0         0.0     0.0        0.0      0.0      0.0    1.0   \n",
              "3950           0.0         0.0     0.0        0.0      0.0      0.0    1.0   \n",
              "3951           0.0         0.0     0.0        0.0      0.0      0.0    1.0   \n",
              "3952           0.0         0.0     0.0        0.0      0.0      0.0    1.0   \n",
              "\n",
              "         Action  Crime  Thriller  Horror  Sci-Fi  Documentary  War  Musical  \\\n",
              "movieId                                                                       \n",
              "1           0.0    0.0       0.0     0.0     0.0          0.0  0.0      0.0   \n",
              "2           0.0    0.0       0.0     0.0     0.0          0.0  0.0      0.0   \n",
              "3           0.0    0.0       0.0     0.0     0.0          0.0  0.0      0.0   \n",
              "4           0.0    0.0       0.0     0.0     0.0          0.0  0.0      0.0   \n",
              "5           0.0    0.0       0.0     0.0     0.0          0.0  0.0      0.0   \n",
              "...         ...    ...       ...     ...     ...          ...  ...      ...   \n",
              "3948        0.0    0.0       0.0     0.0     0.0          0.0  0.0      0.0   \n",
              "3949        0.0    0.0       0.0     0.0     0.0          0.0  0.0      0.0   \n",
              "3950        0.0    0.0       0.0     0.0     0.0          0.0  0.0      0.0   \n",
              "3951        0.0    0.0       0.0     0.0     0.0          0.0  0.0      0.0   \n",
              "3952        0.0    0.0       1.0     0.0     0.0          0.0  0.0      0.0   \n",
              "\n",
              "         Mystery  Film-Noir  Western  \n",
              "movieId                               \n",
              "1            0.0        0.0      0.0  \n",
              "2            0.0        0.0      0.0  \n",
              "3            0.0        0.0      0.0  \n",
              "4            0.0        0.0      0.0  \n",
              "5            0.0        0.0      0.0  \n",
              "...          ...        ...      ...  \n",
              "3948         0.0        0.0      0.0  \n",
              "3949         0.0        0.0      0.0  \n",
              "3950         0.0        0.0      0.0  \n",
              "3951         0.0        0.0      0.0  \n",
              "3952         0.0        0.0      0.0  \n",
              "\n",
              "[3883 rows x 18 columns]"
            ],
            "text/html": [
              "\n",
              "  <div id=\"df-78bdf807-6014-4404-a312-cd297c9524c1\">\n",
              "    <div class=\"colab-df-container\">\n",
              "      <div>\n",
              "<style scoped>\n",
              "    .dataframe tbody tr th:only-of-type {\n",
              "        vertical-align: middle;\n",
              "    }\n",
              "\n",
              "    .dataframe tbody tr th {\n",
              "        vertical-align: top;\n",
              "    }\n",
              "\n",
              "    .dataframe thead th {\n",
              "        text-align: right;\n",
              "    }\n",
              "</style>\n",
              "<table border=\"1\" class=\"dataframe\">\n",
              "  <thead>\n",
              "    <tr style=\"text-align: right;\">\n",
              "      <th></th>\n",
              "      <th>Animation</th>\n",
              "      <th>Children's</th>\n",
              "      <th>Comedy</th>\n",
              "      <th>Adventure</th>\n",
              "      <th>Fantasy</th>\n",
              "      <th>Romance</th>\n",
              "      <th>Drama</th>\n",
              "      <th>Action</th>\n",
              "      <th>Crime</th>\n",
              "      <th>Thriller</th>\n",
              "      <th>Horror</th>\n",
              "      <th>Sci-Fi</th>\n",
              "      <th>Documentary</th>\n",
              "      <th>War</th>\n",
              "      <th>Musical</th>\n",
              "      <th>Mystery</th>\n",
              "      <th>Film-Noir</th>\n",
              "      <th>Western</th>\n",
              "    </tr>\n",
              "    <tr>\n",
              "      <th>movieId</th>\n",
              "      <th></th>\n",
              "      <th></th>\n",
              "      <th></th>\n",
              "      <th></th>\n",
              "      <th></th>\n",
              "      <th></th>\n",
              "      <th></th>\n",
              "      <th></th>\n",
              "      <th></th>\n",
              "      <th></th>\n",
              "      <th></th>\n",
              "      <th></th>\n",
              "      <th></th>\n",
              "      <th></th>\n",
              "      <th></th>\n",
              "      <th></th>\n",
              "      <th></th>\n",
              "      <th></th>\n",
              "    </tr>\n",
              "  </thead>\n",
              "  <tbody>\n",
              "    <tr>\n",
              "      <th>1</th>\n",
              "      <td>1.0</td>\n",
              "      <td>1.0</td>\n",
              "      <td>1.0</td>\n",
              "      <td>0.0</td>\n",
              "      <td>0.0</td>\n",
              "      <td>0.0</td>\n",
              "      <td>0.0</td>\n",
              "      <td>0.0</td>\n",
              "      <td>0.0</td>\n",
              "      <td>0.0</td>\n",
              "      <td>0.0</td>\n",
              "      <td>0.0</td>\n",
              "      <td>0.0</td>\n",
              "      <td>0.0</td>\n",
              "      <td>0.0</td>\n",
              "      <td>0.0</td>\n",
              "      <td>0.0</td>\n",
              "      <td>0.0</td>\n",
              "    </tr>\n",
              "    <tr>\n",
              "      <th>2</th>\n",
              "      <td>0.0</td>\n",
              "      <td>1.0</td>\n",
              "      <td>0.0</td>\n",
              "      <td>1.0</td>\n",
              "      <td>1.0</td>\n",
              "      <td>0.0</td>\n",
              "      <td>0.0</td>\n",
              "      <td>0.0</td>\n",
              "      <td>0.0</td>\n",
              "      <td>0.0</td>\n",
              "      <td>0.0</td>\n",
              "      <td>0.0</td>\n",
              "      <td>0.0</td>\n",
              "      <td>0.0</td>\n",
              "      <td>0.0</td>\n",
              "      <td>0.0</td>\n",
              "      <td>0.0</td>\n",
              "      <td>0.0</td>\n",
              "    </tr>\n",
              "    <tr>\n",
              "      <th>3</th>\n",
              "      <td>0.0</td>\n",
              "      <td>0.0</td>\n",
              "      <td>1.0</td>\n",
              "      <td>0.0</td>\n",
              "      <td>0.0</td>\n",
              "      <td>1.0</td>\n",
              "      <td>0.0</td>\n",
              "      <td>0.0</td>\n",
              "      <td>0.0</td>\n",
              "      <td>0.0</td>\n",
              "      <td>0.0</td>\n",
              "      <td>0.0</td>\n",
              "      <td>0.0</td>\n",
              "      <td>0.0</td>\n",
              "      <td>0.0</td>\n",
              "      <td>0.0</td>\n",
              "      <td>0.0</td>\n",
              "      <td>0.0</td>\n",
              "    </tr>\n",
              "    <tr>\n",
              "      <th>4</th>\n",
              "      <td>0.0</td>\n",
              "      <td>0.0</td>\n",
              "      <td>1.0</td>\n",
              "      <td>0.0</td>\n",
              "      <td>0.0</td>\n",
              "      <td>0.0</td>\n",
              "      <td>1.0</td>\n",
              "      <td>0.0</td>\n",
              "      <td>0.0</td>\n",
              "      <td>0.0</td>\n",
              "      <td>0.0</td>\n",
              "      <td>0.0</td>\n",
              "      <td>0.0</td>\n",
              "      <td>0.0</td>\n",
              "      <td>0.0</td>\n",
              "      <td>0.0</td>\n",
              "      <td>0.0</td>\n",
              "      <td>0.0</td>\n",
              "    </tr>\n",
              "    <tr>\n",
              "      <th>5</th>\n",
              "      <td>0.0</td>\n",
              "      <td>0.0</td>\n",
              "      <td>1.0</td>\n",
              "      <td>0.0</td>\n",
              "      <td>0.0</td>\n",
              "      <td>0.0</td>\n",
              "      <td>0.0</td>\n",
              "      <td>0.0</td>\n",
              "      <td>0.0</td>\n",
              "      <td>0.0</td>\n",
              "      <td>0.0</td>\n",
              "      <td>0.0</td>\n",
              "      <td>0.0</td>\n",
              "      <td>0.0</td>\n",
              "      <td>0.0</td>\n",
              "      <td>0.0</td>\n",
              "      <td>0.0</td>\n",
              "      <td>0.0</td>\n",
              "    </tr>\n",
              "    <tr>\n",
              "      <th>...</th>\n",
              "      <td>...</td>\n",
              "      <td>...</td>\n",
              "      <td>...</td>\n",
              "      <td>...</td>\n",
              "      <td>...</td>\n",
              "      <td>...</td>\n",
              "      <td>...</td>\n",
              "      <td>...</td>\n",
              "      <td>...</td>\n",
              "      <td>...</td>\n",
              "      <td>...</td>\n",
              "      <td>...</td>\n",
              "      <td>...</td>\n",
              "      <td>...</td>\n",
              "      <td>...</td>\n",
              "      <td>...</td>\n",
              "      <td>...</td>\n",
              "      <td>...</td>\n",
              "    </tr>\n",
              "    <tr>\n",
              "      <th>3948</th>\n",
              "      <td>0.0</td>\n",
              "      <td>0.0</td>\n",
              "      <td>1.0</td>\n",
              "      <td>0.0</td>\n",
              "      <td>0.0</td>\n",
              "      <td>0.0</td>\n",
              "      <td>0.0</td>\n",
              "      <td>0.0</td>\n",
              "      <td>0.0</td>\n",
              "      <td>0.0</td>\n",
              "      <td>0.0</td>\n",
              "      <td>0.0</td>\n",
              "      <td>0.0</td>\n",
              "      <td>0.0</td>\n",
              "      <td>0.0</td>\n",
              "      <td>0.0</td>\n",
              "      <td>0.0</td>\n",
              "      <td>0.0</td>\n",
              "    </tr>\n",
              "    <tr>\n",
              "      <th>3949</th>\n",
              "      <td>0.0</td>\n",
              "      <td>0.0</td>\n",
              "      <td>0.0</td>\n",
              "      <td>0.0</td>\n",
              "      <td>0.0</td>\n",
              "      <td>0.0</td>\n",
              "      <td>1.0</td>\n",
              "      <td>0.0</td>\n",
              "      <td>0.0</td>\n",
              "      <td>0.0</td>\n",
              "      <td>0.0</td>\n",
              "      <td>0.0</td>\n",
              "      <td>0.0</td>\n",
              "      <td>0.0</td>\n",
              "      <td>0.0</td>\n",
              "      <td>0.0</td>\n",
              "      <td>0.0</td>\n",
              "      <td>0.0</td>\n",
              "    </tr>\n",
              "    <tr>\n",
              "      <th>3950</th>\n",
              "      <td>0.0</td>\n",
              "      <td>0.0</td>\n",
              "      <td>0.0</td>\n",
              "      <td>0.0</td>\n",
              "      <td>0.0</td>\n",
              "      <td>0.0</td>\n",
              "      <td>1.0</td>\n",
              "      <td>0.0</td>\n",
              "      <td>0.0</td>\n",
              "      <td>0.0</td>\n",
              "      <td>0.0</td>\n",
              "      <td>0.0</td>\n",
              "      <td>0.0</td>\n",
              "      <td>0.0</td>\n",
              "      <td>0.0</td>\n",
              "      <td>0.0</td>\n",
              "      <td>0.0</td>\n",
              "      <td>0.0</td>\n",
              "    </tr>\n",
              "    <tr>\n",
              "      <th>3951</th>\n",
              "      <td>0.0</td>\n",
              "      <td>0.0</td>\n",
              "      <td>0.0</td>\n",
              "      <td>0.0</td>\n",
              "      <td>0.0</td>\n",
              "      <td>0.0</td>\n",
              "      <td>1.0</td>\n",
              "      <td>0.0</td>\n",
              "      <td>0.0</td>\n",
              "      <td>0.0</td>\n",
              "      <td>0.0</td>\n",
              "      <td>0.0</td>\n",
              "      <td>0.0</td>\n",
              "      <td>0.0</td>\n",
              "      <td>0.0</td>\n",
              "      <td>0.0</td>\n",
              "      <td>0.0</td>\n",
              "      <td>0.0</td>\n",
              "    </tr>\n",
              "    <tr>\n",
              "      <th>3952</th>\n",
              "      <td>0.0</td>\n",
              "      <td>0.0</td>\n",
              "      <td>0.0</td>\n",
              "      <td>0.0</td>\n",
              "      <td>0.0</td>\n",
              "      <td>0.0</td>\n",
              "      <td>1.0</td>\n",
              "      <td>0.0</td>\n",
              "      <td>0.0</td>\n",
              "      <td>1.0</td>\n",
              "      <td>0.0</td>\n",
              "      <td>0.0</td>\n",
              "      <td>0.0</td>\n",
              "      <td>0.0</td>\n",
              "      <td>0.0</td>\n",
              "      <td>0.0</td>\n",
              "      <td>0.0</td>\n",
              "      <td>0.0</td>\n",
              "    </tr>\n",
              "  </tbody>\n",
              "</table>\n",
              "<p>3883 rows × 18 columns</p>\n",
              "</div>\n",
              "      <button class=\"colab-df-convert\" onclick=\"convertToInteractive('df-78bdf807-6014-4404-a312-cd297c9524c1')\"\n",
              "              title=\"Convert this dataframe to an interactive table.\"\n",
              "              style=\"display:none;\">\n",
              "        \n",
              "  <svg xmlns=\"http://www.w3.org/2000/svg\" height=\"24px\"viewBox=\"0 0 24 24\"\n",
              "       width=\"24px\">\n",
              "    <path d=\"M0 0h24v24H0V0z\" fill=\"none\"/>\n",
              "    <path d=\"M18.56 5.44l.94 2.06.94-2.06 2.06-.94-2.06-.94-.94-2.06-.94 2.06-2.06.94zm-11 1L8.5 8.5l.94-2.06 2.06-.94-2.06-.94L8.5 2.5l-.94 2.06-2.06.94zm10 10l.94 2.06.94-2.06 2.06-.94-2.06-.94-.94-2.06-.94 2.06-2.06.94z\"/><path d=\"M17.41 7.96l-1.37-1.37c-.4-.4-.92-.59-1.43-.59-.52 0-1.04.2-1.43.59L10.3 9.45l-7.72 7.72c-.78.78-.78 2.05 0 2.83L4 21.41c.39.39.9.59 1.41.59.51 0 1.02-.2 1.41-.59l7.78-7.78 2.81-2.81c.8-.78.8-2.07 0-2.86zM5.41 20L4 18.59l7.72-7.72 1.47 1.35L5.41 20z\"/>\n",
              "  </svg>\n",
              "      </button>\n",
              "      \n",
              "  <style>\n",
              "    .colab-df-container {\n",
              "      display:flex;\n",
              "      flex-wrap:wrap;\n",
              "      gap: 12px;\n",
              "    }\n",
              "\n",
              "    .colab-df-convert {\n",
              "      background-color: #E8F0FE;\n",
              "      border: none;\n",
              "      border-radius: 50%;\n",
              "      cursor: pointer;\n",
              "      display: none;\n",
              "      fill: #1967D2;\n",
              "      height: 32px;\n",
              "      padding: 0 0 0 0;\n",
              "      width: 32px;\n",
              "    }\n",
              "\n",
              "    .colab-df-convert:hover {\n",
              "      background-color: #E2EBFA;\n",
              "      box-shadow: 0px 1px 2px rgba(60, 64, 67, 0.3), 0px 1px 3px 1px rgba(60, 64, 67, 0.15);\n",
              "      fill: #174EA6;\n",
              "    }\n",
              "\n",
              "    [theme=dark] .colab-df-convert {\n",
              "      background-color: #3B4455;\n",
              "      fill: #D2E3FC;\n",
              "    }\n",
              "\n",
              "    [theme=dark] .colab-df-convert:hover {\n",
              "      background-color: #434B5C;\n",
              "      box-shadow: 0px 1px 3px 1px rgba(0, 0, 0, 0.15);\n",
              "      filter: drop-shadow(0px 1px 2px rgba(0, 0, 0, 0.3));\n",
              "      fill: #FFFFFF;\n",
              "    }\n",
              "  </style>\n",
              "\n",
              "      <script>\n",
              "        const buttonEl =\n",
              "          document.querySelector('#df-78bdf807-6014-4404-a312-cd297c9524c1 button.colab-df-convert');\n",
              "        buttonEl.style.display =\n",
              "          google.colab.kernel.accessAllowed ? 'block' : 'none';\n",
              "\n",
              "        async function convertToInteractive(key) {\n",
              "          const element = document.querySelector('#df-78bdf807-6014-4404-a312-cd297c9524c1');\n",
              "          const dataTable =\n",
              "            await google.colab.kernel.invokeFunction('convertToInteractive',\n",
              "                                                     [key], {});\n",
              "          if (!dataTable) return;\n",
              "\n",
              "          const docLinkHtml = 'Like what you see? Visit the ' +\n",
              "            '<a target=\"_blank\" href=https://colab.research.google.com/notebooks/data_table.ipynb>data table notebook</a>'\n",
              "            + ' to learn more about interactive tables.';\n",
              "          element.innerHTML = '';\n",
              "          dataTable['output_type'] = 'display_data';\n",
              "          await google.colab.output.renderOutput(dataTable, element);\n",
              "          const docLink = document.createElement('div');\n",
              "          docLink.innerHTML = docLinkHtml;\n",
              "          element.appendChild(docLink);\n",
              "        }\n",
              "      </script>\n",
              "    </div>\n",
              "  </div>\n",
              "  "
            ]
          },
          "metadata": {},
          "execution_count": 43
        }
      ],
      "source": [
        "#Isolate each genre from \"genres\"\n",
        "for index, row in movies_df.iterrows():\n",
        "    for genre in row['genres']:\n",
        "        movies_df.at[index, genre] = 1\n",
        "\n",
        "movies_df = movies_df.fillna(0)\n",
        "movies_df = movies_df.drop(columns = ['genres'])\n",
        "movies_df = movies_df.astype('float16')\n",
        "movies_df"
      ]
    },
    {
      "cell_type": "markdown",
      "metadata": {
        "id": "w1o0G934FqUn"
      },
      "source": [
        "# ratings_df"
      ]
    },
    {
      "cell_type": "code",
      "execution_count": null,
      "metadata": {
        "colab": {
          "base_uri": "https://localhost:8080/"
        },
        "id": "arOQq5THMcYv",
        "outputId": "ad75dff3-b9cf-4264-8362-d085dc7bdcfc"
      },
      "outputs": [
        {
          "output_type": "stream",
          "name": "stderr",
          "text": [
            "<ipython-input-44-11b87df5fbe9>:2: ParserWarning: Falling back to the 'python' engine because the 'c' engine does not support regex separators (separators > 1 char and different from '\\s+' are interpreted as regex); you can avoid this warning by specifying engine='python'.\n",
            "  ratings_df = pd.read_csv('/content/drive/MyDrive/Colab/ratings.dat', sep = \"::\", names = [\"userId\", \"movieId\", \"rating\", \"timestamp\"], dtype = {'userId':'int32', 'movieId':'int32', 'rating':'float16'})\n"
          ]
        },
        {
          "output_type": "execute_result",
          "data": {
            "text/plain": [
              "         userId  movieId  rating  timestamp\n",
              "0             1     1193     5.0  978300760\n",
              "1             1      661     3.0  978302109\n",
              "2             1      914     3.0  978301968\n",
              "3             1     3408     4.0  978300275\n",
              "4             1     2355     5.0  978824291\n",
              "...         ...      ...     ...        ...\n",
              "1000204    6040     1091     1.0  956716541\n",
              "1000205    6040     1094     5.0  956704887\n",
              "1000206    6040      562     5.0  956704746\n",
              "1000207    6040     1096     4.0  956715648\n",
              "1000208    6040     1097     4.0  956715569\n",
              "\n",
              "[1000209 rows x 4 columns]"
            ],
            "text/html": [
              "\n",
              "  <div id=\"df-637382e1-2d80-4d24-8af1-0d31f7402137\">\n",
              "    <div class=\"colab-df-container\">\n",
              "      <div>\n",
              "<style scoped>\n",
              "    .dataframe tbody tr th:only-of-type {\n",
              "        vertical-align: middle;\n",
              "    }\n",
              "\n",
              "    .dataframe tbody tr th {\n",
              "        vertical-align: top;\n",
              "    }\n",
              "\n",
              "    .dataframe thead th {\n",
              "        text-align: right;\n",
              "    }\n",
              "</style>\n",
              "<table border=\"1\" class=\"dataframe\">\n",
              "  <thead>\n",
              "    <tr style=\"text-align: right;\">\n",
              "      <th></th>\n",
              "      <th>userId</th>\n",
              "      <th>movieId</th>\n",
              "      <th>rating</th>\n",
              "      <th>timestamp</th>\n",
              "    </tr>\n",
              "  </thead>\n",
              "  <tbody>\n",
              "    <tr>\n",
              "      <th>0</th>\n",
              "      <td>1</td>\n",
              "      <td>1193</td>\n",
              "      <td>5.0</td>\n",
              "      <td>978300760</td>\n",
              "    </tr>\n",
              "    <tr>\n",
              "      <th>1</th>\n",
              "      <td>1</td>\n",
              "      <td>661</td>\n",
              "      <td>3.0</td>\n",
              "      <td>978302109</td>\n",
              "    </tr>\n",
              "    <tr>\n",
              "      <th>2</th>\n",
              "      <td>1</td>\n",
              "      <td>914</td>\n",
              "      <td>3.0</td>\n",
              "      <td>978301968</td>\n",
              "    </tr>\n",
              "    <tr>\n",
              "      <th>3</th>\n",
              "      <td>1</td>\n",
              "      <td>3408</td>\n",
              "      <td>4.0</td>\n",
              "      <td>978300275</td>\n",
              "    </tr>\n",
              "    <tr>\n",
              "      <th>4</th>\n",
              "      <td>1</td>\n",
              "      <td>2355</td>\n",
              "      <td>5.0</td>\n",
              "      <td>978824291</td>\n",
              "    </tr>\n",
              "    <tr>\n",
              "      <th>...</th>\n",
              "      <td>...</td>\n",
              "      <td>...</td>\n",
              "      <td>...</td>\n",
              "      <td>...</td>\n",
              "    </tr>\n",
              "    <tr>\n",
              "      <th>1000204</th>\n",
              "      <td>6040</td>\n",
              "      <td>1091</td>\n",
              "      <td>1.0</td>\n",
              "      <td>956716541</td>\n",
              "    </tr>\n",
              "    <tr>\n",
              "      <th>1000205</th>\n",
              "      <td>6040</td>\n",
              "      <td>1094</td>\n",
              "      <td>5.0</td>\n",
              "      <td>956704887</td>\n",
              "    </tr>\n",
              "    <tr>\n",
              "      <th>1000206</th>\n",
              "      <td>6040</td>\n",
              "      <td>562</td>\n",
              "      <td>5.0</td>\n",
              "      <td>956704746</td>\n",
              "    </tr>\n",
              "    <tr>\n",
              "      <th>1000207</th>\n",
              "      <td>6040</td>\n",
              "      <td>1096</td>\n",
              "      <td>4.0</td>\n",
              "      <td>956715648</td>\n",
              "    </tr>\n",
              "    <tr>\n",
              "      <th>1000208</th>\n",
              "      <td>6040</td>\n",
              "      <td>1097</td>\n",
              "      <td>4.0</td>\n",
              "      <td>956715569</td>\n",
              "    </tr>\n",
              "  </tbody>\n",
              "</table>\n",
              "<p>1000209 rows × 4 columns</p>\n",
              "</div>\n",
              "      <button class=\"colab-df-convert\" onclick=\"convertToInteractive('df-637382e1-2d80-4d24-8af1-0d31f7402137')\"\n",
              "              title=\"Convert this dataframe to an interactive table.\"\n",
              "              style=\"display:none;\">\n",
              "        \n",
              "  <svg xmlns=\"http://www.w3.org/2000/svg\" height=\"24px\"viewBox=\"0 0 24 24\"\n",
              "       width=\"24px\">\n",
              "    <path d=\"M0 0h24v24H0V0z\" fill=\"none\"/>\n",
              "    <path d=\"M18.56 5.44l.94 2.06.94-2.06 2.06-.94-2.06-.94-.94-2.06-.94 2.06-2.06.94zm-11 1L8.5 8.5l.94-2.06 2.06-.94-2.06-.94L8.5 2.5l-.94 2.06-2.06.94zm10 10l.94 2.06.94-2.06 2.06-.94-2.06-.94-.94-2.06-.94 2.06-2.06.94z\"/><path d=\"M17.41 7.96l-1.37-1.37c-.4-.4-.92-.59-1.43-.59-.52 0-1.04.2-1.43.59L10.3 9.45l-7.72 7.72c-.78.78-.78 2.05 0 2.83L4 21.41c.39.39.9.59 1.41.59.51 0 1.02-.2 1.41-.59l7.78-7.78 2.81-2.81c.8-.78.8-2.07 0-2.86zM5.41 20L4 18.59l7.72-7.72 1.47 1.35L5.41 20z\"/>\n",
              "  </svg>\n",
              "      </button>\n",
              "      \n",
              "  <style>\n",
              "    .colab-df-container {\n",
              "      display:flex;\n",
              "      flex-wrap:wrap;\n",
              "      gap: 12px;\n",
              "    }\n",
              "\n",
              "    .colab-df-convert {\n",
              "      background-color: #E8F0FE;\n",
              "      border: none;\n",
              "      border-radius: 50%;\n",
              "      cursor: pointer;\n",
              "      display: none;\n",
              "      fill: #1967D2;\n",
              "      height: 32px;\n",
              "      padding: 0 0 0 0;\n",
              "      width: 32px;\n",
              "    }\n",
              "\n",
              "    .colab-df-convert:hover {\n",
              "      background-color: #E2EBFA;\n",
              "      box-shadow: 0px 1px 2px rgba(60, 64, 67, 0.3), 0px 1px 3px 1px rgba(60, 64, 67, 0.15);\n",
              "      fill: #174EA6;\n",
              "    }\n",
              "\n",
              "    [theme=dark] .colab-df-convert {\n",
              "      background-color: #3B4455;\n",
              "      fill: #D2E3FC;\n",
              "    }\n",
              "\n",
              "    [theme=dark] .colab-df-convert:hover {\n",
              "      background-color: #434B5C;\n",
              "      box-shadow: 0px 1px 3px 1px rgba(0, 0, 0, 0.15);\n",
              "      filter: drop-shadow(0px 1px 2px rgba(0, 0, 0, 0.3));\n",
              "      fill: #FFFFFF;\n",
              "    }\n",
              "  </style>\n",
              "\n",
              "      <script>\n",
              "        const buttonEl =\n",
              "          document.querySelector('#df-637382e1-2d80-4d24-8af1-0d31f7402137 button.colab-df-convert');\n",
              "        buttonEl.style.display =\n",
              "          google.colab.kernel.accessAllowed ? 'block' : 'none';\n",
              "\n",
              "        async function convertToInteractive(key) {\n",
              "          const element = document.querySelector('#df-637382e1-2d80-4d24-8af1-0d31f7402137');\n",
              "          const dataTable =\n",
              "            await google.colab.kernel.invokeFunction('convertToInteractive',\n",
              "                                                     [key], {});\n",
              "          if (!dataTable) return;\n",
              "\n",
              "          const docLinkHtml = 'Like what you see? Visit the ' +\n",
              "            '<a target=\"_blank\" href=https://colab.research.google.com/notebooks/data_table.ipynb>data table notebook</a>'\n",
              "            + ' to learn more about interactive tables.';\n",
              "          element.innerHTML = '';\n",
              "          dataTable['output_type'] = 'display_data';\n",
              "          await google.colab.output.renderOutput(dataTable, element);\n",
              "          const docLink = document.createElement('div');\n",
              "          docLink.innerHTML = docLinkHtml;\n",
              "          element.appendChild(docLink);\n",
              "        }\n",
              "      </script>\n",
              "    </div>\n",
              "  </div>\n",
              "  "
            ]
          },
          "metadata": {},
          "execution_count": 44
        }
      ],
      "source": [
        "# ratings_df = pd.read_csv('/content/drive/MyDrive/Colab/miniRating.csv')\n",
        "ratings_df = pd.read_csv('/content/drive/MyDrive/Colab/ratings.dat', sep = \"::\", names = [\"userId\", \"movieId\", \"rating\", \"timestamp\"], dtype = {'userId':'int32', 'movieId':'int32', 'rating':'float16'}) \n",
        "ratings_df"
      ]
    },
    {
      "cell_type": "markdown",
      "metadata": {
        "id": "vGT_Yp1vRCP2"
      },
      "source": [
        "Split train - test set (10%)"
      ]
    },
    {
      "cell_type": "code",
      "execution_count": null,
      "metadata": {
        "id": "Jmm-H-_zJUKf"
      },
      "outputs": [],
      "source": [
        "from sklearn.model_selection import train_test_split\n",
        "r_train, r_test = train_test_split(ratings_df, test_size=0.1, stratify=ratings_df['userId'])"
      ]
    },
    {
      "cell_type": "markdown",
      "metadata": {
        "id": "-OFXVnxARIV4"
      },
      "source": [
        "Item-user matrix on training set"
      ]
    },
    {
      "cell_type": "code",
      "execution_count": null,
      "metadata": {
        "colab": {
          "base_uri": "https://localhost:8080/"
        },
        "id": "Ue_3QSklaHUx",
        "outputId": "0b6fa9de-9105-4379-efb7-ec68dd4798f3"
      },
      "outputs": [
        {
          "output_type": "execute_result",
          "data": {
            "text/plain": [
              "array([[ 5., nan, nan, ..., nan, nan,  3.],\n",
              "       [nan, nan, nan, ..., nan, nan, nan],\n",
              "       [nan, nan, nan, ..., nan, nan, nan],\n",
              "       ...,\n",
              "       [nan, nan, nan, ..., nan, nan, nan],\n",
              "       [nan, nan, nan, ..., nan, nan, nan],\n",
              "       [nan, nan, nan, ..., nan, nan, nan]])"
            ]
          },
          "metadata": {},
          "execution_count": 46
        }
      ],
      "source": [
        "movieId = movies_df.index\n",
        "userId = ratings_df['userId'].drop_duplicates()\n",
        "originalRating = np.full([max(movieId), max(userId)], np.nan)\n",
        "\n",
        "\n",
        "for line in r_train.itertuples():\n",
        "    # user_id = line[1][0]\n",
        "    # movie_id = line[1][1]\n",
        "    # rating = line[1][2]\n",
        "    # originalRating[movie_id][user_id] = rating\n",
        "    # originalRating[line[1][1]][line[1][0]] = line[1][2]\n",
        "    originalRating[line[2]-1][line[1]-1] = line[3]\n",
        "\n",
        "\n",
        "\n",
        "originalRating\n",
        "\n",
        "\n"
      ]
    },
    {
      "cell_type": "markdown",
      "metadata": {
        "id": "VDSIv9RuZCGK"
      },
      "source": [
        "# **Split Training - Test set**"
      ]
    },
    {
      "cell_type": "code",
      "execution_count": null,
      "metadata": {
        "id": "XBMp1mcr2xpT"
      },
      "outputs": [],
      "source": [
        "# a = sorted(ratingUseri.index)\n",
        "# random.shuffle(a)\n",
        "# print(random.shuffle([0, 1, 2, 3]))\n",
        "# print(a)\n",
        "# (sorted(ratingUseri.index))"
      ]
    },
    {
      "cell_type": "code",
      "execution_count": null,
      "metadata": {
        "id": "NmSaidFZTTC0"
      },
      "outputs": [],
      "source": [
        "# import random\n",
        "# trainRating = []\n",
        "# testRating = []\n",
        "# userId = ratings_df['userId'].drop_duplicates().tolist()\n",
        "# for i in userId:\n",
        "#     ratingUseri = ratings_df.loc[ratings_df['userId'] == i]\n",
        "#     index = ratings_df.index\n",
        "#     split = int(len(ratingUseri.index)*0.8)\n",
        "#     temp = sorted(ratingUseri.index)\n",
        "#     random.shuffle(temp)\n",
        "#     trainRating.append(ratingUseri.loc[temp[:split]])\n",
        "#     testRating.append(ratingUseri.loc[temp[split:]])\n"
      ]
    },
    {
      "cell_type": "code",
      "execution_count": null,
      "metadata": {
        "id": "DnfnTm1oUZBC"
      },
      "outputs": [],
      "source": [
        "# trainRating = pd.concat(trainRating, ignore_index=True)\n",
        "# trainRating"
      ]
    },
    {
      "cell_type": "code",
      "execution_count": null,
      "metadata": {
        "id": "_x-5o7WaxvmY"
      },
      "outputs": [],
      "source": [
        "# #Generate training dataframe\n",
        "# ratings_dict = {}\n",
        "# for line in trainRating.iterrows():\n",
        "#     user_id = line[1][0]\n",
        "#     movie_id = line[1][1]\n",
        "#     rating = line[1][2]\n",
        "\n",
        "#     if movie_id not in ratings_dict:\n",
        "#         ratings_dict[movie_id] = {}\n",
        "\n",
        "#     ratings_dict[movie_id][user_id] = rating\n",
        "# ratings_dict = dict(sorted(ratings_dict.items()))\n",
        "\n",
        "# trainRating = pd.DataFrame(ratings_dict)\n",
        "# trainRating = trainRating.T\n",
        "# trainRating = trainRating.sort_index(axis=1)\n",
        "# trainRating\n",
        "\n"
      ]
    },
    {
      "cell_type": "code",
      "execution_count": null,
      "metadata": {
        "id": "qAGa9e_LvfGX"
      },
      "outputs": [],
      "source": [
        "# testRating = pd.concat(testRating, ignore_index=True)\n",
        "# testRating"
      ]
    },
    {
      "cell_type": "code",
      "execution_count": null,
      "metadata": {
        "id": "c9WzK-PHx_Y0"
      },
      "outputs": [],
      "source": [
        "# #Generate test dataframe\n",
        "# ratings_dict = {}\n",
        "# for line in testRating.iterrows():\n",
        "#     user_id = line[1][0]\n",
        "#     movie_id = line[1][1]\n",
        "#     rating = line[1][2]\n",
        "\n",
        "#     if movie_id not in ratings_dict:\n",
        "#         ratings_dict[movie_id] = {}\n",
        "\n",
        "#     ratings_dict[movie_id][user_id] = rating\n",
        "# ratings_dict = dict(sorted(ratings_dict.items()))\n",
        "\n",
        "# testRating = pd.DataFrame(ratings_dict)\n",
        "# testRating = testRating.T\n",
        "# testRating = testRating.sort_index(axis=1)\n",
        "# testRating\n",
        "\n"
      ]
    },
    {
      "cell_type": "markdown",
      "metadata": {
        "id": "P9jzivpX4rWB"
      },
      "source": [
        "# **Content Based**"
      ]
    },
    {
      "cell_type": "code",
      "execution_count": null,
      "metadata": {
        "id": "aAYX0N4YoKRq"
      },
      "outputs": [],
      "source": []
    },
    {
      "cell_type": "markdown",
      "metadata": {
        "id": "6JpbC4eSVP5N"
      },
      "source": [
        "# ***User-User***\n"
      ]
    },
    {
      "cell_type": "markdown",
      "metadata": {
        "id": "GNfVJtEBVP5V"
      },
      "source": [
        "Normalize Item-user matrix"
      ]
    },
    {
      "cell_type": "code",
      "execution_count": null,
      "metadata": {
        "id": "806bCI7aVP5W"
      },
      "outputs": [],
      "source": [
        "# Normalize Item-user matrix\n",
        "item_user = (originalRating-np.nanmean(originalRating, axis=0))\n",
        "# item_user \n"
      ]
    },
    {
      "cell_type": "markdown",
      "metadata": {
        "id": "bZw70jpvVP5W"
      },
      "source": [
        "Get all movies are not watched by each person "
      ]
    },
    {
      "cell_type": "code",
      "execution_count": null,
      "metadata": {
        "id": "6--t8oKwVP5W"
      },
      "outputs": [],
      "source": [
        "# Get all users do not watched movie i\n",
        "indexNanMovie = [0 for i in range(max(movieId))]\n",
        "for i in range(max(movieId)):\n",
        "    indexNanMovie[i] = np.where(np.isnan(item_user[i]))[0]\n",
        "# indexNanMovie"
      ]
    },
    {
      "cell_type": "markdown",
      "metadata": {
        "id": "3lI2S75fVP5W"
      },
      "source": [
        "Get all movies watched by each person"
      ]
    },
    {
      "cell_type": "code",
      "execution_count": null,
      "metadata": {
        "id": "I4gNbfUuVP5W"
      },
      "outputs": [],
      "source": [
        "# Get all movies watched by each person\n",
        "indexRatedMovie = [0 for i in range(max(movieId))]\n",
        "for i in range(max(movieId)):\n",
        "    indexRatedMovie[i] = np.where(~np.isnan(item_user[i]))[0]\n",
        "# indexRatedMovie"
      ]
    },
    {
      "cell_type": "markdown",
      "metadata": {
        "id": "3CvHSHhbVP5W"
      },
      "source": [
        "\n",
        "Fill nan value in Item-user matrix with 0"
      ]
    },
    {
      "cell_type": "code",
      "execution_count": null,
      "metadata": {
        "id": "xqbcUXwsVP5W"
      },
      "outputs": [],
      "source": [
        "# Fill nan value in Item-user matrix with 0\n",
        "user_user = np.nan_to_num(item_user)\n",
        "# user_user"
      ]
    },
    {
      "cell_type": "markdown",
      "metadata": {
        "id": "FVOaBR4XVP5W"
      },
      "source": [
        "Similarity func"
      ]
    },
    {
      "cell_type": "code",
      "execution_count": null,
      "metadata": {
        "id": "zlUtLTR2VP5W"
      },
      "outputs": [],
      "source": [
        "# Similarity func\n",
        "import math\n",
        "def cos(x,y):\n",
        "    if x.dot(y)==0:\n",
        "        return 0\n",
        "    return x.dot(y)/math.sqrt(np.sum(x**2)*np.sum(y**2))\n",
        "    "
      ]
    },
    {
      "cell_type": "markdown",
      "metadata": {
        "id": "Nm4Ki22HVP5W"
      },
      "source": [
        "Calculate Item similiarity matrix"
      ]
    },
    {
      "cell_type": "code",
      "execution_count": null,
      "metadata": {
        "id": "pGH_tcsjVP5W"
      },
      "outputs": [],
      "source": [
        "# Calculate Item similiarity matrix\n",
        "similiarityUser = np.full([max(userId), max(userId)], np.nan)\n",
        "for i in range(max(userId)):\n",
        "    for j in range(i, max(userId)):\n",
        "        sim = cos(user_user[:,i], user_user[:,j])\n",
        "        similiarityUser[i][j] = sim\n",
        "        similiarityUser[j][i] = sim\n",
        "# similiarityUser"
      ]
    },
    {
      "cell_type": "markdown",
      "metadata": {
        "id": "4KuerRnDVP5W"
      },
      "source": [
        "Predict nan rating "
      ]
    },
    {
      "cell_type": "code",
      "execution_count": null,
      "metadata": {
        "colab": {
          "base_uri": "https://localhost:8080/"
        },
        "id": "_lOjeNunVP5X",
        "outputId": "43cb1357-4cda-434f-d4b8-77b54e49e705"
      },
      "outputs": [
        {
          "output_type": "stream",
          "name": "stderr",
          "text": [
            "<ipython-input-69-af19a50110b1>:11: RuntimeWarning: invalid value encountered in double_scalars\n",
            "  predict[i][nul[u]] = (sim[u][rateIndex] @ rate / sum(np.abs(sim[u][rateIndex])))\n"
          ]
        }
      ],
      "source": [
        "# Predict nan rating \n",
        "# 13min\n",
        "movieId = r_test['movieId'].drop_duplicates()\n",
        "predict = item_user.copy()\n",
        "for i in movieId-1:\n",
        "    rate = (item_user[i][~np.isnan(item_user[i])]) # All ratings of movie i\n",
        "    rateIndex = indexRatedMovie[i] # users watch movie i\n",
        "    nul = indexNanMovie[i] # users do not watch movie i\n",
        "    sim = similiarityUser[nul]\n",
        "    for u in range(len(sim)):\n",
        "        predict[i][nul[u]] = (sim[u][rateIndex] @ rate / sum(np.abs(sim[u][rateIndex])))\n",
        "# predict"
      ]
    },
    {
      "cell_type": "markdown",
      "metadata": {
        "id": "bRVz4KeZVP5X"
      },
      "source": [
        "Denormalize predict matrix"
      ]
    },
    {
      "cell_type": "code",
      "execution_count": null,
      "metadata": {
        "colab": {
          "base_uri": "https://localhost:8080/"
        },
        "id": "vbkKNVMFVP5X",
        "outputId": "970ffcf5-aecf-41f9-89e0-ac5f22922db1"
      },
      "outputs": [
        {
          "output_type": "execute_result",
          "data": {
            "text/plain": [
              "array([[5.        ,        nan,        nan, ...,        nan,        nan,\n",
              "        3.        ],\n",
              "       [       nan, 3.32022416, 3.71116017, ..., 3.88440405, 3.57854799,\n",
              "        3.13414651],\n",
              "       [       nan, 3.23560327, 3.6880803 , ..., 3.69584187, 3.49596968,\n",
              "        3.03408848],\n",
              "       ...,\n",
              "       [       nan, 3.91090657, 4.09099456, ..., 3.81625121, 4.02275144,\n",
              "        3.70377938],\n",
              "       [       nan, 4.04390296, 3.9410013 , ..., 3.60521951, 4.16938982,\n",
              "        3.93961356],\n",
              "       [       nan, 3.83462091, 4.02820829, ..., 3.89922872, 4.07860049,\n",
              "        3.69257373]])"
            ]
          },
          "metadata": {},
          "execution_count": 70
        }
      ],
      "source": [
        "# Denormalize predict matrix\n",
        "predictUser = (predict + np.nanmean(originalRating, axis=0))\n",
        "predictUser"
      ]
    },
    {
      "cell_type": "markdown",
      "metadata": {
        "id": "JCXKv-bz12sW"
      },
      "source": [
        "# ***Item-Item***\n"
      ]
    },
    {
      "cell_type": "markdown",
      "metadata": {
        "id": "EGrtLoGLRnsX"
      },
      "source": [
        "Normalize Item-user matrix"
      ]
    },
    {
      "cell_type": "code",
      "execution_count": null,
      "metadata": {
        "colab": {
          "base_uri": "https://localhost:8080/"
        },
        "id": "AlEPvyjGWzsK",
        "outputId": "47f7c0c2-56e0-4594-d81e-57661b3e9f8a"
      },
      "outputs": [
        {
          "output_type": "stream",
          "name": "stderr",
          "text": [
            "<ipython-input-47-ef420703ed1b>:2: RuntimeWarning: Mean of empty slice\n",
            "  itemRating = (originalRating.T-np.nanmean(originalRating, axis=1)).T\n"
          ]
        }
      ],
      "source": [
        "# Normalize Item-user matrix\n",
        "itemRating = (originalRating.T-np.nanmean(originalRating, axis=1)).T\n",
        "# itemRating \n"
      ]
    },
    {
      "cell_type": "markdown",
      "metadata": {
        "id": "2Occ-j6VTosB"
      },
      "source": [
        "Get all movies are not watched by each person "
      ]
    },
    {
      "cell_type": "code",
      "execution_count": null,
      "metadata": {
        "id": "sG53NMOnySHD"
      },
      "outputs": [],
      "source": [
        "# Get all movies are not watched by each person\n",
        "indexNanMovie = [0 for i in range(max(userId))]\n",
        "for i in range(max(userId)):\n",
        "    indexNanMovie[i] = np.where(np.isnan(itemRating.T[i]))[0]\n"
      ]
    },
    {
      "cell_type": "markdown",
      "metadata": {
        "id": "XruUpuosT2CC"
      },
      "source": [
        "Get all movies watched by each person"
      ]
    },
    {
      "cell_type": "code",
      "execution_count": null,
      "metadata": {
        "id": "Hu0piTk8vQzk"
      },
      "outputs": [],
      "source": [
        "# Get all movies watched by each person\n",
        "indexRatedMovie = [0 for i in range(max(userId))]\n",
        "for i in range(max(userId)):\n",
        "    indexRatedMovie[i] = np.where(~np.isnan(itemRating.T[i]))[0]\n"
      ]
    },
    {
      "cell_type": "markdown",
      "metadata": {
        "id": "WBDYyTJcT8T8"
      },
      "source": [
        "\n",
        "Fill nan value in Item-user matrix with 0"
      ]
    },
    {
      "cell_type": "code",
      "execution_count": null,
      "metadata": {
        "id": "y66OIMmEta_T"
      },
      "outputs": [],
      "source": [
        "# Fill nan value in Item-user matrix with 0\n",
        "item_item = np.nan_to_num(itemRating)\n",
        "# item_item"
      ]
    },
    {
      "cell_type": "markdown",
      "metadata": {
        "id": "skTKNMGCUkAn"
      },
      "source": [
        "Similarity func"
      ]
    },
    {
      "cell_type": "code",
      "execution_count": null,
      "metadata": {
        "id": "T_ABtlfCN566"
      },
      "outputs": [],
      "source": [
        "# Similarity func\n",
        "import math\n",
        "def cos(x,y):\n",
        "    if x.dot(y)==0:\n",
        "        return 0\n",
        "    return x.dot(y)/math.sqrt(np.sum(x**2)*np.sum(y**2))\n",
        "    "
      ]
    },
    {
      "cell_type": "markdown",
      "metadata": {
        "id": "RrxjxnntUy3V"
      },
      "source": [
        "Calculate Item similiarity matrix"
      ]
    },
    {
      "cell_type": "code",
      "execution_count": null,
      "metadata": {
        "id": "yjjR0dNd3AH_"
      },
      "outputs": [],
      "source": [
        "# Calculate Item similiarity matrix\n",
        "similiarityItem = np.full([max(movieId), max(movieId)], np.nan)\n",
        "for i in range(max(movieId)):\n",
        "    for j in range(i, max(movieId)):\n",
        "        sim = cos(item_item[i], item_item[j])\n",
        "        similiarityItem[i][j] = sim\n",
        "        similiarityItem[j][i] = sim\n",
        "# similiarityItem"
      ]
    },
    {
      "cell_type": "markdown",
      "metadata": {
        "id": "tyDSkzjHU84Y"
      },
      "source": [
        "Predict nan rating "
      ]
    },
    {
      "cell_type": "code",
      "execution_count": null,
      "metadata": {
        "colab": {
          "base_uri": "https://localhost:8080/"
        },
        "id": "YtcO7xx0ywKL",
        "outputId": "3f62567a-becc-4e21-d37f-6753e346eb38"
      },
      "outputs": [
        {
          "output_type": "stream",
          "name": "stderr",
          "text": [
            "<ipython-input-53-6a0f9f7dd022>:12: RuntimeWarning: invalid value encountered in double_scalars\n",
            "  predict[nul[i]][u] = sim[i][rateIndex] @ rate / sum(np.abs(sim[i][rateIndex]))\n"
          ]
        }
      ],
      "source": [
        "# Predict nan rating \n",
        "# 13min\n",
        "predict = itemRating.copy()\n",
        "userId = r_test['userId'].drop_duplicates()\n",
        "for u in userId-1:\n",
        "    # u = 4\n",
        "    rate = (itemRating.T[u][~np.isnan(itemRating.T[u])]) # All ratings of u\n",
        "    rateIndex = indexRatedMovie[u]\n",
        "    nul = indexNanMovie[u] # movies are not watched by u\n",
        "    sim = similiarityItem[nul]\n",
        "    for i in range(len(sim)):\n",
        "        predict[nul[i]][u] = sim[i][rateIndex] @ rate / sum(np.abs(sim[i][rateIndex]))\n",
        "# predict"
      ]
    },
    {
      "cell_type": "markdown",
      "metadata": {
        "id": "5zL09jM3VDck"
      },
      "source": [
        "Denormalize predict matrix"
      ]
    },
    {
      "cell_type": "code",
      "execution_count": null,
      "metadata": {
        "colab": {
          "base_uri": "https://localhost:8080/"
        },
        "id": "tOWkxBLEooCg",
        "outputId": "5241f6c6-d162-4f46-ed37-7d6dcc1b02a2"
      },
      "outputs": [
        {
          "output_type": "stream",
          "name": "stderr",
          "text": [
            "<ipython-input-54-3a157c2f4a6c>:2: RuntimeWarning: Mean of empty slice\n",
            "  predictItem = (predict.T + np.nanmean(originalRating, axis=1)).T\n"
          ]
        },
        {
          "output_type": "execute_result",
          "data": {
            "text/plain": [
              "array([[5.        , 4.18561815, 4.28441173, ..., 3.89434792, 4.09716891,\n",
              "        3.        ],\n",
              "       [3.56420349, 3.19764445, 3.58011036, ..., 3.64034922, 3.15266771,\n",
              "        2.61003268],\n",
              "       [3.55951061, 3.14508789, 3.42999765, ..., 2.62893748, 2.98901679,\n",
              "        2.49395137],\n",
              "       ...,\n",
              "       [3.98978107, 3.73044147, 4.03790949, ..., 3.50226219, 3.73998065,\n",
              "        3.54576375],\n",
              "       [4.2061161 , 3.96985097, 3.90917769, ..., 4.09055947, 4.07518411,\n",
              "        3.86660001],\n",
              "       [4.05318195, 3.75550286, 3.96248483, ..., 4.24615536, 3.80387208,\n",
              "        3.56355527]])"
            ]
          },
          "metadata": {},
          "execution_count": 54
        }
      ],
      "source": [
        "# Denormalize predict matrix\n",
        "predictItem = (predict.T + np.nanmean(originalRating, axis=1)).T\n",
        "predictItem"
      ]
    },
    {
      "cell_type": "markdown",
      "metadata": {
        "id": "9EbfgzNVAy3S"
      },
      "source": [
        "# **Matrix Factorization**\n"
      ]
    },
    {
      "cell_type": "code",
      "execution_count": null,
      "metadata": {
        "id": "5zsJCm36A-wD"
      },
      "outputs": [],
      "source": []
    },
    {
      "cell_type": "markdown",
      "metadata": {
        "id": "9L--4kbyL1Io"
      },
      "source": [
        "# **Evaluate accuracy**"
      ]
    },
    {
      "cell_type": "code",
      "execution_count": null,
      "metadata": {
        "colab": {
          "base_uri": "https://localhost:8080/"
        },
        "id": "eWf59FwbOsrK",
        "outputId": "1fd5bcdc-2b6b-4d68-9858-3d52206dcf5f"
      },
      "outputs": [
        {
          "output_type": "stream",
          "name": "stdout",
          "text": [
            "Item_se: 0.8741139314098685\n",
            "User_se: nan\n"
          ]
        }
      ],
      "source": [
        "Item_se = 0\n",
        "User_se = 0\n",
        "for r in r_test.itertuples():\n",
        "    if not np.isnan(predictItem[r[2]-1][r[1]-1]):\n",
        "        Item_se+=(predictItem[r[2]-1][r[1]-1]-r[3])**2\n",
        "        User_se+=(predictUser[r[2]-1][r[1]-1]-r[3])**2\n",
        "\n",
        "print(\"Item_se: \", end=\"\")\n",
        "print(math.sqrt(Item_se/len(r_test)))\n",
        "print(\"User_se: \", end=\"\")\n",
        "print(math.sqrt(User_se/len(r_test)))\n",
        "\n",
        "\n"
      ]
    }
  ],
  "metadata": {
    "colab": {
      "collapsed_sections": [
        "xdy6CUEaxAJM",
        "86YM1UTpFfxQ",
        "w1o0G934FqUn",
        "VDSIv9RuZCGK",
        "P9jzivpX4rWB",
        "9EbfgzNVAy3S"
      ],
      "provenance": []
    },
    "gpuClass": "standard",
    "kernelspec": {
      "display_name": "Python 3",
      "name": "python3"
    },
    "language_info": {
      "name": "python"
    }
  },
  "nbformat": 4,
  "nbformat_minor": 0
}