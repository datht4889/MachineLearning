{
  "cells": [
    {
      "cell_type": "code",
      "execution_count": 1,
      "metadata": {
        "colab": {
          "base_uri": "https://localhost:8080/"
        },
        "id": "Sf3zKnRNnJRb",
        "outputId": "c63d87ad-002c-4ade-9df0-8b79dfac588c"
      },
      "outputs": [
        {
          "output_type": "stream",
          "name": "stdout",
          "text": [
            "Mounted at /content/drive\n"
          ]
        }
      ],
      "source": [
        "from google.colab import drive\n",
        "drive.mount('/content/drive')"
      ]
    },
    {
      "cell_type": "code",
      "execution_count": 2,
      "metadata": {
        "id": "Q7Tol2FonFpG"
      },
      "outputs": [],
      "source": [
        "import pandas as pd\n",
        "import numpy as np\n",
        "from sklearn.linear_model import Ridge\n",
        "from sklearn import linear_model\n",
        "from sklearn.feature_extraction.text import TfidfTransformer\n",
        "from sklearn.model_selection import train_test_split\n",
        "import math\n",
        "import matplotlib.pyplot as plt\n",
        "from importlib import reload"
      ]
    },
    {
      "cell_type": "markdown",
      "metadata": {
        "id": "d-UgESJkniPf"
      },
      "source": [
        "# Data processing"
      ]
    },
    {
      "cell_type": "code",
      "execution_count": 216,
      "metadata": {
        "colab": {
          "base_uri": "https://localhost:8080/"
        },
        "id": "4W4OeWcHnFpI",
        "outputId": "9ce88d14-cc37-46c4-819a-0daa2b167970"
      },
      "outputs": [
        {
          "output_type": "execute_result",
          "data": {
            "text/plain": [
              "6040"
            ]
          },
          "metadata": {},
          "execution_count": 216
        }
      ],
      "source": [
        "# Reading users file\n",
        "u_cols = ['user_id', 'gender', 'age', 'occupation', 'zip_code']\n",
        "users = pd.read_csv('/content/drive/MyDrive/Colab/ML/users.dat', sep='::', names=u_cols, encoding='latin-1', engine='python')\n",
        "n_users = users.shape[0]\n",
        "n_users"
      ]
    },
    {
      "cell_type": "code",
      "execution_count": 217,
      "metadata": {
        "colab": {
          "base_uri": "https://localhost:8080/"
        },
        "id": "_DXnMetmnFpI",
        "outputId": "b26fb121-7ae4-451a-d75b-1377757fabe7"
      },
      "outputs": [
        {
          "output_type": "execute_result",
          "data": {
            "text/plain": [
              "array([[        1,      1193,         5, 978300760],\n",
              "       [        1,       661,         3, 978302109],\n",
              "       [        1,       914,         3, 978301968],\n",
              "       ...,\n",
              "       [     6040,       562,         5, 956704746],\n",
              "       [     6040,      1096,         4, 956715648],\n",
              "       [     6040,      1097,         4, 956715569]])"
            ]
          },
          "metadata": {},
          "execution_count": 217
        }
      ],
      "source": [
        "# Reading ratings file\n",
        "r_cols = ['user_id', 'movie_id', 'rating', 'unix_timestamp']\n",
        "\n",
        "ratings_base = pd.read_csv('/content/drive/MyDrive/Colab/ML/ratings.dat', sep='::', names=r_cols, encoding='latin-1', engine='python')\n",
        "ratings = ratings_base.to_numpy()\n",
        "rate_train, rate_test = train_test_split(ratings, test_size=0.1, stratify=ratings[:,0])\n",
        "ratings"
      ]
    },
    {
      "cell_type": "code",
      "execution_count": 218,
      "metadata": {
        "id": "bpv_Tt8KZbPk"
      },
      "outputs": [],
      "source": [
        "mean = np.array([np.nanmean(rate_train[:,2][np.argwhere(rate_train[:,0]==i+1)]) for i in range(n_users)])"
      ]
    },
    {
      "cell_type": "code",
      "execution_count": 219,
      "metadata": {
        "colab": {
          "base_uri": "https://localhost:8080/"
        },
        "id": "LWaefN-cnFpI",
        "outputId": "2b1b0f95-593d-48b2-e032-5af1d7f9a729"
      },
      "outputs": [
        {
          "output_type": "execute_result",
          "data": {
            "text/plain": [
              "3952"
            ]
          },
          "metadata": {},
          "execution_count": 219
        }
      ],
      "source": [
        "# Reading movies file\n",
        "i_cols = ['movie id', 'movie title', 'genres']\n",
        "movies = pd.read_csv('/content/drive/MyDrive/Colab/ML/movies.dat', sep='::', names=i_cols, encoding='latin-1', engine='python')\n",
        "genres_columns = movies['genres'].str.get_dummies(sep='|')\n",
        "movies = pd.concat([movies, genres_columns], axis=1)\n",
        "movies = movies.drop('genres', axis=1)\n",
        "n_movies = max(movies['movie id'])\n",
        "n_movies"
      ]
    },
    {
      "cell_type": "markdown",
      "metadata": {
        "id": "iw7wfwl8oQY2"
      },
      "source": [
        "Handle missing data"
      ]
    },
    {
      "cell_type": "code",
      "execution_count": 220,
      "metadata": {
        "id": "S6GwqCT0nFpJ"
      },
      "outputs": [],
      "source": [
        "#Find and insert missing data to the dataframe with: movie title = 'XXX' and all values in genre column = '0'\n",
        "existing_ids = movies['movie id'].tolist()\n",
        "missing_ids = [id for id in range(1, max(existing_ids) + 1) if id not in existing_ids]\n",
        "missing_data = pd.DataFrame({'movie id': missing_ids, 'movie title': 'XXX'})\n",
        "missing_data = pd.concat([missing_data, pd.DataFrame(0, index=np.arange(len(missing_data)), columns=genres_columns.columns)], axis=1)\n",
        "movies = pd.concat([movies, missing_data], ignore_index=True)\n"
      ]
    },
    {
      "cell_type": "markdown",
      "metadata": {
        "id": "ny_uwU1ZoHnd"
      },
      "source": [
        "# Prediction\n"
      ]
    },
    {
      "cell_type": "code",
      "execution_count": 221,
      "metadata": {
        "colab": {
          "base_uri": "https://localhost:8080/"
        },
        "id": "tVjCqgx9nFpJ",
        "outputId": "07fd3c48-d9d3-41a0-e4f4-a2fcc6900ad1"
      },
      "outputs": [
        {
          "output_type": "execute_result",
          "data": {
            "text/plain": [
              "array([[0, 0, 1, ..., 0, 0, 0],\n",
              "       [0, 1, 0, ..., 0, 0, 0],\n",
              "       [0, 0, 0, ..., 0, 0, 0],\n",
              "       ...,\n",
              "       [0, 0, 0, ..., 0, 0, 0],\n",
              "       [0, 0, 0, ..., 0, 0, 0],\n",
              "       [0, 0, 0, ..., 0, 0, 0]], dtype=object)"
            ]
          },
          "metadata": {},
          "execution_count": 221
        }
      ],
      "source": [
        "#Since we rely on the movie genre to build our profile, we'll only be interested in the 18 binary values at the end of each row:\n",
        "genre = 18\n",
        "X0 = movies.to_numpy()\n",
        "X_train_counts = X0[:, -genre:]\n",
        "X_train_counts"
      ]
    },
    {
      "cell_type": "code",
      "execution_count": 222,
      "metadata": {
        "id": "mlgQPKRznFpJ"
      },
      "outputs": [],
      "source": [
        "#tfidf\n",
        "from sklearn.feature_extraction.text import TfidfTransformer\n",
        "transformer = TfidfTransformer(smooth_idf=True, norm ='l2')\n",
        "tfidf = transformer.fit_transform(X_train_counts.tolist()).toarray()\n",
        "\n",
        "\n",
        "def get_items_rated_by_user(rate_matrix, user_id):\n",
        "    y = rate_matrix[:,0]\n",
        "    ids = np.where(y == user_id +1)[0]\n",
        "    item_ids = rate_matrix[ids, 1] - 1\n",
        "    scores = rate_matrix[ids, 2]\n",
        "    item_ids = item_ids[np.argsort(scores)]\n",
        "    scores = sorted(scores)\n",
        "    return (item_ids[::-1], scores[::-1])\n",
        "\n",
        "d = tfidf.shape[1] # data dimension\n",
        "W = np.zeros((d, n_users))\n",
        "b = np.zeros((1, n_users))\n",
        "\n",
        "\n"
      ]
    },
    {
      "cell_type": "code",
      "execution_count": 223,
      "metadata": {
        "id": "n4382TY6nFpJ"
      },
      "outputs": [],
      "source": [
        "def predict(alpha):\n",
        "    for n in range(n_users):\n",
        "        ids, scores = get_items_rated_by_user(rate_train, n)\n",
        "        clf = Ridge(alpha=alpha, fit_intercept  = True)\n",
        "        Xhat = tfidf[ids, :]\n",
        "\n",
        "        clf.fit(Xhat, scores)\n",
        "        W[:, n] = clf.coef_\n",
        "        b[0, n] = clf.intercept_\n",
        "    #Predicted scores\n",
        "    Yhat = tfidf.dot(W) + b\n",
        "    return Yhat"
      ]
    },
    {
      "cell_type": "markdown",
      "metadata": {
        "id": "t8fBNFocnODn"
      },
      "source": [
        "# Evaluate model"
      ]
    },
    {
      "cell_type": "markdown",
      "metadata": {
        "id": "MFAFeLM9ge29"
      },
      "source": [
        "# Metrics function"
      ]
    },
    {
      "cell_type": "code",
      "execution_count": 11,
      "metadata": {
        "id": "mp-4mmTonFpJ"
      },
      "outputs": [],
      "source": [
        "def RMSE(Y, rates):\n",
        "    se = 0\n",
        "    cnt = 0\n",
        "    for n in range(n_users):\n",
        "        ids, scores_truth = get_items_rated_by_user(rates, n)\n",
        "        scores_pred = Y[ids, n]\n",
        "        e = scores_truth - scores_pred\n",
        "        se += (e*e).sum(axis = 0)\n",
        "        cnt += e.size\n",
        "    return math.sqrt(se/cnt)"
      ]
    },
    {
      "cell_type": "code",
      "execution_count": 12,
      "metadata": {
        "id": "daJS3Fz2qGHp"
      },
      "outputs": [],
      "source": [
        "def MAE(Y, rates):\n",
        "    se = 0\n",
        "    cnt = 0\n",
        "    for n in range(n_users):\n",
        "        ids, scores_truth = get_items_rated_by_user(rates, n)\n",
        "        scores_pred = Y[ids, n]\n",
        "        e = abs(scores_truth - scores_pred )\n",
        "        se += e.sum(axis = 0)\n",
        "        cnt += e.size\n",
        "    return math.sqrt(se/cnt)"
      ]
    },
    {
      "cell_type": "code",
      "execution_count": 13,
      "metadata": {
        "id": "1AvEPtpZymgg"
      },
      "outputs": [],
      "source": [
        "def metrics(Y):\n",
        "    tp=0\n",
        "    tp_fp=0\n",
        "    tp_fn=0\n",
        "    para = 0\n",
        "    for r in rate_test:\n",
        "        trueRate = r[2]-mean[r[0]-1]\n",
        "        predictRate = Y[r[1]-1,r[0]-1]-mean[r[0]-1]\n",
        "        if predictRate>para:\n",
        "            tp_fp+=1\n",
        "        if trueRate>para:\n",
        "            tp_fn += 1\n",
        "            if predictRate>para:\n",
        "                tp+=1\n",
        "    precision = tp/tp_fp\n",
        "    recall = tp/tp_fn\n",
        "    f1 = 2*precision*recall/(precision+recall)\n",
        "    return (precision, recall,f1)"
      ]
    },
    {
      "cell_type": "code",
      "execution_count": 15,
      "metadata": {
        "id": "Ou0DZ8j1zGAR"
      },
      "outputs": [],
      "source": [
        "def PrecisionAtK(Y,K):\n",
        "    Y=Y.T\n",
        "    rcm_movie_test = np.argsort(-(user_item_test))\n",
        "    rcm_movie = np.argsort(-Y)\n",
        "    precisionK=[]\n",
        "    recallK=[]\n",
        "    f1K=[]\n",
        "    mapK=[]\n",
        "    marK=[]\n",
        "    for u in range(n_users):\n",
        "        rcm = rcm_movie[u]\n",
        "        rcm = rcm[np.argwhere(Y[u][rcm] > mean[u])]\n",
        "        rcm_test = rcm_movie_test[u][np.in1d(rcm_movie_test[u], np.argwhere(~np.isnan(user_item_test[u])))]\n",
        "        rcm = np.intersect1d(rcm, rcm_test)\n",
        "        rcm_test = rcm_test[np.argwhere(user_item_test[u][rcm_test] > mean[u])]\n",
        "        rcm = rcm[:K]\n",
        "\n",
        "        precision=np.in1d(rcm,rcm_test)\n",
        "        recall=np.in1d(rcm_test,rcm)\n",
        "\n",
        "        map=[]\n",
        "        for k in range(len(rcm)):\n",
        "            p = np.mean(precision[:k+1])*precision[k]\n",
        "            if p>0:\n",
        "                map.append(p)\n",
        "\n",
        "        mar=[]\n",
        "        for k in range(len(rcm_test)):\n",
        "            r = np.mean(recall[:k+1])*recall[k]\n",
        "            if r>0:\n",
        "                mar.append(r)\n",
        "\n",
        "        precision=np.mean(precision)\n",
        "        recall=np.mean(recall)\n",
        "        f1=0\n",
        "        if precision + recall != 0:\n",
        "            f1 = 2*precision*recall/(precision+recall)\n",
        "        precisionK.append(precision)\n",
        "        recallK.append(recall)\n",
        "        f1K.append(f1)\n",
        "        mapK.append(np.mean(map))\n",
        "        marK.append(np.mean(mar))\n",
        "\n",
        "    precisionK=np.nan_to_num(precisionK)\n",
        "    recallK=np.nan_to_num(recallK)\n",
        "    f1K=np.nan_to_num(f1K)\n",
        "    mapK=np.nan_to_num(mapK)\n",
        "    marK=np.nan_to_num(marK)\n",
        "\n",
        "    return (np.mean(precisionK), np.mean(recallK), np.mean(f1K), np.mean(mapK), np.mean(marK))"
      ]
    },
    {
      "cell_type": "code",
      "execution_count": 16,
      "metadata": {
        "id": "9gJxHukYdmHR"
      },
      "outputs": [],
      "source": [
        "def NDCG(Y,K):\n",
        "    Y = Y.T\n",
        "    rcm_movie_test = np.argsort(-(user_item_test))\n",
        "    rcm_movie = np.argsort(Y)\n",
        "    ndcg=[]\n",
        "    for u in range(n_users):\n",
        "        dcg=0\n",
        "        idcg=0\n",
        "        rcm_test = rcm_movie_test[u][np.in1d(rcm_movie_test[u], np.argwhere(~np.isnan(user_item_test[u])))]\n",
        "        rcm = rcm_movie[u][np.in1d(rcm_movie[u], rcm_test)]\n",
        "        for i in range(len(rcm[:K])):\n",
        "            dcg += (2**user_item_test[u][rcm[i]]-1)/math.log(i+2, 2)\n",
        "            idcg += (2**user_item_test[u][rcm_test[i]]-1)/math.log(i+2, 2)\n",
        "        ndcg.append(dcg/idcg)\n",
        "    return np.mean(ndcg)"
      ]
    },
    {
      "cell_type": "code",
      "execution_count": 17,
      "metadata": {
        "colab": {
          "base_uri": "https://localhost:8080/"
        },
        "id": "7QFBEebKqTpy",
        "outputId": "c5424b1c-038b-4c6a-a051-7685db0463c2"
      },
      "outputs": [
        {
          "output_type": "execute_result",
          "data": {
            "text/plain": [
              "array([[nan, nan, nan, ..., nan, nan, nan],\n",
              "       [nan, nan, nan, ..., nan, nan, nan],\n",
              "       [nan, nan, nan, ..., nan, nan, nan],\n",
              "       ...,\n",
              "       [nan, nan, nan, ..., nan, nan, nan],\n",
              "       [nan, nan, nan, ..., nan, nan, nan],\n",
              "       [ 3., nan, nan, ..., nan, nan, nan]])"
            ]
          },
          "metadata": {},
          "execution_count": 17
        }
      ],
      "source": [
        "user_item = np.full((n_users,n_movies),np.nan)\n",
        "for r in rate_train:\n",
        "    user_item[r[0]-1][r[1]-1] = r[2]\n",
        "\n",
        "user_item_test = np.full((n_users,n_movies),np.nan)\n",
        "for r in rate_test:\n",
        "    user_item_test[r[0]-1][r[1]-1] = r[2]\n",
        "user_item_test"
      ]
    },
    {
      "cell_type": "markdown",
      "metadata": {
        "id": "G7BatQZEgirq"
      },
      "source": [
        "# Test for lambda"
      ]
    },
    {
      "cell_type": "code",
      "execution_count": 18,
      "metadata": {
        "id": "pv-9hdFX_y0u"
      },
      "outputs": [],
      "source": [
        "rmse_train = []\n",
        "rmse_test =[]\n",
        "mae_train=[]\n",
        "mae_test=[]\n",
        "precision=[]\n",
        "recall=[]\n",
        "f1=[]\n",
        "iteration_list = [0.001, 0.01, 0.1, 0.5, 1, 5, 15, 30, 50]\n",
        "\n",
        "for a in iteration_list:\n",
        "    Yhat = predict(a)\n",
        "    rmse_train.append(RMSE(Yhat, rate_train))\n",
        "    rmse_test.append(RMSE(Yhat, rate_test))\n",
        "    mae_train.append(MAE(Yhat, rate_train))\n",
        "    mae_test.append(MAE(Yhat, rate_test))\n",
        "    metric = metrics(Yhat)\n",
        "    precision.append(metric[0])\n",
        "    recall.append(metric[1])\n",
        "    f1.append(metric[2])\n",
        "    ndcg.append(NDCG(Yhat,10000))"
      ]
    },
    {
      "cell_type": "code",
      "execution_count": 19,
      "metadata": {
        "colab": {
          "base_uri": "https://localhost:8080/",
          "height": 509
        },
        "id": "v586qJcZBsBS",
        "outputId": "09b434a3-c88e-49c0-b121-cba137cc345c"
      },
      "outputs": [
        {
          "output_type": "stream",
          "name": "stdout",
          "text": [
            "RMSE:  [0.9695890276797524, 0.969658813621179, 0.9707498418131624, 0.9749535118246381, 0.9789089144963907, 0.9942518917078855, 1.0067725113889416, 1.0136168907573686, 1.017708585827658]\n",
            "RMSE:  [1.109687392499896, 1.1037260273954124, 1.0876590240040611, 1.0697766588214452, 1.0612753468760148, 1.0443554683290441, 1.0376238274507286, 1.0354212148780872, 1.0345346443347516]\n"
          ]
        },
        {
          "output_type": "display_data",
          "data": {
            "text/plain": [
              "<Figure size 640x480 with 1 Axes>"
            ],
            "image/png": "[encoded data removed]"
          },
          "metadata": {}
        }
      ],
      "source": [
        "import matplotlib.pyplot as plt\n",
        "from importlib import reload\n",
        "print(\"RMSE: \",rmse_train)\n",
        "print(\"RMSE: \",rmse_test)\n",
        "plt=reload(plt)\n",
        "plt.plot(iteration_list, rmse_train, label = 'Train')\n",
        "plt.plot(iteration_list, rmse_test, label = 'Test')\n",
        "plt.xlabel('lambda')\n",
        "plt.title('RMSE')\n",
        "plt.legend()\n",
        "plt.show()"
      ]
    },
    {
      "cell_type": "code",
      "execution_count": 20,
      "metadata": {
        "colab": {
          "base_uri": "https://localhost:8080/",
          "height": 527
        },
        "id": "a9jiq-AjBvLx",
        "outputId": "dc398c28-2344-4bd9-9254-180b63d58486"
      },
      "outputs": [
        {
          "output_type": "stream",
          "name": "stdout",
          "text": [
            "Precision:  [0.5488107398219758, 0.5487223275090072, 0.5489063830671126, 0.5483289849670766, 0.5482115245850944, 0.5472839077407097, 0.5473379957149209, 0.5474956476497309, 0.5477392905947359]\n",
            "Recall:  [0.4857469695012823, 0.4861344305245484, 0.48757357146810826, 0.4885883503385671, 0.49061790807948485, 0.4942711120131368, 0.4996217642391926, 0.5048063617409916, 0.5102861676414694]\n",
            "F1:  [0.5153567583439366, 0.5155357282617202, 0.516425319028356, 0.5167377284302341, 0.5178181959806823, 0.5194283941520922, 0.522392522643311, 0.5252851054026034, 0.5283498261567264]\n"
          ]
        },
        {
          "output_type": "display_data",
          "data": {
            "text/plain": [
              "<Figure size 640x480 with 1 Axes>"
            ],
            "image/png": "[encoded data removed]"
          },
          "metadata": {}
        }
      ],
      "source": [
        "print(\"Precision: \",precision)\n",
        "print(\"Recall: \",recall)\n",
        "print(\"F1: \",f1)\n",
        "plt=reload(plt)\n",
        "plt.plot(iteration_list, precision, label = 'Precision')\n",
        "plt.plot(iteration_list, recall, label ='Recall')\n",
        "plt.plot(iteration_list, f1,label='F1')\n",
        "plt.xlabel('lambda')\n",
        "plt.title('Precision, Recall & F1')\n",
        "plt.legend()\n",
        "plt.show()"
      ]
    },
    {
      "cell_type": "markdown",
      "metadata": {
        "id": "zWxMf8sXgpRz"
      },
      "source": [
        "# Test for number of movies"
      ]
    },
    {
      "cell_type": "code",
      "source": [
        "PRECISION=[]\n",
        "RECALL=[]\n",
        "F11=[]\n",
        "NDCGG=[]\n",
        "MAPP=[]\n",
        "MARR=[]"
      ],
      "metadata": {
        "id": "-oE6O1tj10Eg"
      },
      "execution_count": 63,
      "outputs": []
    },
    {
      "cell_type": "code",
      "execution_count": null,
      "metadata": {
        "id": "jT1YIjspgyTU"
      },
      "outputs": [],
      "source": [
        "precision=[]\n",
        "recall=[]\n",
        "f1=[]\n",
        "ndcg=[]\n",
        "map=[]\n",
        "mar=[]\n",
        "num_movie = [5, 15, 30, 50, 100]\n",
        "Yhat = predict(10)\n",
        "for num in num_movie:\n",
        "    metric = PrecisionAtK(Yhat,num)\n",
        "    precision.append(metric[0])\n",
        "    recall.append(metric[1])\n",
        "    f1.append(metric[2])\n",
        "\n",
        "    ndcg.append(NDCG(Yhat,num))\n",
        "\n",
        "    map.append(metric[3])\n",
        "    mar.append(metric[4])\n",
        "\n",
        "PRECISION.append(precision)\n",
        "RECALL.append(recall)\n",
        "F11.append(f1)\n",
        "NDCGG.append(ndcg)\n",
        "MAPP.append(map)\n",
        "MARR.append(mar)"
      ]
    },
    {
      "cell_type": "code",
      "execution_count": 237,
      "metadata": {
        "colab": {
          "base_uri": "https://localhost:8080/",
          "height": 527
        },
        "id": "Php-hPYhg6Kx",
        "outputId": "2b9e9972-86ab-41ed-9270-75cc758e12ce"
      },
      "outputs": [
        {
          "output_type": "stream",
          "name": "stdout",
          "text": [
            "Precision:  [0.64280824 0.63507716 0.63328656 0.63304647 0.6329938 ]\n",
            "Recall:  [0.45380568 0.56398212 0.58851655 0.59312439 0.59382459]\n",
            "F1:  [0.48354215 0.563956   0.57958741 0.58218996 0.5825417 ]\n"
          ]
        },
        {
          "output_type": "display_data",
          "data": {
            "text/plain": [
              "<Figure size 640x480 with 1 Axes>"
            ],
            "image/png": "[encoded data removed]"
          },
          "metadata": {}
        }
      ],
      "source": [
        "print(\"Precision: \",np.mean(PRECISION, axis=0))\n",
        "print(\"Recall: \",np.mean(RECALL, axis=0))\n",
        "print(\"F1: \",np.mean(F11, axis=0))\n",
        "plt=reload(plt)\n",
        "plt.plot(num_movie, np.mean(PRECISION, axis=0), label = 'Precision')\n",
        "plt.plot(num_movie, np.mean(RECALL, axis=0), label ='Recall')\n",
        "plt.plot(num_movie, np.mean(F11, axis=0),label='F1')\n",
        "plt.xlabel('Number of movies')\n",
        "plt.title('Precision, Recall, and F1')\n",
        "plt.legend()\n",
        "plt.show()\n"
      ]
    },
    {
      "cell_type": "code",
      "execution_count": 238,
      "metadata": {
        "colab": {
          "base_uri": "https://localhost:8080/",
          "height": 527
        },
        "id": "uvE78EYug-CG",
        "outputId": "3c4865eb-8123-4238-85da-2af92ca03757"
      },
      "outputs": [
        {
          "output_type": "stream",
          "name": "stdout",
          "text": [
            "MAP:  [0.74412924 0.7286725  0.72692367 0.72673366 0.72672824]\n",
            "MAR:  [0.58343298 0.67156969 0.69216103 0.69619535 0.6968502 ]\n",
            "NDCG:  [0.6047675  0.71971271 0.7657293  0.78375151 0.79196974]\n"
          ]
        },
        {
          "output_type": "display_data",
          "data": {
            "text/plain": [
              "<Figure size 640x480 with 1 Axes>"
            ],
            "image/png": "[encoded data removed]"
          },
          "metadata": {}
        }
      ],
      "source": [
        "print(\"MAP: \",np.mean(MAPP, axis=0))\n",
        "print('MAR: ', np.mean(MARR, axis=0))\n",
        "print('NDCG: ', np.mean(NDCGG, axis=0))\n",
        "plt=reload(plt)\n",
        "plt.plot(num_movie, np.mean(MAPP, axis=0), label='MAP')\n",
        "plt.plot(num_movie, np.mean(MARR, axis=0), label='MAR')\n",
        "plt.plot(num_movie, np.mean(NDCGG, axis=0), label='NDCG')\n",
        "plt.xlabel('Number of movie')\n",
        "plt.title('MAP, MAR, and NDCG')\n",
        "plt.legend()\n",
        "plt.show()\n"
      ]
    },
    {
      "cell_type": "code",
      "source": [],
      "metadata": {
        "id": "Nr8zB1Ta0uGE"
      },
      "execution_count": null,
      "outputs": []
    }
  ],
  "metadata": {
    "colab": {
      "provenance": []
    },
    "kernelspec": {
      "display_name": "Python 3",
      "language": "python",
      "name": "python3"
    },
    "language_info": {
      "codemirror_mode": {
        "name": "ipython",
        "version": 3
      },
      "file_extension": ".py",
      "mimetype": "text/x-python",
      "name": "python",
      "nbconvert_exporter": "python",
      "pygments_lexer": "ipython3",
      "version": "3.9.6"
    }
  },
  "nbformat": 4,
  "nbformat_minor": 0
}