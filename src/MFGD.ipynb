{
  "cells": [
    {
      "cell_type": "markdown",
      "metadata": {
        "id": "cLVF-3_7-d7P"
      },
      "source": [
        "#1 Import library\n"
      ]
    },
    {
      "cell_type": "code",
      "execution_count": null,
      "metadata": {
        "id": "OQuyiMaxvhbe"
      },
      "outputs": [],
      "source": [
        "import pandas as pd\n",
        "import numpy as np\n",
        "import matplotlib.pyplot as plt\n",
        "from scipy import sparse\n",
        "from sklearn.metrics import ndcg_score\n",
        "import math\n",
        "%matplotlib inline"
      ]
    },
    {
      "cell_type": "code",
      "execution_count": null,
      "metadata": {
        "colab": {
          "base_uri": "https://localhost:8080/"
        },
        "id": "7u_J5Nnx_hb-",
        "outputId": "984f97a1-50ec-4396-ec4e-2cd64bb0d771"
      },
      "outputs": [
        {
          "name": "stdout",
          "output_type": "stream",
          "text": [
            "Drive already mounted at /content/drive; to attempt to forcibly remount, call drive.mount(\"/content/drive\", force_remount=True).\n"
          ]
        }
      ],
      "source": [
        "from google.colab import drive\n",
        "drive.mount('/content/drive')"
      ]
    },
    {
      "cell_type": "markdown",
      "metadata": {
        "id": "275B1wh8-3k-"
      },
      "source": [
        "#2 Loading Data"
      ]
    },
    {
      "cell_type": "code",
      "execution_count": null,
      "metadata": {
        "colab": {
          "base_uri": "https://localhost:8080/"
        },
        "id": "gHZEBe4bvldo",
        "outputId": "f87aa239-ee0d-4052-d18b-a9ad3c4ceeed"
      },
      "outputs": [
        {
          "name": "stderr",
          "output_type": "stream",
          "text": [
            "<ipython-input-114-ced61abebe18>:2: ParserWarning: Falling back to the 'python' engine because the 'c' engine does not support regex separators (separators > 1 char and different from '\\s+' are interpreted as regex); you can avoid this warning by specifying engine='python'.\n",
            "  raw_data = pd.read_csv(\"/content/drive/MyDrive/Colab/ML/ratings.dat\", index_col = False ,delimiter=\"::\",names = r_cols)\n"
          ]
        }
      ],
      "source": [
        "r_cols = [\"UserID\", \"MovieID\", \"Rating\", \"Timestamp\"]\n",
        "raw_data = pd.read_csv(\"/content/drive/MyDrive/Colab/ML/ratings.dat\", index_col = False ,delimiter=\"::\",names = r_cols)"
      ]
    },
    {
      "cell_type": "markdown",
      "metadata": {
        "id": "MZC0EKuq_ZeX"
      },
      "source": [
        "## Change DataFrame into matrix numpy"
      ]
    },
    {
      "cell_type": "code",
      "execution_count": null,
      "metadata": {
        "id": "SUxQSt4Y_LkO"
      },
      "outputs": [],
      "source": [
        "matrix_data = raw_data.to_numpy()\n"
      ]
    },
    {
      "cell_type": "code",
      "execution_count": null,
      "metadata": {
        "colab": {
          "base_uri": "https://localhost:8080/"
        },
        "id": "bnHahSIV5j9d",
        "outputId": "170c0487-d24a-4b5b-ca17-b49e197939e4"
      },
      "outputs": [
        {
          "data": {
            "text/plain": [
              "array([[        0,      1192,         5, 978300760],\n",
              "       [        0,       660,         3, 978302109],\n",
              "       [        0,       913,         3, 978301968],\n",
              "       ...,\n",
              "       [     6039,       561,         5, 956704746],\n",
              "       [     6039,      1095,         4, 956715648],\n",
              "       [     6039,      1096,         4, 956715569]])"
            ]
          },
          "execution_count": 116,
          "metadata": {},
          "output_type": "execute_result"
        }
      ],
      "source": [
        "# Index of movie and user-1\n",
        "matrix_data[:,[0,1]] = matrix_data[:,[0,1]] - 1\n",
        "matrix_data"
      ]
    },
    {
      "cell_type": "code",
      "execution_count": null,
      "metadata": {
        "colab": {
          "base_uri": "https://localhost:8080/"
        },
        "id": "wmSik_8f5uqk",
        "outputId": "bd95278d-fed8-4ea4-a322-4545bde21dc8"
      },
      "outputs": [
        {
          "name": "stdout",
          "output_type": "stream",
          "text": [
            "(900188, 4) (100021, 4)\n"
          ]
        }
      ],
      "source": [
        "# Splitting the data into training set and testing set\n",
        "from sklearn.model_selection import train_test_split\n",
        "\n",
        "rate_train, rate_test = train_test_split(matrix_data, test_size=0.1, stratify=matrix_data[:,0])\n",
        "print(rate_train.shape, rate_test.shape)"
      ]
    },
    {
      "cell_type": "markdown",
      "metadata": {
        "id": "DA0V5bFe_nTQ"
      },
      "source": [
        "#3 Matrix Fatorization Using Gradient Descent Method"
      ]
    },
    {
      "cell_type": "code",
      "execution_count": 259,
      "metadata": {
        "id": "xaE8NqmDAFr3"
      },
      "outputs": [],
      "source": [
        "class GD(object):\n",
        "  def __init__(self, data, nums_feature, lamda = 0.1, Xinit = None, Winit = None,\n",
        "               learning_rate = 0.5, max_iter = 1000, print_every = 1000, user_based = 1):\n",
        "    self.raw_data = data\n",
        "    self.K = nums_feature\n",
        "\n",
        "    # regularization term:\n",
        "    self.lamda = lamda\n",
        "\n",
        "    #Learning rate:\n",
        "    self.alpha = learning_rate\n",
        "\n",
        "    # Print result after print_every iterations\n",
        "    self.print_every = print_every\n",
        "\n",
        "    # number of user, items, ratings:\n",
        "    self.n_users = int(np.max(self.raw_data[:,0]) + 1)\n",
        "    self.n_items = int(np.max(self.raw_data[:,1]) + 1)\n",
        "    self.n_objects = int(self.raw_data.shape[0])\n",
        "\n",
        "    # Numbers of iterations:\n",
        "    self.max_iter = max_iter\n",
        "\n",
        "    # Choose the way to normalize data:\n",
        "    self.user_based = user_based\n",
        "\n",
        "    # Initialize X matrix and W matrix:\n",
        "    if Xinit is not None:\n",
        "      self.X = Xinit\n",
        "    else:\n",
        "      self.X = np.random.rand(self.n_items,self.K)\n",
        "\n",
        "    if Winit is not None:\n",
        "      self.W = Winit\n",
        "    else:\n",
        "      self.W = np.random.rand(self.K,self.n_users)\n",
        "\n",
        "    # Make a copy of raw matrix to prepare for normalize:\n",
        "    self.normal_matrix = self.raw_data.copy()\n",
        "\n",
        "  def normalize(self):\n",
        "      \"\"\"\n",
        "      We normalize the rating matrix:\n",
        "      For each users, we calculate the mean of rating of movies that user vote for. Then subtract the rating with that mean value.\n",
        "      \"\"\"\n",
        "      if self.user_based:\n",
        "        user_col = 0\n",
        "        item_col = 1\n",
        "        n_objects = self.n_users\n",
        "      else:\n",
        "        user_col = 1\n",
        "        item_col = 0\n",
        "        n_objects = self.n_items\n",
        "\n",
        "      # # Convert all value in rating matrix to integer value:\n",
        "      self.normal_matrix = self.normal_matrix.astype(\"float32\")\n",
        "\n",
        "      # Create a array contain mean value for each object:\n",
        "      self.mean = np.zeros((n_objects,))\n",
        "      # Compute mean and subtract rating for each user:\n",
        "      for n in range(n_objects):\n",
        "        # find index row rating which rated by user n or rate for movie n (depend on user_based or item_based)\n",
        "        ids = np.where(self.normal_matrix[:,user_col] == n)\n",
        "\n",
        "        # Find the rating column\n",
        "        rating = self.normal_matrix[ids,2]\n",
        "        # Find the mean of rating column\n",
        "        mean_value = np.mean(rating)\n",
        "        # Check whether mean_value is none or not (since sometime rating column is empty -> mean_value = NULL)\n",
        "        if np.isnan(mean_value):\n",
        "          mean_value = 0\n",
        "        self.mean[n] = mean_value\n",
        "        # normalize:\n",
        "        self.normal_matrix[ids,2] =  self.normal_matrix[ids,2] - mean_value\n",
        "\n",
        "  def movie_rated_by_user(self, user):\n",
        "    \"\"\"\n",
        "    Return idex and matrix of movie column rated by the user\n",
        "    \"\"\"\n",
        "    # find index row of movies which are rated by user i\n",
        "    idx = np.where(self.normal_matrix[:,0] == user)\n",
        "\n",
        "    # list of movie id which are rated by user i\n",
        "    movieId = self.raw_data[idx,1].reshape((np.size(idx),))\n",
        "\n",
        "    return idx[0], self.X[movieId,:]\n",
        "\n",
        "\n",
        "  def user_rate_for_movie(self, movie):\n",
        "    \"\"\"\n",
        "    Return idex and matrix of user row who rate for the movie\n",
        "    \"\"\"\n",
        "    # find index row of user who rate for movie i\n",
        "    idx = np.where(self.normal_matrix[:,1] == movie)\n",
        "\n",
        "    # list of user id who rate for movie i\n",
        "    userId = self.raw_data[idx,0].reshape((np.size(idx),))\n",
        "\n",
        "    return idx[0], self.W[:,userId]\n",
        "\n",
        "\n",
        "  def loss(self):\n",
        "        \"\"\"\n",
        "        Compute the loss\n",
        "        \"\"\"\n",
        "        L = 0\n",
        "        for i in range(self.n_objects):\n",
        "            # user, item, rating\n",
        "            n, m, rate = int(self.normal_matrix[i, 0]), int(self.normal_matrix[i, 1]), self.normal_matrix[i, 2]\n",
        "            L += 0.5*(rate - self.X[m, :].dot(self.W[:, n]))**2\n",
        "\n",
        "        # take average\n",
        "        L /= self.n_objects\n",
        "        # regularization term\n",
        "        L += 0.5*self.lamda*(np.linalg.norm(self.X, 'fro') + np.linalg.norm(self.W, 'fro'))\n",
        "        return L\n",
        "\n",
        "  def update_X(self):\n",
        "    for movie in range(self.n_items):\n",
        "      # find index column of users which rate for movie i and\n",
        "      # list of user id who rate for movie i\n",
        "      idx,W = self.user_rate_for_movie(movie)\n",
        "      actual_value = self.normal_matrix[idx,2]\n",
        "\n",
        "      # Compute the predicted rating and error (1xn)\n",
        "      predict = np.dot(self.X[movie,:], W)\n",
        "      error = actual_value - predict\n",
        "      # Update each row in X matrix\n",
        "      self.X[movie,:] = self.X[movie,:] - self.alpha * ((-1/self.n_objects) * (np.dot(error, W.T)) + self.lamda * self.X[movie,:])\n",
        "\n",
        "  def update_W(self):\n",
        "    for user in range(self.n_users):\n",
        "      # find index row of movie which is rated by user i\n",
        "      # list of movie id which is rated by user i\n",
        "      idx,X = self.movie_rated_by_user(user)\n",
        "\n",
        "       # Compute the predicted rating row with shape (K,1) and error\n",
        "      actual_value = self.normal_matrix[idx,2]\n",
        "      predict  = np.dot(X, self.W[:,user])\n",
        "      error = actual_value - predict\n",
        "      # Update each column in W matrix\n",
        "      self.W[:,user] = self.W[:,user] - self.alpha * ((-1/self.n_objects) * (np.dot(X.T,error)) + self.lamda * self.W[:,user])\n",
        "\n",
        "\n",
        "  def print(self, itr):\n",
        "    print(\"Iteration\",itr, \": \" + \"loss: \",self.loss() ,\"RMSE train : \", self.MSE(self.raw_data))\n",
        "\n",
        "  def fit(self):\n",
        "    self.normalize()\n",
        "    for iter in range(self.max_iter):\n",
        "      self.update_X()\n",
        "      self.update_W()\n",
        "\n",
        "      if (iter + 1) % self.print_every == 0:\n",
        "        self.print(iter+1)\n",
        "\n",
        "  def predict(self,user,movie):\n",
        "    predict = np.dot(self.X[movie,:], self.W[:,user])\n",
        "    if self.user_based:\n",
        "        predict = predict + self.mean[user]\n",
        "    else:\n",
        "      predict = predict + self.mean[movie]\n",
        "    if predict < 0:\n",
        "      predict = 0\n",
        "    elif predict > 5:\n",
        "      predict = 5\n",
        "    return predict\n",
        "\n",
        "  def MSE(self, rate_test):\n",
        "    MSE = 0\n",
        "    MAE = 0\n",
        "    n_tests = rate_test.shape[0]\n",
        "    for i in range(n_tests):\n",
        "      pred = self.predict(rate_test[i,0], rate_test[i,1])\n",
        "      error = (rate_test[i,2] - pred)\n",
        "      MAE += math.fabs(error)\n",
        "      MSE += error**2\n",
        "    MSE = math.sqrt(MSE/n_tests)\n",
        "    MAE = MAE/n_tests\n",
        "    return (MSE, MAE)\n",
        "\n",
        "  def predict_matrix(self, rates):\n",
        "    matrix=np.full((self.n_users,self.n_items),np.nan)\n",
        "    for r in rates:\n",
        "      matrix[r[0],r[1]] = self.predict(r[0],r[1])\n",
        "    return matrix\n",
        "\n",
        "\n",
        "\n",
        "\n",
        "\n"
      ]
    },
    {
      "cell_type": "code",
      "execution_count": 260,
      "metadata": {
        "id": "bVUnUHmQ6K0k"
      },
      "outputs": [],
      "source": [
        "def NDCG(mf,K):\n",
        "    Y=mf.predict_matrix(rate_test)\n",
        "    X=user_item_test.copy()\n",
        "    rcm_movie_test = np.argsort(-(X))\n",
        "    rcm_movie = np.argsort(-Y)\n",
        "    ndcg=[]\n",
        "    for user in range(mf.n_users):\n",
        "        dcg=0\n",
        "        idcg=0\n",
        "        rcm_test = rcm_movie_test[user][np.in1d(rcm_movie_test[user], np.argwhere(~np.isnan(X[user])))]\n",
        "        rcm = rcm_movie[user][np.in1d(rcm_movie[user], rcm_test)]\n",
        "        for i in range(len(rcm[:K])):\n",
        "            dcg += (2**X[user][rcm[i]]-1)/math.log(i+2, 2)\n",
        "            idcg += (2**X[user][rcm_test[i]]-1)/math.log(i+2, 2)\n",
        "        ndcg.append(dcg/idcg)\n",
        "    return np.mean(ndcg)"
      ]
    },
    {
      "cell_type": "code",
      "execution_count": 261,
      "metadata": {
        "id": "-pHfgX3a5NmT"
      },
      "outputs": [],
      "source": [
        "def PrecisionAtK(mf,K):\n",
        "    Y=mf.predict_matrix(rate_test)\n",
        "    X=user_item_test.copy()\n",
        "    rcm_movie_test = np.argsort(-(X))\n",
        "    rcm_movie = np.argsort(-Y)\n",
        "    precisionK=[]\n",
        "    recallK=[]\n",
        "    f1K=[]\n",
        "    mapK=[]\n",
        "    for user in range(mf.n_users):\n",
        "        rcm = rcm_movie[user]\n",
        "        rcm = rcm[np.argwhere(Y[user][rcm] > mf.mean[user])]\n",
        "        rcm_test = rcm_movie_test[user][np.in1d(rcm_movie_test[user], np.argwhere(~np.isnan(X[user])))]\n",
        "        rcm = np.intersect1d(rcm, rcm_test)\n",
        "        rcm_test = rcm_test[np.argwhere(X[user][rcm_test] > mf.mean[user])]\n",
        "        rcm = rcm[:K]\n",
        "\n",
        "        precision=np.in1d(rcm,rcm_test)\n",
        "        recall=np.in1d(rcm_test,rcm)\n",
        "\n",
        "        map=[]\n",
        "        for k in range(len(rcm)):\n",
        "            p = np.mean(precision[:k+1])*precision[k]\n",
        "            if p>0:\n",
        "                map.append(p)\n",
        "\n",
        "        precision=np.mean(precision)\n",
        "        recall=np.mean(recall)\n",
        "        f1=0\n",
        "        if precision + recall != 0:\n",
        "            f1 = 2*precision*recall/(precision+recall)\n",
        "        precisionK.append(precision)\n",
        "        recallK.append(recall)\n",
        "        f1K.append(f1)\n",
        "        mapK.append(np.mean(map))\n",
        "\n",
        "    precisionK=np.nan_to_num(precisionK)\n",
        "    recallK=np.nan_to_num(recallK)\n",
        "    f1K=np.nan_to_num(f1K)\n",
        "    mapK=np.nan_to_num(mapK)\n",
        "\n",
        "    return (np.mean(precisionK), np.mean(recallK), np.mean(f1K), np.mean(mapK))"
      ]
    },
    {
      "cell_type": "code",
      "execution_count": 222,
      "metadata": {
        "id": "2YC_3W-q8p17"
      },
      "outputs": [],
      "source": [
        "user_item_test=np.full((6040,3952),np.nan)\n",
        "for r in rate_test:\n",
        "    user_item_test[r[0], r[1]]=r[2]"
      ]
    },
    {
      "cell_type": "markdown",
      "metadata": {
        "id": "G7gaYLcXCjy3"
      },
      "source": [
        "# 4. Matrix Factorization Using Singular Value Decomposition"
      ]
    },
    {
      "cell_type": "code",
      "execution_count": 306,
      "metadata": {
        "id": "PdK5t-3tCkLS"
      },
      "outputs": [],
      "source": [
        "class SVD(object):\n",
        "  def __init__(self, data, rank, user_based = 1):\n",
        "    self.raw_data = data\n",
        "    self.rank = rank\n",
        "\n",
        "    # number of user, items, ratings:\n",
        "    self.n_users = int(np.max(self.raw_data[:,0]) + 1)\n",
        "    self.n_items = int(np.max(self.raw_data[:,1]) + 1)\n",
        "    self.n_objects = int(self.raw_data.shape[0])\n",
        "\n",
        "    # Choose the way to normalize data:\n",
        "    self.user_based = user_based\n",
        "\n",
        "    # Make a copy of raw matrix to prepare for normalize:\n",
        "    self.normal_matrix = self.raw_data.copy()\n",
        "\n",
        "  def normalize(self):\n",
        "      \"\"\"\n",
        "      We normalize the rating matrix:\n",
        "      For each users, we calculate the mean of rating of movies that user vote for. Then subtract the rating with that mean value.\n",
        "      \"\"\"\n",
        "      if self.user_based:\n",
        "        user_col = 0\n",
        "        item_col = 1\n",
        "        n_objects = self.n_users\n",
        "      else:\n",
        "        user_col = 1\n",
        "        item_col = 0\n",
        "        n_objects = self.n_items\n",
        "\n",
        "      # # Convert all value in rating matrix to integer value:\n",
        "      self.normal_matrix = self.normal_matrix.astype(\"float32\")\n",
        "\n",
        "      # Create a array contain mean value for each object:\n",
        "      self.mean = np.zeros((n_objects,))\n",
        "      # Compute mean and subtract rating for each user:\n",
        "      for n in range(n_objects):\n",
        "        # find index row rating which rated by user n or rate for movie n (depend on user_based or item_based)\n",
        "        ids = np.where(self.normal_matrix[:,user_col] == n)\n",
        "\n",
        "        # Find the rating column\n",
        "        rating = self.normal_matrix[ids,2]\n",
        "        # Find the mean of rating column\n",
        "        mean_value = np.mean(rating)\n",
        "        # Check whether mean_value is none or not (since sometime rating column is empty -> mean_value = NULL)\n",
        "        if np.isnan(mean_value):\n",
        "          mean_value = 0\n",
        "        self.mean[n] = mean_value\n",
        "        # normalize:\n",
        "        self.normal_matrix[ids,2] =  self.normal_matrix[ids,2] - mean_value\n",
        "\n",
        "        # Change the normal_matrix into sparse normal matrix:\n",
        "      self.normal_matrix = sparse.coo_matrix((self.normal_matrix[:, 2],\n",
        "          (self.normal_matrix[:, 1], self.normal_matrix[:, 0])), (self.n_items, self.n_users))\n",
        "      self.normal_matrix = self.normal_matrix.todense()\n",
        "\n",
        "\n",
        "  def SVD(self):\n",
        "    self.normalize()\n",
        "    # Singular value decomposition:\n",
        "    U,S,V_T = np.linalg.svd(self.normal_matrix, full_matrices = False)\n",
        "    # left singular vector\n",
        "    Uk = U[:,:self.rank]\n",
        "    # singular matrix\n",
        "    self.S = S\n",
        "    S = np.diag(S)\n",
        "    Sk = S[:self.rank,:self.rank]\n",
        "    # Right singular vector:\n",
        "    V_Tk = V_T[:self.rank, :]\n",
        "\n",
        "    # Approximation matrix:\n",
        "    self.res = Uk @ Sk @ V_Tk\n",
        "\n",
        "  def plot_singular(self):\n",
        "    plt.semilogy(np.diag(self.S))\n",
        "    plt.title('Singular values')\n",
        "    plt.show()\n",
        "\n",
        "\n",
        "  def predict(self,user,movie):\n",
        "    predict = self.res[movie,user]\n",
        "    if self.user_based:\n",
        "        predict = predict + self.mean[user]\n",
        "    else:\n",
        "      predict = predict + self.mean[movie]\n",
        "    if predict < 0:\n",
        "      predict = 0\n",
        "    elif predict > 5:\n",
        "      predict = 5\n",
        "    return predict\n",
        "\n",
        "  def sort_predict_test_dataset(self, rate_test):\n",
        "    n_tests = rate_test.shape[0]\n",
        "    PredictDict = dict()\n",
        "    for i in range(n_tests):\n",
        "      movie = int(rate_test[i,1])\n",
        "      user = int(rate_test[i,0])\n",
        "      predict = self.predict(user,movie)\n",
        "      PredictDict[i] = predict\n",
        "\n",
        "    # Sort:\n",
        "    sortPredict = dict(sorted(PredictDict.items(), key = lambda x: x[1], reverse = True))\n",
        "\n",
        "    # change to binary:\n",
        "    for key in sortPredict.keys():\n",
        "      if (sortPredict[key] >= self.mean[rate_test[key,0]]):\n",
        "        sortPredict[key] = 1\n",
        "      else:\n",
        "        sortPredict[key] = 0\n",
        "    return sortPredict\n",
        "\n",
        "  def predict_test_dataset(self, rate_test):\n",
        "    n_tests = rate_test.shape[0]\n",
        "    PredictDict = dict()\n",
        "    for i in range(n_tests):\n",
        "      movie = int(rate_test[i,1])\n",
        "      user = int(rate_test[i,0])\n",
        "      predict = self.predict(user,movie)\n",
        "      PredictDict[i] = predict\n",
        "\n",
        "    # change to binary:\n",
        "    for key in PredictDict.keys():\n",
        "      if (PredictDict[key] >= self.mean[rate_test[key,0]]):\n",
        "        PredictDict[key] = 1\n",
        "      else:\n",
        "        PredictDict[key] = 0\n",
        "    return PredictDict\n",
        "\n",
        "  def predict_eachUser(self,rate_test,sort):\n",
        "    predictDict = dict()\n",
        "    n_users = np.max(rate_test[:,0]) + 1\n",
        "    for u in range(n_users):\n",
        "      idxDict = dict()\n",
        "      idx = np.where(rate_test[:,0] == u)[0]\n",
        "      for i in idx:\n",
        "        idxDict[i] = self.predict(rate_test[i,0], rate_test[i,1])\n",
        "      if (sort == 1):\n",
        "        idxDict = dict(sorted(idxDict.items(), key = lambda x : x[1], reverse = True))\n",
        "      ratings = [1 if r > self.mean[u] else 0 for r in idxDict.values()]\n",
        "      predictDict[u] = [ratings,list(idxDict.keys())]\n",
        "    return predictDict\n",
        "\n",
        "\n",
        "\n",
        "\n",
        "\n",
        "  def MSE(self, rate_test):\n",
        "    RMSE = 0\n",
        "    MAE = 0\n",
        "    n_tests = rate_test.shape[0]\n",
        "    for i in range(n_tests):\n",
        "      pred = self.predict(rate_test[i,0], rate_test[i,1])\n",
        "      error = (rate_test[i,2] - pred)\n",
        "      MAE += math.fabs(error)\n",
        "      RMSE += error**2\n",
        "    RMSE = math.sqrt(RMSE/n_tests)\n",
        "    MAE = MAE/n_tests\n",
        "    return RMSE,MAE"
      ]
    },
    {
      "cell_type": "code",
      "execution_count": 296,
      "metadata": {
        "id": "eqHaMJpzW0dY"
      },
      "outputs": [],
      "source": [
        "def PrecisionAtK(mf,K):\n",
        "    Y=np.array(mf.res.T)\n",
        "    X=user_item_test.copy()\n",
        "    rcm_movie_test = np.argsort(-(X))\n",
        "    rcm_movie = np.argsort(-Y)\n",
        "    precisionK=[]\n",
        "    recallK=[]\n",
        "    f1K=[]\n",
        "    mapK=[]\n",
        "    for user in range(mf.n_users):\n",
        "        rcm = rcm_movie[user]\n",
        "        rcm = rcm[np.argwhere(Y[user][rcm] > 0)]\n",
        "        rcm_test = rcm_movie_test[user][np.in1d(rcm_movie_test[user], np.argwhere(~np.isnan(X[user])))]\n",
        "        rcm = np.intersect1d(rcm, rcm_test)\n",
        "        rcm_test = rcm_test[np.argwhere(X[user][rcm_test] > mf.mean[user])]\n",
        "        rcm = rcm[:K]\n",
        "\n",
        "        precision=np.in1d(rcm,rcm_test)\n",
        "        recall=np.in1d(rcm_test,rcm)\n",
        "\n",
        "        map=[]\n",
        "        for k in range(len(rcm)):\n",
        "            p = np.mean(precision[:k+1])*precision[k]\n",
        "            if p>0:\n",
        "                map.append(p)\n",
        "\n",
        "        precision=np.mean(precision)\n",
        "        recall=np.mean(recall)\n",
        "        f1=0\n",
        "        if precision + recall != 0:\n",
        "            f1 = 2*precision*recall/(precision+recall)\n",
        "        precisionK.append(precision)\n",
        "        recallK.append(recall)\n",
        "        f1K.append(f1)\n",
        "        mapK.append(np.mean(map))\n",
        "\n",
        "    precisionK=np.nan_to_num(precisionK)\n",
        "    recallK=np.nan_to_num(recallK)\n",
        "    f1K=np.nan_to_num(f1K)\n",
        "    mapK=np.nan_to_num(mapK)\n",
        "\n",
        "    return (np.mean(precisionK), np.mean(recallK), np.mean(f1K), np.mean(mapK))"
      ]
    },
    {
      "cell_type": "code",
      "execution_count": 299,
      "metadata": {
        "id": "QmPtWsq0Wzus"
      },
      "outputs": [],
      "source": [
        "def NDCG(mf,K):\n",
        "    Y=np.array(mf.res.T)\n",
        "    X=user_item_test.copy()\n",
        "    rcm_movie_test = np.argsort(-(X))\n",
        "    rcm_movie = np.argsort(-Y)\n",
        "    ndcg=[]\n",
        "    for user in range(mf.n_users):\n",
        "        dcg=0\n",
        "        idcg=0\n",
        "        rcm_test = rcm_movie_test[user][np.in1d(rcm_movie_test[user], np.argwhere(~np.isnan(X[user])))]\n",
        "        rcm = rcm_movie[user][np.in1d(rcm_movie[user], rcm_test)]\n",
        "        for i in range(len(rcm[:K])):\n",
        "            dcg += (2**X[user][rcm[i]]-1)/math.log(i+2, 2)\n",
        "            idcg += (2**X[user][rcm_test[i]]-1)/math.log(i+2, 2)\n",
        "        ndcg.append(dcg/idcg)\n",
        "    return np.mean(ndcg)"
      ]
    },
    {
      "cell_type": "markdown",
      "metadata": {
        "id": "EL4fE9Wthqnq"
      },
      "source": [
        "#5 Visualize the accuracy of model"
      ]
    },
    {
      "cell_type": "markdown",
      "metadata": {
        "id": "4l74lvzXibde"
      },
      "source": [
        "## With each value of iteration for MFGD\n"
      ]
    },
    {
      "cell_type": "code",
      "execution_count": 230,
      "metadata": {
        "id": "bOWMK4bphpaM"
      },
      "outputs": [],
      "source": [
        "iteration_list = [1,5,10,15,30,40]\n",
        "MAE = []\n",
        "RMSE = []\n",
        "Precision = []\n",
        "Recall = []\n",
        "F1 = []\n",
        "MAP = []\n",
        "ndcg = []"
      ]
    },
    {
      "cell_type": "code",
      "execution_count": 231,
      "metadata": {
        "colab": {
          "base_uri": "https://localhost:8080/"
        },
        "id": "RlfbJb6xkUL2",
        "outputId": "7f691245-0189-4f1b-ff01-5bfa3d010eb9"
      },
      "outputs": [
        {
          "name": "stderr",
          "output_type": "stream",
          "text": [
            "/usr/local/lib/python3.10/dist-packages/numpy/core/fromnumeric.py:3474: RuntimeWarning: Mean of empty slice.\n",
            "  return _methods._mean(a, axis=axis, dtype=dtype,\n",
            "/usr/local/lib/python3.10/dist-packages/numpy/core/_methods.py:189: RuntimeWarning: invalid value encountered in double_scalars\n",
            "  ret = ret.dtype.type(ret / rcount)\n"
          ]
        },
        {
          "name": "stdout",
          "output_type": "stream",
          "text": [
            "Iteration 10 : loss:  8.632003613878938 RMSE train :  (1.3604199325226032, 1.0529190364024508)\n",
            "Iteration 10 : loss:  8.612438842472514 RMSE train :  (1.3550057004628415, 1.0477648164853175)\n",
            "Iteration 10 : loss:  8.634427045822438 RMSE train :  (1.3600993831821806, 1.0526027832392346)\n",
            "Iteration 20 : loss:  5.178118551292689 RMSE train :  (1.080257727658181, 0.8411441041240001)\n",
            "Iteration 30 : loss:  3.2860217808344263 RMSE train :  (1.0349536332336218, 0.8186430143753756)\n",
            "Iteration 10 : loss:  8.642902901931484 RMSE train :  (1.3575505370101995, 1.050504154889444)\n",
            "Iteration 20 : loss:  5.184245466845274 RMSE train :  (1.0804166605143368, 0.841571523755104)\n",
            "Iteration 30 : loss:  3.2897381935382093 RMSE train :  (1.0350955775511212, 0.818858186194005)\n",
            "Iteration 40 : loss:  2.17822830342412 RMSE train :  (1.0289762233493274, 0.8202214206396097)\n"
          ]
        }
      ],
      "source": [
        "for iter in iteration_list:\n",
        "  mf = GD(rate_train, nums_feature = 10, lamda = 0.1, learning_rate = 0.5,max_iter = iter, print_every = 10,user_based = 1)\n",
        "  mf.fit()\n",
        "  se=mf.MSE(rate_test)\n",
        "  RMSE.append(se[0])\n",
        "  MAE.append(se[1])\n",
        "  metric = PrecisionAtK(mf, 10000)\n",
        "  Precision.append(metric[0])\n",
        "  Recall.append(metric[1])\n",
        "  F1.append(metric[2])\n",
        "  MAP.append(metric[3])\n",
        "  ndcg.append(NDCG(mf, 10000))"
      ]
    },
    {
      "cell_type": "code",
      "execution_count": null,
      "metadata": {
        "id": "nIyyFWILlyI3"
      },
      "outputs": [],
      "source": [
        "from importlib import reload\n",
        "print('RMSE: ', RMSE)\n",
        "print('MAE: ', MAE)\n",
        "plt=reload(plt)\n",
        "plt.title('RMSE & MAE')\n",
        "plt.plot(iteration_list,RMSE, label='RMSE')\n",
        "plt.plot(iteration_list, MAE, label='MAE')\n",
        "plt.xlabel(\"Iteration\")\n",
        "plt.legend()\n",
        "plt.show()"
      ]
    },
    {
      "cell_type": "code",
      "execution_count": null,
      "metadata": {
        "id": "O_9XJG1E98TF"
      },
      "outputs": [],
      "source": [
        "plt=reload(plt)\n",
        "plt.title('Precision & Recall')\n",
        "plt.plot(iteration_list,Precision)\n",
        "plt.plot(iteration_list,Recall)\n",
        "plt.plot(iteration_list,F1)\n",
        "plt.xlabel(\"Iteration\")\n",
        "plt.show()"
      ]
    },
    {
      "cell_type": "code",
      "execution_count": null,
      "metadata": {
        "id": "JgZaDD-_98TF"
      },
      "outputs": [],
      "source": [
        "plt=reload(plt)\n",
        "plt.title('NDCG')\n",
        "plt.plot(iteration_list,ndcg)\n",
        "plt.xlabel(\"Iteration\")\n",
        "plt.show()"
      ]
    },
    {
      "cell_type": "markdown",
      "metadata": {
        "id": "Q1TIg_VwlapH"
      },
      "source": [
        "# Number of movie GD"
      ]
    },
    {
      "cell_type": "code",
      "execution_count": 150,
      "metadata": {
        "colab": {
          "base_uri": "https://localhost:8080/"
        },
        "id": "5kIvcNQTleCG",
        "outputId": "a3b8db5a-6a0d-4df2-f577-a8b9607b5496"
      },
      "outputs": [
        {
          "name": "stdout",
          "output_type": "stream",
          "text": [
            "Iteration 30 : loss:  3.2818765059164554 RMSE train :  (1.0343343282589292, 0.8178753554208529)\n"
          ]
        }
      ],
      "source": [
        "g = GD(rate_train, nums_feature = 10, lamda = 0.1, learning_rate = 0.5,max_iter = 30, print_every = 30,user_based = 1)\n",
        "g.fit()"
      ]
    },
    {
      "cell_type": "code",
      "execution_count": 224,
      "metadata": {
        "id": "6MBmgxI8lz6h"
      },
      "outputs": [],
      "source": [
        "precision = []\n",
        "recall = []\n",
        "f1 = []\n",
        "ndcg = []\n",
        "map=[]\n",
        "num_movie = [5,15,30,50,100]\n",
        "for k in num_movie:\n",
        "    metric=PrecisionAtK(g, k)\n",
        "    precision.append(metric[0])\n",
        "    recall.append(metric[1])\n",
        "    f1.append(metric[2])\n",
        "    map.append(metric[3])\n",
        "\n",
        "    ndcg.append(NDCG(g, k))"
      ]
    },
    {
      "cell_type": "code",
      "execution_count": 229,
      "metadata": {
        "colab": {
          "base_uri": "https://localhost:8080/",
          "height": 490
        },
        "id": "Z8wRPeMvw_cW",
        "outputId": "d73381a3-525c-4b52-ba86-9fdd2b68004b"
      },
      "outputs": [
        {
          "name": "stdout",
          "output_type": "stream",
          "text": [
            "Precision:  [0.5533333333333333, 0.5466050643616868, 0.5442202938035032, 0.5425070242216276, 0.542119713287286]\n"
          ]
        },
        {
          "data": {
            "image/png": "[encoded data removed]",
            "text/plain": [
              "<Figure size 640x480 with 1 Axes>"
            ]
          },
          "metadata": {},
          "output_type": "display_data"
        }
      ],
      "source": [
        "print(\"Precision: \",precision)\n",
        "print('Recall: ', recall)\n",
        "print('F1: ', f1)\n",
        "plt=reload(plt)\n",
        "plt.plot(num_movie, precision,label='Precision')\n",
        "plt.plot(num_movie, recall, label='Recall')\n",
        "plt.plot(num_movie, f1, label='F1')\n",
        "plt.xlabel('Neighbor')\n",
        "plt.title('Precision, Recall, and F1')\n",
        "plt.legend()\n",
        "plt.show()"
      ]
    },
    {
      "cell_type": "code",
      "execution_count": 228,
      "metadata": {
        "colab": {
          "base_uri": "https://localhost:8080/",
          "height": 509
        },
        "id": "J_G2HyhqxGe3",
        "outputId": "ccc74fbd-7164-4c2c-a570-a34c4f873a85"
      },
      "outputs": [
        {
          "name": "stdout",
          "output_type": "stream",
          "text": [
            "MAP:  [0.6911334161147903, 0.6631326308781873, 0.6571741125714976, 0.6560504802626287, 0.6556311910213404]\n",
            "NDCG:  [0.6985501608715777, 0.7864543088444106, 0.8245050211416255, 0.839666443049453, 0.8466278572389989]\n"
          ]
        },
        {
          "data": {
            "image/png": "[encoded data removed]",
            "text/plain": [
              "<Figure size 640x480 with 1 Axes>"
            ]
          },
          "metadata": {},
          "output_type": "display_data"
        }
      ],
      "source": [
        "print(\"MAP: \",map)\n",
        "print('NDCG: ', ndcg)\n",
        "plt=reload(plt)\n",
        "plt.plot(num_movie, map, label='MAP')\n",
        "plt.plot(num_movie, ndcg, label ='NDCG')\n",
        "plt.xlabel('Neighbor')\n",
        "plt.title('MAP and NDCG')\n",
        "plt.legend()\n",
        "plt.show()"
      ]
    },
    {
      "cell_type": "markdown",
      "metadata": {
        "id": "Y5wO_lcqD37O"
      },
      "source": [
        "# Rank list for SVD"
      ]
    },
    {
      "cell_type": "code",
      "execution_count": 307,
      "metadata": {
        "id": "gcpXnQhgEA7V"
      },
      "outputs": [],
      "source": [
        "rank_list = [1,5,10,15,20,30,40,50,100]\n",
        "RMSE = []\n",
        "MAE = []\n",
        "Precision = []\n",
        "Recall = []\n",
        "F1 =[]\n",
        "MAP = []\n",
        "ndcg = []"
      ]
    },
    {
      "cell_type": "code",
      "execution_count": 308,
      "metadata": {
        "colab": {
          "base_uri": "https://localhost:8080/"
        },
        "id": "O2w6VrLyEIYG",
        "outputId": "c5679607-29bc-4154-d50c-f034153ec28b"
      },
      "outputs": [
        {
          "name": "stderr",
          "output_type": "stream",
          "text": [
            "/usr/local/lib/python3.10/dist-packages/numpy/core/fromnumeric.py:3474: RuntimeWarning: Mean of empty slice.\n",
            "  return _methods._mean(a, axis=axis, dtype=dtype,\n",
            "/usr/local/lib/python3.10/dist-packages/numpy/core/_methods.py:189: RuntimeWarning: invalid value encountered in double_scalars\n",
            "  ret = ret.dtype.type(ret / rcount)\n"
          ]
        }
      ],
      "source": [
        "for rank in rank_list:\n",
        "  svd = SVD(rate_train, rank)\n",
        "  svd.SVD()\n",
        "\n",
        "  e=svd.MSE(rate_test)\n",
        "  RMSE.append(e[0])\n",
        "  MAE.append(e[1])\n",
        "\n",
        "  metric = PrecisionAtK(svd, 10000)\n",
        "  Precision.append(metric[0])\n",
        "  Recall.append(metric[1])\n",
        "  F1.append(metric[2])\n",
        "  MAP.append(metric[3])\n",
        "\n",
        "  ndcg.append(NDCG(svd, 10000))"
      ]
    },
    {
      "cell_type": "code",
      "execution_count": 321,
      "metadata": {
        "colab": {
          "base_uri": "https://localhost:8080/",
          "height": 509
        },
        "id": "XEbk7c9oEM64",
        "outputId": "fb09e3e0-31f4-4996-a884-a321e26beb33"
      },
      "outputs": [
        {
          "name": "stdout",
          "output_type": "stream",
          "text": [
            "RMSE:  [0.9914716595662433, 0.9686129428734775, 0.9575913712996746, 0.952570081500044, 0.9502424625100652, 0.9494636687459359, 0.9508973048744814, 0.9531254220219714, 0.9650177083769557]\n",
            "MAE:  [0.7883899487433401, 0.7670677175431638, 0.7570853066168888, 0.7526140690914911, 0.7505897221756591, 0.7498679986606254, 0.7511601539311157, 0.7529686362437356, 0.7636768585233183]\n"
          ]
        },
        {
          "data": {
            "image/png": "[encoded data removed]",
            "text/plain": [
              "<Figure size 640x480 with 1 Axes>"
            ]
          },
          "metadata": {},
          "output_type": "display_data"
        }
      ],
      "source": [
        "from importlib import reload\n",
        "print('RMSE: ', RMSE)\n",
        "print('MAE: ', MAE)\n",
        "plt=reload(plt)\n",
        "plt.title('RMSE & MAE')\n",
        "plt.plot(rank_list,RMSE, label='RMSE')\n",
        "plt.plot(rank_list, MAE, label='MAE')\n",
        "plt.xlabel(\"Rank\")\n",
        "plt.legend()\n",
        "plt.show()"
      ]
    },
    {
      "cell_type": "code",
      "execution_count": 318,
      "metadata": {
        "colab": {
          "base_uri": "https://localhost:8080/",
          "height": 527
        },
        "id": "FyhUp1F9EcIs",
        "outputId": "e3d29612-2b1f-4efb-d3fc-1c1ecbba8135"
      },
      "outputs": [
        {
          "name": "stdout",
          "output_type": "stream",
          "text": [
            "Precision:  [0.6228964425780302, 0.649124410702186, 0.647637364896268, 0.6492594119054297, 0.6476567006034549, 0.6498352602345646, 0.6449564693125629, 0.6407096664054623, 0.6310946719263374]\n",
            "Recall:,  [0.7263939321920929, 0.7297888873279939, 0.727176186366071, 0.7220583487612242, 0.7091687585205113, 0.6999943490593697, 0.6890644280396975, 0.6819107442358644, 0.6560865780466119]\n",
            "F1:  [0.6366485878199568, 0.6579324533913827, 0.6565966668637434, 0.6547946984080959, 0.6482957668080841, 0.6453359793028208, 0.6378117930152121, 0.632350815490198, 0.615475738561116]\n"
          ]
        },
        {
          "data": {
            "image/png": "[encoded data removed]",
            "text/plain": [
              "<Figure size 640x480 with 1 Axes>"
            ]
          },
          "metadata": {},
          "output_type": "display_data"
        }
      ],
      "source": [
        "from importlib import reload\n",
        "print('Precision: ', Precision)\n",
        "print('Recall:, ', Recall)\n",
        "print('F1: ', F1)\n",
        "plt=reload(plt)\n",
        "plt.title('Precision, Recall and F1')\n",
        "plt.plot(rank_list,Precision, label='Precision')\n",
        "plt.plot(rank_list, Recall, label='Recall')\n",
        "plt.plot(rank_list, F1, label='F1')\n",
        "plt.xlabel(\"Rank\")\n",
        "plt.legend()\n",
        "plt.show()"
      ]
    },
    {
      "cell_type": "code",
      "execution_count": 315,
      "metadata": {
        "colab": {
          "base_uri": "https://localhost:8080/",
          "height": 472
        },
        "id": "XxE4CZ8yEdrl",
        "outputId": "e063612c-165c-4e4a-eaac-f2d8e17b6399"
      },
      "outputs": [
        {
          "data": {
            "image/png": "[encoded data removed]",
            "text/plain": [
              "<Figure size 640x480 with 1 Axes>"
            ]
          },
          "metadata": {},
          "output_type": "display_data"
        }
      ],
      "source": [
        "plt=reload(plt)\n",
        "plt.title('NDCG')\n",
        "plt.plot(rank_list,ndcg)\n",
        "plt.xlabel(\"Rank\")\n",
        "plt.show()"
      ]
    },
    {
      "cell_type": "markdown",
      "metadata": {
        "id": "dJm4ie5gyzoE"
      },
      "source": [
        "# Number of movie for SVD"
      ]
    },
    {
      "cell_type": "code",
      "execution_count": 322,
      "metadata": {
        "id": "QXORLTGyy32d"
      },
      "outputs": [],
      "source": [
        "svd = SVD(rate_train, 10)\n",
        "svd.SVD()"
      ]
    },
    {
      "cell_type": "code",
      "execution_count": 331,
      "metadata": {
        "id": "MMX0anJEiSIN"
      },
      "outputs": [],
      "source": [
        "num_movie = [5, 15, 30, 50, 100]\n",
        "RMSE = []\n",
        "MAP = []\n",
        "Precision = []\n",
        "Recall = []\n",
        "F1 =[]\n",
        "MAP = []\n",
        "ndcg = []"
      ]
    },
    {
      "cell_type": "code",
      "execution_count": 332,
      "metadata": {
        "id": "oNjFMK2KiVBF"
      },
      "outputs": [],
      "source": [
        "for num in num_movie:\n",
        "\n",
        "  metric = PrecisionAtK(svd, num)\n",
        "  Precision.append(metric[0])\n",
        "  Recall.append(metric[1])\n",
        "  F1.append(metric[2])\n",
        "  MAP.append(metric[3])\n",
        "\n",
        "  ndcg.append(NDCG(svd, num))"
      ]
    },
    {
      "cell_type": "code",
      "execution_count": 333,
      "metadata": {
        "colab": {
          "base_uri": "https://localhost:8080/",
          "height": 527
        },
        "id": "TqgNqLFjijeM",
        "outputId": "36631008-8108-45d1-9c70-3fbd2f542b23"
      },
      "outputs": [
        {
          "name": "stdout",
          "output_type": "stream",
          "text": [
            "Precision:  [0.6551683222958057, 0.6502164502164501, 0.6478822368921359, 0.6477375301791765, 0.6476366488255066]\n",
            "Recall:,  [0.4987229618932004, 0.6731882918869069, 0.7163975070355264, 0.7259708213522811, 0.7271427071521283]\n",
            "F1:  [0.5079643769556142, 0.6248394487981405, 0.6505737210222736, 0.6559772360929369, 0.6565823154463168]\n"
          ]
        },
        {
          "data": {
            "image/png": "[encoded data removed]",
            "text/plain": [
              "<Figure size 640x480 with 1 Axes>"
            ]
          },
          "metadata": {},
          "output_type": "display_data"
        }
      ],
      "source": [
        "from importlib import reload\n",
        "print('Precision: ', Precision)\n",
        "print('Recall:, ', Recall)\n",
        "print('F1: ', F1)\n",
        "plt=reload(plt)\n",
        "plt.title('Precision, Recall and F1')\n",
        "plt.plot(num_movie,Precision, label='Precision')\n",
        "plt.plot(num_movie, Recall, label='Recall')\n",
        "plt.plot(num_movie, F1, label='F1')\n",
        "plt.xlabel(\"Number of movie\")\n",
        "plt.legend()\n",
        "plt.show()"
      ]
    },
    {
      "cell_type": "code",
      "execution_count": 338,
      "metadata": {
        "colab": {
          "base_uri": "https://localhost:8080/",
          "height": 472
        },
        "id": "d1oxv8c5ilNO",
        "outputId": "52eae056-4ac4-4eb0-b6ef-87b81293f254"
      },
      "outputs": [
        {
          "data": {
            "image/png": "[encoded data removed]",
            "text/plain": [
              "<Figure size 640x480 with 1 Axes>"
            ]
          },
          "metadata": {},
          "output_type": "display_data"
        }
      ],
      "source": [
        "plt=reload(plt)\n",
        "plt.title('NDCG & MAP')\n",
        "plt.plot(num_movie,ndcg, label='NDCG')\n",
        "plt.plot(num_movie,MAP, label='MAP')\n",
        "plt.xlabel(\"Number of movie\")\n",
        "plt.legend()\n",
        "plt.show()"
      ]
    },
    {
      "cell_type": "code",
      "execution_count": null,
      "metadata": {
        "id": "NexRvtS0imGh"
      },
      "outputs": [],
      "source": []
    }
  ],
  "metadata": {
    "colab": {
      "provenance": []
    },
    "kernelspec": {
      "display_name": "Python 3",
      "name": "python3"
    },
    "language_info": {
      "codemirror_mode": {
        "name": "ipython",
        "version": 3
      },
      "file_extension": ".py",
      "mimetype": "text/x-python",
      "name": "python",
      "nbconvert_exporter": "python",
      "pygments_lexer": "ipython3",
      "version": "3.9.6"
    }
  },
  "nbformat": 4,
  "nbformat_minor": 0
}
