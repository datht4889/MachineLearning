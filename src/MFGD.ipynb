{
  "cells": [
    {
      "cell_type": "markdown",
      "metadata": {
        "id": "cLVF-3_7-d7P"
      },
      "source": [
        "#1 Import library\n"
      ]
    },
    {
      "cell_type": "code",
      "execution_count": null,
      "metadata": {
        "id": "OQuyiMaxvhbe"
      },
      "outputs": [],
      "source": [
        "import pandas as pd\n",
        "import numpy as np\n",
        "import matplotlib.pyplot as plt\n",
        "from sklearn.metrics import ndcg_score\n",
        "%matplotlib inline"
      ]
    },
    {
      "cell_type": "code",
      "execution_count": null,
      "metadata": {
        "colab": {
          "base_uri": "https://localhost:8080/"
        },
        "id": "7u_J5Nnx_hb-",
        "outputId": "93e12bc4-5647-4b76-b94e-a6d3385d6e60"
      },
      "outputs": [
        {
          "output_type": "stream",
          "name": "stdout",
          "text": [
            "Mounted at /content/drive\n"
          ]
        }
      ],
      "source": [
        "from google.colab import drive\n",
        "drive.mount('/content/drive')"
      ]
    },
    {
      "cell_type": "markdown",
      "metadata": {
        "id": "275B1wh8-3k-"
      },
      "source": [
        "#2 Loading Data"
      ]
    },
    {
      "cell_type": "code",
      "execution_count": null,
      "metadata": {
        "colab": {
          "base_uri": "https://localhost:8080/"
        },
        "id": "gHZEBe4bvldo",
        "outputId": "d5178cc7-795b-4318-9496-de2af9af84c8"
      },
      "outputs": [
        {
          "output_type": "stream",
          "name": "stderr",
          "text": [
            "<ipython-input-3-ced61abebe18>:2: ParserWarning: Falling back to the 'python' engine because the 'c' engine does not support regex separators (separators > 1 char and different from '\\s+' are interpreted as regex); you can avoid this warning by specifying engine='python'.\n",
            "  raw_data = pd.read_csv(\"/content/drive/MyDrive/Colab/ML/ratings.dat\", index_col = False ,delimiter=\"::\",names = r_cols)\n"
          ]
        }
      ],
      "source": [
        "r_cols = [\"UserID\", \"MovieID\", \"Rating\", \"Timestamp\"]\n",
        "raw_data = pd.read_csv(\"/content/drive/MyDrive/Colab/ML/ratings.dat\", index_col = False ,delimiter=\"::\",names = r_cols)"
      ]
    },
    {
      "cell_type": "markdown",
      "metadata": {
        "id": "MZC0EKuq_ZeX"
      },
      "source": [
        "## Change DataFrame into matrix numpy"
      ]
    },
    {
      "cell_type": "code",
      "execution_count": null,
      "metadata": {
        "id": "SUxQSt4Y_LkO"
      },
      "outputs": [],
      "source": [
        "matrix_data = raw_data.to_numpy()\n"
      ]
    },
    {
      "cell_type": "code",
      "execution_count": null,
      "metadata": {
        "colab": {
          "base_uri": "https://localhost:8080/"
        },
        "id": "bnHahSIV5j9d",
        "outputId": "fe1f9b4c-3030-4aea-f71b-eea2788d3579"
      },
      "outputs": [
        {
          "output_type": "execute_result",
          "data": {
            "text/plain": [
              "array([[        0,      1192,         5, 978300760],\n",
              "       [        0,       660,         3, 978302109],\n",
              "       [        0,       913,         3, 978301968],\n",
              "       ...,\n",
              "       [     6039,       561,         5, 956704746],\n",
              "       [     6039,      1095,         4, 956715648],\n",
              "       [     6039,      1096,         4, 956715569]])"
            ]
          },
          "metadata": {},
          "execution_count": 5
        }
      ],
      "source": [
        "# Index of movie and user-1\n",
        "matrix_data[:,[0,1]] = matrix_data[:,[0,1]] - 1\n",
        "matrix_data"
      ]
    },
    {
      "cell_type": "code",
      "execution_count": null,
      "metadata": {
        "colab": {
          "base_uri": "https://localhost:8080/"
        },
        "id": "wmSik_8f5uqk",
        "outputId": "883260fe-5a86-4e9c-893b-e24a2195be57"
      },
      "outputs": [
        {
          "output_type": "stream",
          "name": "stdout",
          "text": [
            "(900188, 4) (100021, 4)\n"
          ]
        }
      ],
      "source": [
        "# Splitting the data into training set and testing set\n",
        "from sklearn.model_selection import train_test_split\n",
        "\n",
        "rate_train, rate_test = train_test_split(matrix_data, test_size=0.1, stratify=matrix_data[:,0])\n",
        "print(rate_train.shape, rate_test.shape)"
      ]
    },
    {
      "cell_type": "markdown",
      "metadata": {
        "id": "DA0V5bFe_nTQ"
      },
      "source": [
        "#3 Build the Matrix Fatorization Using Gradient Descent Method"
      ]
    },
    {
      "cell_type": "code",
      "execution_count": null,
      "metadata": {
        "colab": {
          "base_uri": "https://localhost:8080/"
        },
        "id": "vSdvIMk098TB",
        "outputId": "a09813d5-f242-47e8-9e3c-6ad5d0473559"
      },
      "outputs": [
        {
          "output_type": "execute_result",
          "data": {
            "text/plain": [
              "(100021, 4)"
            ]
          },
          "metadata": {},
          "execution_count": 7
        }
      ],
      "source": [
        "rate_test.shape"
      ]
    },
    {
      "cell_type": "code",
      "execution_count": null,
      "metadata": {
        "id": "xaE8NqmDAFr3"
      },
      "outputs": [],
      "source": [
        "class matrix_factorization(object):\n",
        "  def __init__(self, data, nums_feature, lamda = 0.1, Xinit = None, Winit = None,\n",
        "               learning_rate = 0.5, max_iter = 1000, print_every = 1000, user_based = 1):\n",
        "    self.raw_data = data\n",
        "    self.K = nums_feature\n",
        "\n",
        "    # regularization term:\n",
        "    self.lamda = lamda\n",
        "\n",
        "    #Learning rate:\n",
        "    self.alpha = learning_rate\n",
        "\n",
        "    # Print result after print_every iterations\n",
        "    self.print_every = print_every\n",
        "\n",
        "    # number of user, items, ratings:\n",
        "    self.n_users = int(np.max(self.raw_data[:,0]) + 1)\n",
        "    self.n_items = int(np.max(self.raw_data[:,1]) + 1)\n",
        "    self.n_objects = int(self.raw_data.shape[0])\n",
        "\n",
        "    # Numbers of iterations:\n",
        "    self.max_iter = max_iter\n",
        "\n",
        "    # Choose the way to normalize data:\n",
        "    self.user_based = user_based\n",
        "\n",
        "    # Initialize X matrix and W matrix:\n",
        "    if Xinit is not None:\n",
        "      self.X = Xinit\n",
        "    else:\n",
        "      self.X = np.random.rand(self.n_items,self.K)\n",
        "\n",
        "    if Winit is not None:\n",
        "      self.W = Winit\n",
        "    else:\n",
        "      self.W = np.random.rand(self.K,self.n_users)\n",
        "\n",
        "    # Make a copy of raw matrix to prepare for normalize:\n",
        "    self.normal_matrix = self.raw_data.copy()\n",
        "\n",
        "  def normalize(self):\n",
        "      \"\"\"\n",
        "      We normalize the rating matrix:\n",
        "      For each users, we calculate the mean of rating of movies that user vote for. Then subtract the rating with that mean value.\n",
        "      \"\"\"\n",
        "      if self.user_based:\n",
        "        user_col = 0\n",
        "        item_col = 1\n",
        "        n_objects = self.n_users\n",
        "      else:\n",
        "        user_col = 1\n",
        "        item_col = 0\n",
        "        n_objects = self.n_items\n",
        "\n",
        "      # # Convert all value in rating matrix to integer value:\n",
        "      self.normal_matrix = self.normal_matrix.astype(\"float32\")\n",
        "\n",
        "      # Create a array contain mean value for each object:\n",
        "      self.mean = np.zeros((n_objects,))\n",
        "      # Compute mean and subtract rating for each user:\n",
        "      for n in range(n_objects):\n",
        "        # find index row rating which rated by user n or rate for movie n (depend on user_based or item_based)\n",
        "        ids = np.where(self.normal_matrix[:,user_col] == n)\n",
        "\n",
        "        # Find the rating column\n",
        "        rating = self.normal_matrix[ids,2]\n",
        "        # Find the mean of rating column\n",
        "        mean_value = np.mean(rating)\n",
        "        # Check whether mean_value is none or not (since sometime rating column is empty -> mean_value = NULL)\n",
        "        if np.isnan(mean_value):\n",
        "          mean_value = 0\n",
        "        self.mean[n] = mean_value\n",
        "        # normalize:\n",
        "        self.normal_matrix[ids,2] =  self.normal_matrix[ids,2] - mean_value\n",
        "\n",
        "  def movie_rated_by_user(self, user):\n",
        "    \"\"\"\n",
        "    Return idex and matrix of movie column rated by the user\n",
        "    \"\"\"\n",
        "    # find index row of movies which are rated by user i\n",
        "    idx = np.where(self.normal_matrix[:,0] == user)\n",
        "\n",
        "    # list of movie id which are rated by user i\n",
        "    movieId = self.raw_data[idx,1].reshape((np.size(idx),))\n",
        "\n",
        "    return idx[0], self.X[movieId,:]\n",
        "\n",
        "\n",
        "  def user_rate_for_movie(self, movie):\n",
        "    \"\"\"\n",
        "    Return idex and matrix of user row who rate for the movie\n",
        "    \"\"\"\n",
        "    # find index row of user who rate for movie i\n",
        "    idx = np.where(self.normal_matrix[:,1] == movie)\n",
        "\n",
        "    # list of user id who rate for movie i\n",
        "    userId = self.raw_data[idx,0].reshape((np.size(idx),))\n",
        "\n",
        "    return idx[0], self.W[:,userId]\n",
        "\n",
        "\n",
        "  def loss(self):\n",
        "    \"\"\"\n",
        "    Compute the loss\n",
        "    \"\"\"\n",
        "    L = 0\n",
        "    for i in range(self.n_objects):\n",
        "        # user, item, rating\n",
        "        n, m, rate = int(self.normal_matrix[i, 0]), int(self.normal_matrix[i, 1]), self.normal_matrix[i, 2]\n",
        "        L += 0.5*(rate - self.X[m, :].dot(self.W[:, n]))**2\n",
        "\n",
        "    # take average\n",
        "    L /= self.n_objects\n",
        "    # regularization term\n",
        "    L += 0.5*self.lamda*(np.linalg.norm(self.X, 'fro') + np.linalg.norm(self.W, 'fro'))\n",
        "    return L\n",
        "\n",
        "  def update_X(self):\n",
        "    for movie in range(self.n_items):\n",
        "      # find index column of users which rate for movie i and\n",
        "      # list of user id who rate for movie i\n",
        "      idx,W = self.user_rate_for_movie(movie)\n",
        "      actual_value = self.normal_matrix[idx,2]\n",
        "\n",
        "      # Compute the predicted rating and error (1xn)\n",
        "      predict = np.dot(self.X[movie,:], W)\n",
        "      error = actual_value - predict\n",
        "      # Update each row in X matrix\n",
        "      self.X[movie,:] = self.X[movie,:] - self.alpha * ((-1/self.n_objects) * (np.dot(error, W.T)) + self.lamda * self.X[movie,:])\n",
        "\n",
        "  def update_W(self):\n",
        "    for user in range(self.n_users):\n",
        "      # find index row of movie which is rated by user i\n",
        "      # list of movie id which is rated by user i\n",
        "      idx,X = self.movie_rated_by_user(user)\n",
        "\n",
        "       # Compute the predicted rating row with shape (K,1) and error\n",
        "      actual_value = self.normal_matrix[idx,2]\n",
        "      predict  = np.dot(X, self.W[:,user])\n",
        "      error = actual_value - predict\n",
        "      # Update each column in W matrix\n",
        "      self.W[:,user] = self.W[:,user] - self.alpha * ((-1/self.n_objects) * (np.dot(X.T,error)) + self.lamda * self.W[:,user])\n",
        "\n",
        "\n",
        "  def print(self, itr):\n",
        "    print(\"Iteration\",itr, \": \" + \"loss: \",self.loss() ,\"RMSE train : \", self.MSE(self.raw_data))\n",
        "\n",
        "  def fit(self):\n",
        "    self.normalize()\n",
        "    for iter in range(self.max_iter):\n",
        "      self.update_X()\n",
        "      self.update_W()\n",
        "\n",
        "      if (iter + 1) % self.print_every == 0:\n",
        "        self.print(iter+1)\n",
        "\n",
        "  def predict(self,user,movie):\n",
        "    predict = np.dot(self.X[movie,:], self.W[:,user])\n",
        "    if self.user_based:\n",
        "        predict = predict + self.mean[user]\n",
        "    else:\n",
        "      predict = predict + self.mean[movie]\n",
        "    if predict < 0:\n",
        "      predict = 0\n",
        "    elif predict > 5:\n",
        "      predict = 5\n",
        "    return predict\n",
        "\n",
        "  def MSE(self, rate_test):\n",
        "    MSE = 0\n",
        "    n_tests = rate_test.shape[0]\n",
        "    for i in range(n_tests):\n",
        "      pred = self.predict(rate_test[i,0], rate_test[i,1])\n",
        "      error = (rate_test[i,2] - pred)**2\n",
        "      MSE += error\n",
        "    MSE = (1/(n_tests)) * MSE\n",
        "    return MSE\n",
        "\n",
        "  def metrics(self, rate_test):\n",
        "    tp=0\n",
        "    tp_fp=0\n",
        "    tp_fn=0\n",
        "    precision = 0\n",
        "    recall = 0\n",
        "    DCG = []\n",
        "    IDCG = sorted(rate_test[:,2])[::-1]\n",
        "    for r in rate_test:\n",
        "        trueRate = r[2]-self.mean[r[0]-1]\n",
        "        predictRate = self.predict(r[0], r[1]) - self.mean[r[0]-1]\n",
        "        DCG.append(self.predict(r[0], r[1]))\n",
        "        if predictRate>0:\n",
        "            tp_fp+=1\n",
        "        if trueRate>0:\n",
        "            tp_fn += 1\n",
        "            if predictRate>0:\n",
        "                tp+=1\n",
        "    if tp_fp != 0:\n",
        "      precision = tp/tp_fp\n",
        "    if tp_fn != 0:\n",
        "      recall = tp/tp_fn\n",
        "    DCG = sorted(DCG)[::-1]\n",
        "    ndcg = ndcg_score([IDCG], [DCG])\n",
        "    # print('Precision    :', precision)\n",
        "    # print('Reacall      :', recall)\n",
        "    # print('NDCG         :', ndcg)\n",
        "    return (precision, recall, ndcg)\n",
        "\n",
        "\n",
        "\n",
        "\n",
        "\n",
        "\n",
        "\n",
        "\n",
        "\n"
      ]
    },
    {
      "cell_type": "markdown",
      "metadata": {
        "id": "EL4fE9Wthqnq"
      },
      "source": [
        "#4 Visualize the accuracy of model"
      ]
    },
    {
      "cell_type": "markdown",
      "metadata": {
        "id": "4l74lvzXibde"
      },
      "source": [
        "## With each value of iteration\n"
      ]
    },
    {
      "cell_type": "code",
      "execution_count": null,
      "metadata": {
        "id": "bOWMK4bphpaM"
      },
      "outputs": [],
      "source": [
        "iteration_list = [1,5,10,15,20,30,40]\n",
        "MSE_train = []\n",
        "MSE_test = []\n",
        "Precision = []\n",
        "Recall = []\n",
        "NDCG = []"
      ]
    },
    {
      "cell_type": "code",
      "execution_count": null,
      "metadata": {
        "colab": {
          "base_uri": "https://localhost:8080/"
        },
        "id": "RlfbJb6xkUL2",
        "outputId": "50867505-924e-441b-a828-27a753870195"
      },
      "outputs": [
        {
          "output_type": "stream",
          "name": "stdout",
          "text": [
            "Iteration 10 : loss:  8.605477989089398 RMSE train :  1.842566134787669\n",
            "Iteration 10 : loss:  8.633456890767711 RMSE train :  1.8479263221824849\n",
            "Iteration 10 : loss:  8.643498557720756 RMSE train :  1.8568912680329521\n",
            "Iteration 20 : loss:  5.181296223990804 RMSE train :  1.1681172349457913\n",
            "Iteration 10 : loss:  8.646508679600803 RMSE train :  1.8548893045541\n",
            "Iteration 20 : loss:  5.183704202566737 RMSE train :  1.1685086378480094\n",
            "Iteration 30 : loss:  3.289046205989114 RMSE train :  1.0714078246737129\n",
            "Iteration 10 : loss:  8.634425829707274 RMSE train :  1.8431733033615836\n",
            "Iteration 20 : loss:  5.179663588755946 RMSE train :  1.1649055360714233\n",
            "Iteration 30 : loss:  3.2872193056140198 RMSE train :  1.0704125818106822\n",
            "Iteration 40 : loss:  2.176790543769527 RMSE train :  1.0583185045586152\n"
          ]
        }
      ],
      "source": [
        "for iter in iteration_list:\n",
        "  mf = matrix_factorization(rate_train, nums_feature = 10, lamda = 0.1, learning_rate = 0.5,max_iter = iter, print_every = 10,user_based = 1)\n",
        "  mf.fit()\n",
        "  MSE_train.append(mf.MSE(rate_train))\n",
        "  MSE_test.append(mf.MSE(rate_test))\n",
        "  metric = mf.metrics(rate_test)\n",
        "  Precision.append(metric[0])\n",
        "  Recall.append(metric[1])\n",
        "  NDCG.append(metric[2])"
      ]
    },
    {
      "cell_type": "code",
      "execution_count": null,
      "metadata": {
        "colab": {
          "base_uri": "https://localhost:8080/"
        },
        "id": "nIyyFWILlyI3",
        "outputId": "981339e2-21dd-44a9-cdc8-4b7cf00606b0"
      },
      "outputs": [
        {
          "output_type": "display_data",
          "data": {
            "text/plain": [
              "<Figure size 640x480 with 1 Axes>"
            ],
            "image/png": "[encoded data removed]"
          },
          "metadata": {}
        }
      ],
      "source": [
        "from importlib import reload\n",
        "plt=reload(plt)\n",
        "plt.title('RMSE')\n",
        "plt.plot(iteration_list,MSE_train)\n",
        "plt.plot(iteration_list, MSE_test)\n",
        "plt.xlabel(\"Iteration\")\n",
        "plt.show()"
      ]
    },
    {
      "cell_type": "code",
      "execution_count": null,
      "metadata": {
        "colab": {
          "base_uri": "https://localhost:8080/"
        },
        "id": "O_9XJG1E98TF",
        "outputId": "c4c786e3-4f27-48ad-fcd4-8a1ba6724747"
      },
      "outputs": [
        {
          "output_type": "display_data",
          "data": {
            "text/plain": [
              "<Figure size 640x480 with 1 Axes>"
            ],
            "image/png": "[encoded data removed]"
          },
          "metadata": {}
        }
      ],
      "source": [
        "plt=reload(plt)\n",
        "plt.title('Precision & Recall')\n",
        "plt.plot(iteration_list,Precision)\n",
        "plt.plot(iteration_list,Recall)\n",
        "plt.xlabel(\"Iteration\")\n",
        "plt.show()"
      ]
    },
    {
      "cell_type": "code",
      "execution_count": null,
      "metadata": {
        "colab": {
          "base_uri": "https://localhost:8080/"
        },
        "id": "JgZaDD-_98TF",
        "outputId": "a26caf50-f732-46b9-c16f-f31aed7070b5"
      },
      "outputs": [
        {
          "output_type": "display_data",
          "data": {
            "text/plain": [
              "<Figure size 640x480 with 1 Axes>"
            ],
            "image/png": "[encoded data removed]"
          },
          "metadata": {}
        }
      ],
      "source": [
        "plt=reload(plt)\n",
        "plt.title('NDCG')\n",
        "plt.plot(iteration_list,NDCG)\n",
        "plt.xlabel(\"Iteration\")\n",
        "plt.show()"
      ]
    },
    {
      "cell_type": "code",
      "execution_count": null,
      "metadata": {
        "id": "l8kAjpsxqUzN"
      },
      "outputs": [],
      "source": []
    }
  ],
  "metadata": {
    "colab": {
      "provenance": []
    },
    "kernelspec": {
      "display_name": "Python 3",
      "name": "python3"
    },
    "language_info": {
      "codemirror_mode": {
        "name": "ipython",
        "version": 3
      },
      "file_extension": ".py",
      "mimetype": "text/x-python",
      "name": "python",
      "nbconvert_exporter": "python",
      "pygments_lexer": "ipython3",
      "version": "3.9.6"
    }
  },
  "nbformat": 4,
  "nbformat_minor": 0
}