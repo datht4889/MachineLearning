{
  "cells": [
    {
      "cell_type": "code",
      "execution_count": 1,
      "metadata": {
        "colab": {
          "base_uri": "https://localhost:8080/"
        },
        "id": "Vw7znm6yfR2f",
        "outputId": "c6151dc2-5d68-4e54-f54c-5fd9e688406c"
      },
      "outputs": [
        {
          "output_type": "stream",
          "name": "stdout",
          "text": [
            "Mounted at /content/drive\n"
          ]
        }
      ],
      "source": [
        "from google.colab import drive\n",
        "drive.mount('/content/drive')"
      ]
    },
    {
      "cell_type": "code",
      "execution_count": 2,
      "metadata": {
        "id": "vUw2-AmIfHBQ"
      },
      "outputs": [],
      "source": [
        "import pandas as pd\n",
        "import numpy as np\n",
        "from sklearn.model_selection import train_test_split\n",
        "from sklearn.metrics import ndcg_score\n",
        "import math\n",
        "\n"
      ]
    },
    {
      "cell_type": "markdown",
      "source": [
        "# Data processing"
      ],
      "metadata": {
        "id": "zSlLha7atkms"
      }
    },
    {
      "cell_type": "code",
      "execution_count": 3,
      "metadata": {
        "id": "klItCMQHf9Rl",
        "colab": {
          "base_uri": "https://localhost:8080/"
        },
        "outputId": "33d6622b-2e17-4380-e566-f3ecae064ae2"
      },
      "outputs": [
        {
          "output_type": "stream",
          "name": "stderr",
          "text": [
            "<ipython-input-3-4c609c110fe4>:1: ParserWarning: Falling back to the 'python' engine because the 'c' engine does not support regex separators (separators > 1 char and different from '\\s+' are interpreted as regex); you can avoid this warning by specifying engine='python'.\n",
            "  users=pd.read_csv(r'/content/drive/MyDrive/Colab/ML/users.dat',sep=\"::\",names=['UserID','Gender','Age','Occupation','Zip-code'])\n",
            "<ipython-input-3-4c609c110fe4>:2: ParserWarning: Falling back to the 'python' engine because the 'c' engine does not support regex separators (separators > 1 char and different from '\\s+' are interpreted as regex); you can avoid this warning by specifying engine='python'.\n",
            "  movies=pd.read_csv(r'/content/drive/MyDrive/Colab/ML/movies.dat',sep=\"::\",names=['MovieID','Title','Genres'])\n",
            "<ipython-input-3-4c609c110fe4>:3: ParserWarning: Falling back to the 'python' engine because the 'c' engine does not support regex separators (separators > 1 char and different from '\\s+' are interpreted as regex); you can avoid this warning by specifying engine='python'.\n",
            "  ratings=pd.read_csv(r'/content/drive/MyDrive/Colab/ML/ratings.dat',sep=\"::\",names=['UserID','MovieID','Rating','Timestamp'])\n"
          ]
        }
      ],
      "source": [
        "users=pd.read_csv(r'/content/drive/MyDrive/Colab/ML/users.dat',sep=\"::\",names=['UserID','Gender','Age','Occupation','Zip-code'])\n",
        "movies=pd.read_csv(r'/content/drive/MyDrive/Colab/ML/movies.dat',sep=\"::\",names=['MovieID','Title','Genres'])\n",
        "ratings=pd.read_csv(r'/content/drive/MyDrive/Colab/ML/ratings.dat',sep=\"::\",names=['UserID','MovieID','Rating','Timestamp'])"
      ]
    },
    {
      "cell_type": "markdown",
      "source": [
        "Split train - test set"
      ],
      "metadata": {
        "id": "P3XnIluRtv3q"
      }
    },
    {
      "cell_type": "code",
      "execution_count": 4,
      "metadata": {
        "id": "rqsCaX7zfHBS"
      },
      "outputs": [],
      "source": [
        "u=len(users)\n",
        "m=max(movies[\"MovieID\"])\n",
        "r_train,r_test=train_test_split(ratings,test_size=0.1,stratify=ratings['UserID'])\n",
        "\n",
        "r_train.head()"
      ]
    },
    {
      "cell_type": "markdown",
      "source": [
        "Utility matrix"
      ],
      "metadata": {
        "id": "UHPzeTeqtrIn"
      }
    },
    {
      "cell_type": "code",
      "execution_count": 5,
      "metadata": {
        "id": "JWbNPQs5fHBS"
      },
      "outputs": [],
      "source": [
        "user_item=np.full((m,u),np.nan)\n",
        "for r in r_train.itertuples():\n",
        "    user_item[r[2]-1][r[1]-1]=r[3]\n",
        "\n",
        "user_item_test=np.full((m,u),np.nan)\n",
        "for r in r_test.itertuples():\n",
        "    user_item_test[r[2]-1][r[1]-1]=r[3]\n",
        "user_item"
      ]
    },
    {
      "cell_type": "markdown",
      "source": [
        "Similarity matrix"
      ],
      "metadata": {
        "id": "Ms7kreXMt4Gs"
      }
    },
    {
      "cell_type": "code",
      "execution_count": 6,
      "metadata": {
        "colab": {
          "base_uri": "https://localhost:8080/"
        },
        "id": "7pPemz-HfHBT",
        "outputId": "f2672be8-f8ba-4ee3-bf67-386c44867273"
      },
      "outputs": [
        {
          "output_type": "stream",
          "name": "stderr",
          "text": [
            "<ipython-input-6-be96d6d2cc6a>:1: RuntimeWarning: Mean of empty slice\n",
            "  mean=np.nanmean(user_item,axis=1)\n"
          ]
        }
      ],
      "source": [
        "mean=np.nanmean(user_item,axis=1)\n",
        "for i in range(m):\n",
        "    user_item[i]=user_item[i]-mean[i]\n",
        "    user_item_test[i] = user_item_test[i] - mean[i]\n",
        "\n",
        "nan_cell=np.argwhere(np.isnan(user_item))\n",
        "\n",
        "user_item=np.nan_to_num(user_item)"
      ]
    },
    {
      "cell_type": "code",
      "execution_count": 7,
      "metadata": {
        "id": "EWI9CLLnfHBT"
      },
      "outputs": [],
      "source": [
        "nan_list=[[] for i in range(u)]\n",
        "for cell in nan_cell:\n",
        "    nan_list[cell[1]].append(cell[0])\n",
        "# nan_cell"
      ]
    },
    {
      "cell_type": "code",
      "execution_count": 8,
      "metadata": {
        "id": "HyOOelXkfHBT"
      },
      "outputs": [],
      "source": [
        "def similarity(x,y):\n",
        "    if np.dot(x,y)==0:\n",
        "        return 0\n",
        "    return np.dot(x,y)/math.sqrt(np.sum(x**2)*np.sum(y**2))"
      ]
    },
    {
      "cell_type": "code",
      "execution_count": 9,
      "metadata": {
        "colab": {
          "base_uri": "https://localhost:8080/"
        },
        "id": "dU-j67PkfHBT",
        "outputId": "44008f5d-cea6-4518-e4b0-70d4a22d56a3"
      },
      "outputs": [
        {
          "output_type": "execute_result",
          "data": {
            "text/plain": [
              "array([[ 1.        ,  0.08175742,  0.02657457, ...,  0.01021887,\n",
              "         0.0143009 ,  0.01924492],\n",
              "       [ 0.08175742,  1.        ,  0.02032628, ..., -0.00640565,\n",
              "        -0.00831137,  0.00252573],\n",
              "       [ 0.02657457,  0.02032628,  1.        , ...,  0.0361254 ,\n",
              "         0.01877303,  0.01731341],\n",
              "       ...,\n",
              "       [ 0.01021887, -0.00640565,  0.0361254 , ...,  1.        ,\n",
              "         0.05133325,  0.06204155],\n",
              "       [ 0.0143009 , -0.00831137,  0.01877303, ...,  0.05133325,\n",
              "         1.        ,  0.14212449],\n",
              "       [ 0.01924492,  0.00252573,  0.01731341, ...,  0.06204155,\n",
              "         0.14212449,  1.        ]])"
            ]
          },
          "metadata": {},
          "execution_count": 9
        }
      ],
      "source": [
        "similarity_matrix=np.full((m,m),np.nan)\n",
        "for movie_1 in range(m):\n",
        "    for movie_2 in range(movie_1+1):\n",
        "        res=similarity(user_item[movie_1],user_item[movie_2])\n",
        "        similarity_matrix[movie_1][movie_2]=res\n",
        "        similarity_matrix[movie_2][movie_1]=res\n",
        "\n",
        "similarity_matrix"
      ]
    },
    {
      "cell_type": "markdown",
      "source": [
        "Prediction"
      ],
      "metadata": {
        "id": "OJ-YuFhKt6ni"
      }
    },
    {
      "cell_type": "code",
      "execution_count": 12,
      "metadata": {
        "id": "axWpCZnbfHBU"
      },
      "outputs": [],
      "source": [
        "def predict(user,movie,k):\n",
        "    copy=np.array(similarity_matrix[movie])\n",
        "\n",
        "    np.delete(copy,nan_list[user])\n",
        "    neighbor=(-copy).argsort()[1:k+1]\n",
        "    similar=copy[neighbor]\n",
        "    rate=user_item.T[user][neighbor]\n",
        "    if np.sum(similar)!=0:\n",
        "        return (rate@similar)/np.sum(np.abs(similar))\n",
        "    return 0"
      ]
    },
    {
      "cell_type": "code",
      "execution_count": 13,
      "metadata": {
        "id": "naBQrejgfHBU"
      },
      "outputs": [],
      "source": [
        "rmse = []\n",
        "mae = []\n",
        "precision = []\n",
        "recall = []\n",
        "NDCG = []\n",
        "iteration_list = [1,5,10,15,30,50,100]\n",
        "for k in iteration_list:\n",
        "    similarity_matrix=np.nan_to_num(similarity_matrix)\n",
        "    mean=np.nan_to_num(mean)\n",
        "    para = 0\n",
        "    se=0\n",
        "    e=0\n",
        "    tp=0\n",
        "    tp_fp=0\n",
        "    tp_tn=0\n",
        "    DCG = []\n",
        "    IDCG = sorted(r_test['Rating'])[::-1]\n",
        "    for r in r_test.itertuples():\n",
        "        pred=predict(r[1]-1,r[2]-1,k)\n",
        "        user_item[r[2]-1][r[1]-1]=pred+mean[r[2]-1]\n",
        "        DCG.append(pred+mean[r[2]-1])\n",
        "        if pred>para:\n",
        "            tp_fp+=1\n",
        "        if r[3]>mean[r[2]-1]+para:\n",
        "            tp_tn += 1\n",
        "            if pred>para:\n",
        "                tp+=1\n",
        "        se+=(user_item[r[2]-1][r[1]-1]-r[3])**2\n",
        "        e+=math.fabs(user_item[r[2]-1][r[1]-1]-r[3])\n",
        "    DCG = sorted(DCG)[::-1]\n",
        "    NDCG.append(ndcg_score([IDCG], [DCG]))\n",
        "    rmse.append(math.sqrt(se/len(r_test)))\n",
        "    mae.append(e/len(r_test))\n",
        "    precision.append(tp/tp_fp)\n",
        "    recall.append(tp/tp_tn)"
      ]
    },
    {
      "cell_type": "code",
      "source": [
        "NDCG = []\n",
        "iteration_list = [1,5,10,15,30,50,100]\n",
        "for k in iteration_list:\n",
        "    similarity_matrix=np.nan_to_num(similarity_matrix)\n",
        "    mean=np.nan_to_num(mean)\n",
        "    DCG = []\n",
        "    IDCG = sorted(r_test['Rating'])[::-1]\n",
        "    for r in r_test.itertuples():\n",
        "        pred=predict(r[1]-1,r[2]-1,k)\n",
        "        DCG.append(pred+mean[r[2]-1])\n",
        "    DCG = sorted(DCG)[::-1]\n",
        "    NDCG.append(ndcg_score([IDCG[:10]], [DCG[:10]]))\n",
        "NDCG"
      ],
      "metadata": {
        "colab": {
          "base_uri": "https://localhost:8080/"
        },
        "id": "6NRWLXePuGzx",
        "outputId": "176f053b-4699-4407-926c-76a730a9d099"
      },
      "execution_count": 18,
      "outputs": [
        {
          "output_type": "execute_result",
          "data": {
            "text/plain": [
              "[0.9999999999999997,\n",
              " 0.9999999999999997,\n",
              " 0.9999999999999997,\n",
              " 0.9999999999999997,\n",
              " 0.9999999999999997,\n",
              " 0.9999999999999997,\n",
              " 0.9999999999999997]"
            ]
          },
          "metadata": {},
          "execution_count": 18
        }
      ]
    },
    {
      "cell_type": "code",
      "execution_count": 14,
      "metadata": {
        "colab": {
          "base_uri": "https://localhost:8080/",
          "height": 489
        },
        "id": "SA88winyiLiu",
        "outputId": "09cdbba9-1cb3-46cf-ee08-1071a5c2d20d"
      },
      "outputs": [
        {
          "output_type": "stream",
          "name": "stdout",
          "text": [
            "RMSE:  [1.125942967499388, 1.019262345327438, 0.9590994622172946, 0.9423295043988122, 0.9334034523222807, 0.9323004529855101, 0.9350691355645259]\n"
          ]
        },
        {
          "output_type": "display_data",
          "data": {
            "text/plain": [
              "<Figure size 640x480 with 1 Axes>"
            ],
            "image/png": "[encoded data removed]"
          },
          "metadata": {}
        }
      ],
      "source": [
        "import matplotlib.pyplot as plt\n",
        "from importlib import reload\n",
        "print(\"RMSE: \",rmse)\n",
        "plt=reload(plt)\n",
        "plt.plot(iteration_list, rmse)\n",
        "plt.xlabel('Neighbor')\n",
        "plt.title('RMSE')\n",
        "plt.show()"
      ]
    },
    {
      "cell_type": "code",
      "source": [
        "print(\"MAE: \",mae)\n",
        "plt=reload(plt)\n",
        "plt.plot(iteration_list, mae)\n",
        "plt.xlabel('Neighbor')\n",
        "plt.title('MAE')\n",
        "plt.show()"
      ],
      "metadata": {
        "id": "VeLUPKO11day"
      },
      "execution_count": null,
      "outputs": []
    },
    {
      "cell_type": "code",
      "execution_count": 15,
      "metadata": {
        "colab": {
          "base_uri": "https://localhost:8080/",
          "height": 489
        },
        "id": "Drf_tMtBkSi-",
        "outputId": "027c5068-4ccb-43dc-dc28-d51cfb6f0e0d"
      },
      "outputs": [
        {
          "output_type": "stream",
          "name": "stdout",
          "text": [
            "Precision:  [0.6883598841419262, 0.6458324340656969, 0.6360465952398073, 0.6318649362734509, 0.6235991010433255, 0.6186662926863474, 0.6136999683176682]\n"
          ]
        },
        {
          "output_type": "display_data",
          "data": {
            "text/plain": [
              "<Figure size 640x480 with 1 Axes>"
            ],
            "image/png": "[encoded data removed]"
          },
          "metadata": {}
        }
      ],
      "source": [
        "print(\"Precision: \",precision)\n",
        "plt=reload(plt)\n",
        "plt.plot(iteration_list, precision)\n",
        "plt.xlabel('Neighbor')\n",
        "plt.title('Precision')\n",
        "plt.show()"
      ]
    },
    {
      "cell_type": "code",
      "execution_count": 16,
      "metadata": {
        "colab": {
          "base_uri": "https://localhost:8080/",
          "height": 489
        },
        "id": "QvnyzPw9kUA1",
        "outputId": "669b698a-c3f8-4576-d2d2-42e4c4c753de"
      },
      "outputs": [
        {
          "output_type": "stream",
          "name": "stdout",
          "text": [
            "Recall:  [0.2833299182236462, 0.5574204124210644, 0.6590913324516141, 0.7083247955591155, 0.7804891678930015, 0.8217499022036772, 0.8659910958776521]\n"
          ]
        },
        {
          "output_type": "display_data",
          "data": {
            "text/plain": [
              "<Figure size 640x480 with 1 Axes>"
            ],
            "image/png": "[encoded data removed]"
          },
          "metadata": {}
        }
      ],
      "source": [
        "print(\"Recall: \",recall)\n",
        "plt=reload(plt)\n",
        "plt.plot(iteration_list, recall)\n",
        "plt.xlabel('Neighbor')\n",
        "plt.title('Recall')\n",
        "plt.show()"
      ]
    },
    {
      "cell_type": "code",
      "execution_count": 17,
      "metadata": {
        "colab": {
          "base_uri": "https://localhost:8080/",
          "height": 489
        },
        "id": "BScUDuzE-7ec",
        "outputId": "c34fb772-9e3d-4e1d-a469-a7a0687b6b80"
      },
      "outputs": [
        {
          "output_type": "stream",
          "name": "stdout",
          "text": [
            "NDCG:  [0.9999999620132751, 0.999999999997362, 0.9999999993790541, 0.999999999999999, 0.999999999999999, 0.9999999999999991, 0.9999999999999991]\n"
          ]
        },
        {
          "output_type": "display_data",
          "data": {
            "text/plain": [
              "<Figure size 640x480 with 1 Axes>"
            ],
            "image/png": "[encoded data removed]"
          },
          "metadata": {}
        }
      ],
      "source": [
        "print(\"NDCG: \",NDCG)\n",
        "plt=reload(plt)\n",
        "plt.plot(iteration_list, NDCG)\n",
        "plt.xlabel('Neighbor')\n",
        "plt.title('NDCG')\n",
        "plt.show()"
      ]
    },
    {
      "cell_type": "code",
      "execution_count": 17,
      "metadata": {
        "id": "sOmPwK15qdHW"
      },
      "outputs": [],
      "source": []
    }
  ],
  "metadata": {
    "colab": {
      "provenance": []
    },
    "kernelspec": {
      "display_name": "Python 3",
      "language": "python",
      "name": "python3"
    },
    "language_info": {
      "codemirror_mode": {
        "name": "ipython",
        "version": 3
      },
      "file_extension": ".py",
      "mimetype": "text/x-python",
      "name": "python",
      "nbconvert_exporter": "python",
      "pygments_lexer": "ipython3",
      "version": "3.11.0"
    }
  },
  "nbformat": 4,
  "nbformat_minor": 0
}