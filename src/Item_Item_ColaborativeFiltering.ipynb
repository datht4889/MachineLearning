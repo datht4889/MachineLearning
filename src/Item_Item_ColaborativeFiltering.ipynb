{
  "cells": [
    {
      "cell_type": "code",
      "execution_count": 30,
      "metadata": {
        "colab": {
          "base_uri": "https://localhost:8080/",
          "height": 0
        },
        "id": "Vw7znm6yfR2f",
        "outputId": "ebff9758-d0fc-438e-ae47-8feb7db8eb69"
      },
      "outputs": [
        {
          "name": "stdout",
          "output_type": "stream",
          "text": [
            "Drive already mounted at /content/drive; to attempt to forcibly remount, call drive.mount(\"/content/drive\", force_remount=True).\n"
          ]
        }
      ],
      "source": [
        "from google.colab import drive\n",
        "drive.mount('/content/drive')"
      ]
    },
    {
      "cell_type": "code",
      "execution_count": 31,
      "metadata": {
        "id": "vUw2-AmIfHBQ"
      },
      "outputs": [],
      "source": [
        "import pandas as pd\n",
        "import numpy as np\n",
        "from sklearn.model_selection import train_test_split\n",
        "from sklearn.metrics import ndcg_score\n",
        "import math\n",
        "import matplotlib.pyplot as plt\n",
        "from importlib import reload"
      ]
    },
    {
      "cell_type": "markdown",
      "metadata": {
        "id": "zSlLha7atkms"
      },
      "source": [
        "# Data processing"
      ]
    },
    {
      "cell_type": "code",
      "execution_count": 32,
      "metadata": {
        "colab": {
          "base_uri": "https://localhost:8080/",
          "height": 0
        },
        "id": "klItCMQHf9Rl",
        "outputId": "66035396-244e-461a-ab48-469378a936f1"
      },
      "outputs": [
        {
          "name": "stderr",
          "output_type": "stream",
          "text": [
            "<ipython-input-32-4c609c110fe4>:1: ParserWarning: Falling back to the 'python' engine because the 'c' engine does not support regex separators (separators > 1 char and different from '\\s+' are interpreted as regex); you can avoid this warning by specifying engine='python'.\n",
            "  users=pd.read_csv(r'/content/drive/MyDrive/Colab/ML/users.dat',sep=\"::\",names=['UserID','Gender','Age','Occupation','Zip-code'])\n",
            "<ipython-input-32-4c609c110fe4>:2: ParserWarning: Falling back to the 'python' engine because the 'c' engine does not support regex separators (separators > 1 char and different from '\\s+' are interpreted as regex); you can avoid this warning by specifying engine='python'.\n",
            "  movies=pd.read_csv(r'/content/drive/MyDrive/Colab/ML/movies.dat',sep=\"::\",names=['MovieID','Title','Genres'])\n",
            "<ipython-input-32-4c609c110fe4>:3: ParserWarning: Falling back to the 'python' engine because the 'c' engine does not support regex separators (separators > 1 char and different from '\\s+' are interpreted as regex); you can avoid this warning by specifying engine='python'.\n",
            "  ratings=pd.read_csv(r'/content/drive/MyDrive/Colab/ML/ratings.dat',sep=\"::\",names=['UserID','MovieID','Rating','Timestamp'])\n"
          ]
        }
      ],
      "source": [
        "users=pd.read_csv(r'/content/drive/MyDrive/Colab/ML/users.dat',sep=\"::\",names=['UserID','Gender','Age','Occupation','Zip-code'])\n",
        "movies=pd.read_csv(r'/content/drive/MyDrive/Colab/ML/movies.dat',sep=\"::\",names=['MovieID','Title','Genres'])\n",
        "ratings=pd.read_csv(r'/content/drive/MyDrive/Colab/ML/ratings.dat',sep=\"::\",names=['UserID','MovieID','Rating','Timestamp'])"
      ]
    },
    {
      "cell_type": "markdown",
      "metadata": {
        "id": "P3XnIluRtv3q"
      },
      "source": [
        "Split train - test set"
      ]
    },
    {
      "cell_type": "code",
      "execution_count": 33,
      "metadata": {
        "colab": {
          "base_uri": "https://localhost:8080/",
          "height": 0
        },
        "id": "rqsCaX7zfHBS",
        "outputId": "7a969d45-cfff-40eb-e5f6-34ba6a837048"
      },
      "outputs": [
        {
          "data": {
            "text/html": [
              "\n",
              "  <div id=\"df-0f6ec5b4-18d5-403d-a685-981c43ca64ed\">\n",
              "    <div class=\"colab-df-container\">\n",
              "      <div>\n",
              "<style scoped>\n",
              "    .dataframe tbody tr th:only-of-type {\n",
              "        vertical-align: middle;\n",
              "    }\n",
              "\n",
              "    .dataframe tbody tr th {\n",
              "        vertical-align: top;\n",
              "    }\n",
              "\n",
              "    .dataframe thead th {\n",
              "        text-align: right;\n",
              "    }\n",
              "</style>\n",
              "<table border=\"1\" class=\"dataframe\">\n",
              "  <thead>\n",
              "    <tr style=\"text-align: right;\">\n",
              "      <th></th>\n",
              "      <th>UserID</th>\n",
              "      <th>MovieID</th>\n",
              "      <th>Rating</th>\n",
              "      <th>Timestamp</th>\n",
              "    </tr>\n",
              "  </thead>\n",
              "  <tbody>\n",
              "    <tr>\n",
              "      <th>674729</th>\n",
              "      <td>4049</td>\n",
              "      <td>1197</td>\n",
              "      <td>5</td>\n",
              "      <td>965497695</td>\n",
              "    </tr>\n",
              "    <tr>\n",
              "      <th>805698</th>\n",
              "      <td>4823</td>\n",
              "      <td>2133</td>\n",
              "      <td>2</td>\n",
              "      <td>963174212</td>\n",
              "    </tr>\n",
              "    <tr>\n",
              "      <th>128726</th>\n",
              "      <td>835</td>\n",
              "      <td>2664</td>\n",
              "      <td>4</td>\n",
              "      <td>975361383</td>\n",
              "    </tr>\n",
              "    <tr>\n",
              "      <th>81823</th>\n",
              "      <td>543</td>\n",
              "      <td>2717</td>\n",
              "      <td>4</td>\n",
              "      <td>976119452</td>\n",
              "    </tr>\n",
              "    <tr>\n",
              "      <th>550272</th>\n",
              "      <td>3391</td>\n",
              "      <td>3145</td>\n",
              "      <td>5</td>\n",
              "      <td>967655785</td>\n",
              "    </tr>\n",
              "  </tbody>\n",
              "</table>\n",
              "</div>\n",
              "      <button class=\"colab-df-convert\" onclick=\"convertToInteractive('df-0f6ec5b4-18d5-403d-a685-981c43ca64ed')\"\n",
              "              title=\"Convert this dataframe to an interactive table.\"\n",
              "              style=\"display:none;\">\n",
              "        \n",
              "  <svg xmlns=\"http://www.w3.org/2000/svg\" height=\"24px\"viewBox=\"0 0 24 24\"\n",
              "       width=\"24px\">\n",
              "    <path d=\"M0 0h24v24H0V0z\" fill=\"none\"/>\n",
              "    <path d=\"M18.56 5.44l.94 2.06.94-2.06 2.06-.94-2.06-.94-.94-2.06-.94 2.06-2.06.94zm-11 1L8.5 8.5l.94-2.06 2.06-.94-2.06-.94L8.5 2.5l-.94 2.06-2.06.94zm10 10l.94 2.06.94-2.06 2.06-.94-2.06-.94-.94-2.06-.94 2.06-2.06.94z\"/><path d=\"M17.41 7.96l-1.37-1.37c-.4-.4-.92-.59-1.43-.59-.52 0-1.04.2-1.43.59L10.3 9.45l-7.72 7.72c-.78.78-.78 2.05 0 2.83L4 21.41c.39.39.9.59 1.41.59.51 0 1.02-.2 1.41-.59l7.78-7.78 2.81-2.81c.8-.78.8-2.07 0-2.86zM5.41 20L4 18.59l7.72-7.72 1.47 1.35L5.41 20z\"/>\n",
              "  </svg>\n",
              "      </button>\n",
              "      \n",
              "  <style>\n",
              "    .colab-df-container {\n",
              "      display:flex;\n",
              "      flex-wrap:wrap;\n",
              "      gap: 12px;\n",
              "    }\n",
              "\n",
              "    .colab-df-convert {\n",
              "      background-color: #E8F0FE;\n",
              "      border: none;\n",
              "      border-radius: 50%;\n",
              "      cursor: pointer;\n",
              "      display: none;\n",
              "      fill: #1967D2;\n",
              "      height: 32px;\n",
              "      padding: 0 0 0 0;\n",
              "      width: 32px;\n",
              "    }\n",
              "\n",
              "    .colab-df-convert:hover {\n",
              "      background-color: #E2EBFA;\n",
              "      box-shadow: 0px 1px 2px rgba(60, 64, 67, 0.3), 0px 1px 3px 1px rgba(60, 64, 67, 0.15);\n",
              "      fill: #174EA6;\n",
              "    }\n",
              "\n",
              "    [theme=dark] .colab-df-convert {\n",
              "      background-color: #3B4455;\n",
              "      fill: #D2E3FC;\n",
              "    }\n",
              "\n",
              "    [theme=dark] .colab-df-convert:hover {\n",
              "      background-color: #434B5C;\n",
              "      box-shadow: 0px 1px 3px 1px rgba(0, 0, 0, 0.15);\n",
              "      filter: drop-shadow(0px 1px 2px rgba(0, 0, 0, 0.3));\n",
              "      fill: #FFFFFF;\n",
              "    }\n",
              "  </style>\n",
              "\n",
              "      <script>\n",
              "        const buttonEl =\n",
              "          document.querySelector('#df-0f6ec5b4-18d5-403d-a685-981c43ca64ed button.colab-df-convert');\n",
              "        buttonEl.style.display =\n",
              "          google.colab.kernel.accessAllowed ? 'block' : 'none';\n",
              "\n",
              "        async function convertToInteractive(key) {\n",
              "          const element = document.querySelector('#df-0f6ec5b4-18d5-403d-a685-981c43ca64ed');\n",
              "          const dataTable =\n",
              "            await google.colab.kernel.invokeFunction('convertToInteractive',\n",
              "                                                     [key], {});\n",
              "          if (!dataTable) return;\n",
              "\n",
              "          const docLinkHtml = 'Like what you see? Visit the ' +\n",
              "            '<a target=\"_blank\" href=https://colab.research.google.com/notebooks/data_table.ipynb>data table notebook</a>'\n",
              "            + ' to learn more about interactive tables.';\n",
              "          element.innerHTML = '';\n",
              "          dataTable['output_type'] = 'display_data';\n",
              "          await google.colab.output.renderOutput(dataTable, element);\n",
              "          const docLink = document.createElement('div');\n",
              "          docLink.innerHTML = docLinkHtml;\n",
              "          element.appendChild(docLink);\n",
              "        }\n",
              "      </script>\n",
              "    </div>\n",
              "  </div>\n",
              "  "
            ],
            "text/plain": [
              "        UserID  MovieID  Rating  Timestamp\n",
              "674729    4049     1197       5  965497695\n",
              "805698    4823     2133       2  963174212\n",
              "128726     835     2664       4  975361383\n",
              "81823      543     2717       4  976119452\n",
              "550272    3391     3145       5  967655785"
            ]
          },
          "execution_count": 33,
          "metadata": {},
          "output_type": "execute_result"
        }
      ],
      "source": [
        "u=len(users)\n",
        "m=max(movies[\"MovieID\"])\n",
        "r_train,r_test=train_test_split(ratings,test_size=0.1,stratify=ratings['UserID'])\n",
        "\n",
        "r_train.head()"
      ]
    },
    {
      "cell_type": "markdown",
      "metadata": {
        "id": "oretUxtUXaYB"
      },
      "source": [
        "# Item-item model\n"
      ]
    },
    {
      "cell_type": "markdown",
      "metadata": {
        "id": "UHPzeTeqtrIn"
      },
      "source": [
        "Utility matrix"
      ]
    },
    {
      "cell_type": "code",
      "execution_count": 34,
      "metadata": {
        "colab": {
          "base_uri": "https://localhost:8080/",
          "height": 0
        },
        "id": "JWbNPQs5fHBS",
        "outputId": "7d57d011-5656-4b09-f7f7-4b873d405452"
      },
      "outputs": [
        {
          "data": {
            "text/plain": [
              "array([[ 5., nan, nan, ..., nan, nan, nan],\n",
              "       [nan, nan, nan, ..., nan, nan, nan],\n",
              "       [nan, nan, nan, ..., nan, nan, nan],\n",
              "       ...,\n",
              "       [nan, nan, nan, ..., nan, nan, nan],\n",
              "       [nan, nan, nan, ..., nan, nan, nan],\n",
              "       [nan, nan, nan, ..., nan, nan, nan]])"
            ]
          },
          "execution_count": 34,
          "metadata": {},
          "output_type": "execute_result"
        }
      ],
      "source": [
        "user_item=np.full((m,u),np.nan)\n",
        "for r in r_train.itertuples():\n",
        "    user_item[r[2]-1][r[1]-1]=r[3]\n",
        "\n",
        "user_item_test=np.full((m,u),np.nan)\n",
        "for r in r_test.itertuples():\n",
        "    user_item_test[r[2]-1][r[1]-1]=r[3]\n",
        "user_item"
      ]
    },
    {
      "cell_type": "markdown",
      "metadata": {
        "id": "Ms7kreXMt4Gs"
      },
      "source": [
        "Similarity matrix"
      ]
    },
    {
      "cell_type": "code",
      "execution_count": 35,
      "metadata": {
        "colab": {
          "base_uri": "https://localhost:8080/",
          "height": 0
        },
        "id": "7pPemz-HfHBT",
        "outputId": "eeacd4a3-3879-4e78-ee33-619d7819d4e9"
      },
      "outputs": [
        {
          "name": "stderr",
          "output_type": "stream",
          "text": [
            "<ipython-input-35-66939538ae68>:1: RuntimeWarning: Mean of empty slice\n",
            "  mean=np.nanmean(user_item,axis=1)\n"
          ]
        }
      ],
      "source": [
        "mean=np.nanmean(user_item,axis=1)\n",
        "mean_user=np.nanmean(user_item,axis=0)\n",
        "for i in range(m):\n",
        "    user_item[i]=user_item[i]-mean[i]\n",
        "    user_item_test[i] = user_item_test[i] - mean[i]\n",
        "\n",
        "nan_cell=np.argwhere(np.isnan(user_item))\n",
        "\n",
        "user_item=np.nan_to_num(user_item)"
      ]
    },
    {
      "cell_type": "code",
      "execution_count": 36,
      "metadata": {
        "id": "EWI9CLLnfHBT"
      },
      "outputs": [],
      "source": [
        "nan_list=[[] for i in range(u)]\n",
        "for cell in nan_cell:\n",
        "    nan_list[cell[1]].append(cell[0])"
      ]
    },
    {
      "cell_type": "code",
      "execution_count": 37,
      "metadata": {
        "id": "HyOOelXkfHBT"
      },
      "outputs": [],
      "source": [
        "def similarity(x,y):\n",
        "    if np.dot(x,y)==0:\n",
        "        return 0\n",
        "    return np.dot(x,y)/math.sqrt(np.sum(x**2)*np.sum(y**2))"
      ]
    },
    {
      "cell_type": "code",
      "execution_count": 38,
      "metadata": {
        "colab": {
          "base_uri": "https://localhost:8080/",
          "height": 0
        },
        "id": "dU-j67PkfHBT",
        "outputId": "ddc8516d-4c6c-4311-b355-d7c63c3627c0"
      },
      "outputs": [
        {
          "data": {
            "text/plain": [
              "array([[ 1.        ,  0.09061235,  0.04300958, ...,  0.02531027,\n",
              "         0.01195811,  0.03576232],\n",
              "       [ 0.09061235,  1.        ,  0.03865755, ..., -0.01682697,\n",
              "        -0.00796852,  0.00314799],\n",
              "       [ 0.04300958,  0.03865755,  1.        , ...,  0.02360488,\n",
              "         0.01931653,  0.02860138],\n",
              "       ...,\n",
              "       [ 0.02531027, -0.01682697,  0.02360488, ...,  1.        ,\n",
              "         0.04836442,  0.03805426],\n",
              "       [ 0.01195811, -0.00796852,  0.01931653, ...,  0.04836442,\n",
              "         1.        ,  0.11376878],\n",
              "       [ 0.03576232,  0.00314799,  0.02860138, ...,  0.03805426,\n",
              "         0.11376878,  1.        ]])"
            ]
          },
          "execution_count": 38,
          "metadata": {},
          "output_type": "execute_result"
        }
      ],
      "source": [
        "similarity_matrix=np.full((m,m),np.nan)\n",
        "for movie_1 in range(m):\n",
        "    for movie_2 in range(movie_1+1):\n",
        "        res=similarity(user_item[movie_1],user_item[movie_2])\n",
        "        similarity_matrix[movie_1][movie_2]=res\n",
        "        similarity_matrix[movie_2][movie_1]=res\n",
        "\n",
        "similarity_matrix"
      ]
    },
    {
      "cell_type": "markdown",
      "metadata": {
        "id": "OJ-YuFhKt6ni"
      },
      "source": [
        "Prediction"
      ]
    },
    {
      "cell_type": "code",
      "execution_count": 39,
      "metadata": {
        "id": "oXuE_WjvYHwE"
      },
      "outputs": [],
      "source": [
        "similarity_matrix=np.nan_to_num(similarity_matrix)\n",
        "mean=np.nan_to_num(mean)"
      ]
    },
    {
      "cell_type": "code",
      "execution_count": 40,
      "metadata": {
        "id": "axWpCZnbfHBU"
      },
      "outputs": [],
      "source": [
        "def predict(user,movie,k):\n",
        "    copy=np.array(similarity_matrix[movie])\n",
        "\n",
        "    np.delete(copy,nan_list[user])\n",
        "    neighbor=(-copy).argsort()[1:k+1]\n",
        "    similar=copy[neighbor]\n",
        "    rate=user_item.T[user][neighbor]\n",
        "    if np.sum(similar)!=0:\n",
        "        return (rate@similar)/np.sum(np.abs(similar))\n",
        "    return 0"
      ]
    },
    {
      "cell_type": "code",
      "execution_count": 41,
      "metadata": {
        "id": "TdwcYR0SmmVT"
      },
      "outputs": [],
      "source": [
        "def predict_matrix(k):\n",
        "    matrix=user_item.copy()\n",
        "    for r in r_test.itertuples():\n",
        "        pred=predict(r[1]-1,r[2]-1,k)\n",
        "        # matrix[r[2]-1][r[1]-1]=pred+mean[r[2]-1]\n",
        "        matrix[r[2]-1][r[1]-1]=pred\n",
        "    return matrix"
      ]
    },
    {
      "cell_type": "markdown",
      "metadata": {
        "id": "8aJAZDkfXV6_"
      },
      "source": [
        "# Evaluation"
      ]
    },
    {
      "cell_type": "markdown",
      "metadata": {
        "id": "uFksC-ChK2cK"
      },
      "source": [
        "# Metric function"
      ]
    },
    {
      "cell_type": "code",
      "execution_count": 42,
      "metadata": {
        "id": "Th92o58TeysP"
      },
      "outputs": [],
      "source": [
        "def RMSE(pred, test):\n",
        "    pred=pred.T\n",
        "    test=test.T\n",
        "    rmse=0\n",
        "    mae=0\n",
        "    for user in range(u):\n",
        "        e=pred[user]-test[user]\n",
        "        rmse+=np.nanmean(np.square(e))\n",
        "        mae+=np.nanmean(np.abs(e))\n",
        "    return (rmse/u, mae/u)"
      ]
    },
    {
      "cell_type": "code",
      "execution_count": 43,
      "metadata": {
        "id": "qZ8L3YNh1MCy"
      },
      "outputs": [],
      "source": [
        "def PrecisionAtK(Y,K):\n",
        "    X=user_item_test.T.copy()\n",
        "    Y=Y.T\n",
        "    rcm_movie_test = np.argsort(-(X))\n",
        "    rcm_movie = np.argsort(-Y)\n",
        "    precisionK=[]\n",
        "    recallK=[]\n",
        "    f1K=[]\n",
        "    mapK=[]\n",
        "    marK=[]\n",
        "    for user in range(u):\n",
        "        rcm = rcm_movie[user]\n",
        "        rcm = rcm[np.argwhere(Y[user][rcm] > 0)]\n",
        "        rcm_test = rcm_movie_test[user][np.in1d(rcm_movie_test[user], np.argwhere(~np.isnan(X[user])))]\n",
        "        rcm = np.intersect1d(rcm, rcm_test)\n",
        "        rcm_test = rcm_test[np.argwhere(X[user][rcm_test] > 0)]\n",
        "        rcm = rcm[:K]\n",
        "\n",
        "        precision=np.in1d(rcm,rcm_test)\n",
        "        recall=np.in1d(rcm_test,rcm)\n",
        "\n",
        "        map=[]\n",
        "        for k in range(len(rcm)):\n",
        "            p = np.mean(precision[:k+1])*precision[k]\n",
        "            if p>0:\n",
        "                map.append(p)\n",
        "\n",
        "        mar=[]\n",
        "        for k in range(len(rcm_test)):\n",
        "            r = np.mean(recall[:k+1])*recall[k]\n",
        "            if r>0:\n",
        "                mar.append(r)\n",
        "\n",
        "        precision=np.mean(precision)\n",
        "        recall=np.mean(recall)\n",
        "        f1=0\n",
        "        if precision + recall != 0:\n",
        "            f1 = 2*precision*recall/(precision+recall)\n",
        "        precisionK.append(precision)\n",
        "        recallK.append(recall)\n",
        "        f1K.append(f1)\n",
        "        mapK.append(np.mean(map))\n",
        "        marK.append(np.mean(mar))\n",
        "\n",
        "    precisionK=np.nan_to_num(precisionK)\n",
        "    recallK=np.nan_to_num(recallK)\n",
        "    f1K=np.nan_to_num(f1K)\n",
        "    mapK=np.nan_to_num(mapK)\n",
        "    marK=np.nan_to_num(marK)\n",
        "\n",
        "    return (np.mean(precisionK), np.mean(recallK), np.mean(f1K), np.mean(mapK), np.mean(marK))"
      ]
    },
    {
      "cell_type": "code",
      "execution_count": 44,
      "metadata": {
        "id": "fk69m0hSzNxy"
      },
      "outputs": [],
      "source": [
        "def NDCG(Y,K):\n",
        "    X=user_item_test.copy()\n",
        "    for i in range(m):\n",
        "        X[i] += mean[i]\n",
        "    X=X.T\n",
        "    Y=Y.T\n",
        "    rcm_movie_test = np.argsort(-(X))\n",
        "    rcm_movie = np.argsort(-Y)\n",
        "    ndcg=[]\n",
        "    for user in range(u):\n",
        "        dcg=0\n",
        "        idcg=0\n",
        "        rcm_test = rcm_movie_test[user][np.in1d(rcm_movie_test[user], np.argwhere(~np.isnan(X[user])))]\n",
        "        rcm = rcm_movie[user][np.in1d(rcm_movie[user], rcm_test)]\n",
        "        for i in range(len(rcm[:K])):\n",
        "            dcg += (2**X[user][rcm[i]]-1)/math.log(i+2, 2)\n",
        "            idcg += (2**X[user][rcm_test[i]]-1)/math.log(i+2, 2)\n",
        "        ndcg.append(dcg/idcg)\n",
        "    return np.mean(ndcg)"
      ]
    },
    {
      "cell_type": "markdown",
      "metadata": {
        "id": "_dvFg-wmKy0E"
      },
      "source": [
        "# Test for number of neighbor"
      ]
    },
    {
      "cell_type": "code",
      "execution_count": 54,
      "metadata": {
        "id": "4IS4_JMiuALW"
      },
      "outputs": [],
      "source": [
        "rmse = []\n",
        "mae = []\n",
        "precision = []\n",
        "recall = []\n",
        "f1 = []\n",
        "\n",
        "iteration_list = [5,15,30,50,100]\n",
        "\n",
        "for k in iteration_list:\n",
        "    user_item = predict_matrix(k)\n",
        "    e=RMSE(user_item, user_item_test)\n",
        "    rmse.append(e[0])\n",
        "    mae.append(e[1])\n",
        "\n",
        "    metric=PrecisionAtK(user_item, 10000)\n",
        "    precision.append(metric[0])\n",
        "    recall.append(metric[1])\n",
        "    f1.append(metric[2])"
      ]
    },
    {
      "cell_type": "code",
      "execution_count": 73,
      "metadata": {
        "colab": {
          "base_uri": "https://localhost:8080/",
          "height": 509
        },
        "id": "SA88winyiLiu",
        "outputId": "50935512-034a-412e-ba96-5f24e4537cc9"
      },
      "outputs": [
        {
          "name": "stdout",
          "output_type": "stream",
          "text": [
            "RMSE:  [0.8876055285289779, 0.8869562822370012, 0.8980236660928967, 0.9072748462224666, 0.918771529735926]\n",
            "MAE:  [0.7443368756297427, 0.7469465055724787, 0.7529172558314865, 0.7573970067736312, 0.7629346195087682]\n"
          ]
        },
        {
          "data": {
            "image/png": "[encoded data removed]",
            "text/plain": [
              "<Figure size 640x480 with 1 Axes>"
            ]
          },
          "metadata": {},
          "output_type": "display_data"
        }
      ],
      "source": [
        "print(\"RMSE: \",rmse)\n",
        "print(\"MAE: \",mae)\n",
        "plt=reload(plt)\n",
        "plt.plot(iteration_list, rmse, label='RMSE')\n",
        "# plt.plot(iteration_list, mae, label='MAE')\n",
        "plt.xlabel('Neighbor')\n",
        "plt.title('RMSE')\n",
        "plt.legend()\n",
        "plt.show()"
      ]
    },
    {
      "cell_type": "code",
      "execution_count": 59,
      "metadata": {
        "colab": {
          "base_uri": "https://localhost:8080/",
          "height": 490
        },
        "id": "Drf_tMtBkSi-",
        "outputId": "d46d0d8b-89ff-4042-9337-c3b6227cb0d3"
      },
      "outputs": [
        {
          "name": "stdout",
          "output_type": "stream",
          "text": [
            "Precision:  [0.5544676277583301, 0.5762911443212794, 0.5893945424159448, 0.592994201930213, 0.5904872119712036]\n"
          ]
        },
        {
          "data": {
            "image/png": "[encoded data removed]",
            "text/plain": [
              "<Figure size 640x480 with 1 Axes>"
            ]
          },
          "metadata": {},
          "output_type": "display_data"
        }
      ],
      "source": [
        "print(\"Precision: \",precision)\n",
        "plt=reload(plt)\n",
        "plt.plot(iteration_list, precision,label='Precision')\n",
        "plt.plot(iteration_list, recall, label='Recall')\n",
        "plt.plot(iteration_list, f1, label='F1')\n",
        "plt.xlabel('Neighbor')\n",
        "plt.title('Precision, Recall, and F1')\n",
        "plt.legend()\n",
        "plt.show()"
      ]
    },
    {
      "cell_type": "markdown",
      "metadata": {
        "id": "49IINj98u6Lx"
      },
      "source": [
        "# Test for number of movie recommend"
      ]
    },
    {
      "cell_type": "code",
      "execution_count": 76,
      "metadata": {
        "id": "vwCliXp3xDD8"
      },
      "outputs": [],
      "source": [
        "precision = []\n",
        "recall = []\n",
        "f1 = []\n",
        "ndcg = []\n",
        "map=[]\n",
        "mar=[]\n",
        "num_movie = [5,15,30,50,100]\n",
        "user_item = predict_matrix(30)\n",
        "for k in num_movie:\n",
        "    e=RMSE(user_item, user_item_test)\n",
        "    rmse.append(e[0])\n",
        "    mae.append(e[1])\n",
        "\n",
        "    metric=PrecisionAtK(user_item, k)\n",
        "    precision.append(metric[0])\n",
        "    recall.append(metric[1])\n",
        "    f1.append(metric[2])\n",
        "    map.append(metric[3])\n",
        "    mar.append(metric[4])\n",
        "\n",
        "    ndcg.append(NDCG(user_item, k))"
      ]
    },
    {
      "cell_type": "code",
      "execution_count": 77,
      "metadata": {
        "colab": {
          "base_uri": "https://localhost:8080/",
          "height": 490
        },
        "id": "ibJOouyaxIs7",
        "outputId": "6a1f7309-56d3-4788-d822-398750571e34"
      },
      "outputs": [
        {
          "name": "stdout",
          "output_type": "stream",
          "text": [
            "Precision:  [0.5920309050772627, 0.5897603670244399, 0.589672267488396, 0.5896945852096453, 0.589666724427002]\n"
          ]
        },
        {
          "data": {
            "image/png": "[encoded data removed]",
            "text/plain": [
              "<Figure size 640x480 with 1 Axes>"
            ]
          },
          "metadata": {},
          "output_type": "display_data"
        }
      ],
      "source": [
        "print(\"Precision: \",precision)\n",
        "plt=reload(plt)\n",
        "plt.plot(num_movie, precision,label='Precision')\n",
        "plt.plot(num_movie, recall, label='Recall')\n",
        "plt.plot(num_movie, f1, label='F1')\n",
        "plt.xlabel('Neighbor')\n",
        "plt.title('Precision, Recall, and F1')\n",
        "plt.legend()\n",
        "plt.show()"
      ]
    },
    {
      "cell_type": "code",
      "execution_count": 80,
      "metadata": {
        "colab": {
          "base_uri": "https://localhost:8080/",
          "height": 527
        },
        "id": "QvnyzPw9kUA1",
        "outputId": "9a2478f1-2e09-4119-8c04-7a2bfd4ccbac"
      },
      "outputs": [
        {
          "name": "stdout",
          "output_type": "stream",
          "text": [
            "MAP:  [0.6736083517292126, 0.6588150958204761, 0.656768532619689, 0.6564526953458736, 0.6564245308766211]\n",
            "MAR:  [0.48764708127756123, 0.5994044298398383, 0.6341839149611478, 0.6437861038814879, 0.6468968594220602]\n",
            "NDCG:  [0.7783385081833099, 0.8414434759465618, 0.8686009189795677, 0.8795240119063737, 0.884273760797651]\n"
          ]
        },
        {
          "data": {
            "image/png": "[encoded data removed]",
            "text/plain": [
              "<Figure size 640x480 with 1 Axes>"
            ]
          },
          "metadata": {},
          "output_type": "display_data"
        }
      ],
      "source": [
        "print(\"MAP: \",map)\n",
        "print('MAR: ',mar)\n",
        "print('NDCG: ', ndcg)\n",
        "plt=reload(plt)\n",
        "plt.plot(num_movie, map, label='MAP')\n",
        "plt.plot(num_movie, mar, label ='MAR')\n",
        "plt.plot(num_movie, ndcg, label ='NDCG')\n",
        "plt.xlabel('Neighbor')\n",
        "plt.title('MAP, MAR, and NDCG')\n",
        "plt.legend()\n",
        "plt.show()"
      ]
    },
    {
      "cell_type": "code",
      "execution_count": null,
      "metadata": {
        "id": "58DkwLCHKtHj"
      },
      "outputs": [],
      "source": []
    }
  ],
  "metadata": {
    "colab": {
      "provenance": []
    },
    "kernelspec": {
      "display_name": "Python 3",
      "language": "python",
      "name": "python3"
    },
    "language_info": {
      "codemirror_mode": {
        "name": "ipython",
        "version": 3
      },
      "file_extension": ".py",
      "mimetype": "text/x-python",
      "name": "python",
      "nbconvert_exporter": "python",
      "pygments_lexer": "ipython3",
      "version": "3.9.6"
    }
  },
  "nbformat": 4,
  "nbformat_minor": 0
}
