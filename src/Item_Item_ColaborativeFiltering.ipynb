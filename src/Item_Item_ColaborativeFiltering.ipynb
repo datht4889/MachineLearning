{
  "cells": [
    {
      "cell_type": "code",
      "execution_count": 1,
      "metadata": {
        "colab": {
          "base_uri": "https://localhost:8080/"
        },
        "id": "Vw7znm6yfR2f",
        "outputId": "0dae319a-df7a-4fbf-c34f-da159f897ab9"
      },
      "outputs": [
        {
          "output_type": "stream",
          "name": "stdout",
          "text": [
            "Mounted at /content/drive\n"
          ]
        }
      ],
      "source": [
        "from google.colab import drive\n",
        "drive.mount('/content/drive')"
      ]
    },
    {
      "cell_type": "code",
      "execution_count": 2,
      "metadata": {
        "id": "vUw2-AmIfHBQ"
      },
      "outputs": [],
      "source": [
        "import pandas as pd\n",
        "import numpy as np\n",
        "from sklearn.model_selection import train_test_split\n",
        "from sklearn.metrics import ndcg_score\n",
        "import math\n",
        "import matplotlib.pyplot as plt\n",
        "from importlib import reload"
      ]
    },
    {
      "cell_type": "markdown",
      "metadata": {
        "id": "zSlLha7atkms"
      },
      "source": [
        "# Data processing"
      ]
    },
    {
      "cell_type": "code",
      "execution_count": 3,
      "metadata": {
        "colab": {
          "base_uri": "https://localhost:8080/"
        },
        "id": "klItCMQHf9Rl",
        "outputId": "10353e1a-9cd8-448e-df76-e7dc719bbea8"
      },
      "outputs": [
        {
          "output_type": "stream",
          "name": "stderr",
          "text": [
            "<ipython-input-3-4c609c110fe4>:1: ParserWarning: Falling back to the 'python' engine because the 'c' engine does not support regex separators (separators > 1 char and different from '\\s+' are interpreted as regex); you can avoid this warning by specifying engine='python'.\n",
            "  users=pd.read_csv(r'/content/drive/MyDrive/Colab/ML/users.dat',sep=\"::\",names=['UserID','Gender','Age','Occupation','Zip-code'])\n",
            "<ipython-input-3-4c609c110fe4>:2: ParserWarning: Falling back to the 'python' engine because the 'c' engine does not support regex separators (separators > 1 char and different from '\\s+' are interpreted as regex); you can avoid this warning by specifying engine='python'.\n",
            "  movies=pd.read_csv(r'/content/drive/MyDrive/Colab/ML/movies.dat',sep=\"::\",names=['MovieID','Title','Genres'])\n",
            "<ipython-input-3-4c609c110fe4>:3: ParserWarning: Falling back to the 'python' engine because the 'c' engine does not support regex separators (separators > 1 char and different from '\\s+' are interpreted as regex); you can avoid this warning by specifying engine='python'.\n",
            "  ratings=pd.read_csv(r'/content/drive/MyDrive/Colab/ML/ratings.dat',sep=\"::\",names=['UserID','MovieID','Rating','Timestamp'])\n"
          ]
        }
      ],
      "source": [
        "users=pd.read_csv(r'/content/drive/MyDrive/Colab/ML/users.dat',sep=\"::\",names=['UserID','Gender','Age','Occupation','Zip-code'])\n",
        "movies=pd.read_csv(r'/content/drive/MyDrive/Colab/ML/movies.dat',sep=\"::\",names=['MovieID','Title','Genres'])\n",
        "ratings=pd.read_csv(r'/content/drive/MyDrive/Colab/ML/ratings.dat',sep=\"::\",names=['UserID','MovieID','Rating','Timestamp'])"
      ]
    },
    {
      "cell_type": "markdown",
      "metadata": {
        "id": "P3XnIluRtv3q"
      },
      "source": [
        "Split train - test set"
      ]
    },
    {
      "cell_type": "code",
      "execution_count": 4,
      "metadata": {
        "colab": {
          "base_uri": "https://localhost:8080/",
          "height": 0
        },
        "id": "rqsCaX7zfHBS",
        "outputId": "fac48b2c-0f80-4e72-dd04-eb39101bca7e"
      },
      "outputs": [
        {
          "output_type": "execute_result",
          "data": {
            "text/plain": [
              "        UserID  MovieID  Rating  Timestamp\n",
              "198969    1222     3623       3  975027657\n",
              "15086      120     3104       4  977459236\n",
              "895635    5413     3052       4  960239051\n",
              "979091    5906      919       5  957388452\n",
              "228924    1387      615       5  974766935"
            ],
            "text/html": [
              "\n",
              "  <div id=\"df-495c7fc2-d807-4cac-a670-2ed13f38a4c0\">\n",
              "    <div class=\"colab-df-container\">\n",
              "      <div>\n",
              "<style scoped>\n",
              "    .dataframe tbody tr th:only-of-type {\n",
              "        vertical-align: middle;\n",
              "    }\n",
              "\n",
              "    .dataframe tbody tr th {\n",
              "        vertical-align: top;\n",
              "    }\n",
              "\n",
              "    .dataframe thead th {\n",
              "        text-align: right;\n",
              "    }\n",
              "</style>\n",
              "<table border=\"1\" class=\"dataframe\">\n",
              "  <thead>\n",
              "    <tr style=\"text-align: right;\">\n",
              "      <th></th>\n",
              "      <th>UserID</th>\n",
              "      <th>MovieID</th>\n",
              "      <th>Rating</th>\n",
              "      <th>Timestamp</th>\n",
              "    </tr>\n",
              "  </thead>\n",
              "  <tbody>\n",
              "    <tr>\n",
              "      <th>198969</th>\n",
              "      <td>1222</td>\n",
              "      <td>3623</td>\n",
              "      <td>3</td>\n",
              "      <td>975027657</td>\n",
              "    </tr>\n",
              "    <tr>\n",
              "      <th>15086</th>\n",
              "      <td>120</td>\n",
              "      <td>3104</td>\n",
              "      <td>4</td>\n",
              "      <td>977459236</td>\n",
              "    </tr>\n",
              "    <tr>\n",
              "      <th>895635</th>\n",
              "      <td>5413</td>\n",
              "      <td>3052</td>\n",
              "      <td>4</td>\n",
              "      <td>960239051</td>\n",
              "    </tr>\n",
              "    <tr>\n",
              "      <th>979091</th>\n",
              "      <td>5906</td>\n",
              "      <td>919</td>\n",
              "      <td>5</td>\n",
              "      <td>957388452</td>\n",
              "    </tr>\n",
              "    <tr>\n",
              "      <th>228924</th>\n",
              "      <td>1387</td>\n",
              "      <td>615</td>\n",
              "      <td>5</td>\n",
              "      <td>974766935</td>\n",
              "    </tr>\n",
              "  </tbody>\n",
              "</table>\n",
              "</div>\n",
              "      <button class=\"colab-df-convert\" onclick=\"convertToInteractive('df-495c7fc2-d807-4cac-a670-2ed13f38a4c0')\"\n",
              "              title=\"Convert this dataframe to an interactive table.\"\n",
              "              style=\"display:none;\">\n",
              "        \n",
              "  <svg xmlns=\"http://www.w3.org/2000/svg\" height=\"24px\"viewBox=\"0 0 24 24\"\n",
              "       width=\"24px\">\n",
              "    <path d=\"M0 0h24v24H0V0z\" fill=\"none\"/>\n",
              "    <path d=\"M18.56 5.44l.94 2.06.94-2.06 2.06-.94-2.06-.94-.94-2.06-.94 2.06-2.06.94zm-11 1L8.5 8.5l.94-2.06 2.06-.94-2.06-.94L8.5 2.5l-.94 2.06-2.06.94zm10 10l.94 2.06.94-2.06 2.06-.94-2.06-.94-.94-2.06-.94 2.06-2.06.94z\"/><path d=\"M17.41 7.96l-1.37-1.37c-.4-.4-.92-.59-1.43-.59-.52 0-1.04.2-1.43.59L10.3 9.45l-7.72 7.72c-.78.78-.78 2.05 0 2.83L4 21.41c.39.39.9.59 1.41.59.51 0 1.02-.2 1.41-.59l7.78-7.78 2.81-2.81c.8-.78.8-2.07 0-2.86zM5.41 20L4 18.59l7.72-7.72 1.47 1.35L5.41 20z\"/>\n",
              "  </svg>\n",
              "      </button>\n",
              "      \n",
              "  <style>\n",
              "    .colab-df-container {\n",
              "      display:flex;\n",
              "      flex-wrap:wrap;\n",
              "      gap: 12px;\n",
              "    }\n",
              "\n",
              "    .colab-df-convert {\n",
              "      background-color: #E8F0FE;\n",
              "      border: none;\n",
              "      border-radius: 50%;\n",
              "      cursor: pointer;\n",
              "      display: none;\n",
              "      fill: #1967D2;\n",
              "      height: 32px;\n",
              "      padding: 0 0 0 0;\n",
              "      width: 32px;\n",
              "    }\n",
              "\n",
              "    .colab-df-convert:hover {\n",
              "      background-color: #E2EBFA;\n",
              "      box-shadow: 0px 1px 2px rgba(60, 64, 67, 0.3), 0px 1px 3px 1px rgba(60, 64, 67, 0.15);\n",
              "      fill: #174EA6;\n",
              "    }\n",
              "\n",
              "    [theme=dark] .colab-df-convert {\n",
              "      background-color: #3B4455;\n",
              "      fill: #D2E3FC;\n",
              "    }\n",
              "\n",
              "    [theme=dark] .colab-df-convert:hover {\n",
              "      background-color: #434B5C;\n",
              "      box-shadow: 0px 1px 3px 1px rgba(0, 0, 0, 0.15);\n",
              "      filter: drop-shadow(0px 1px 2px rgba(0, 0, 0, 0.3));\n",
              "      fill: #FFFFFF;\n",
              "    }\n",
              "  </style>\n",
              "\n",
              "      <script>\n",
              "        const buttonEl =\n",
              "          document.querySelector('#df-495c7fc2-d807-4cac-a670-2ed13f38a4c0 button.colab-df-convert');\n",
              "        buttonEl.style.display =\n",
              "          google.colab.kernel.accessAllowed ? 'block' : 'none';\n",
              "\n",
              "        async function convertToInteractive(key) {\n",
              "          const element = document.querySelector('#df-495c7fc2-d807-4cac-a670-2ed13f38a4c0');\n",
              "          const dataTable =\n",
              "            await google.colab.kernel.invokeFunction('convertToInteractive',\n",
              "                                                     [key], {});\n",
              "          if (!dataTable) return;\n",
              "\n",
              "          const docLinkHtml = 'Like what you see? Visit the ' +\n",
              "            '<a target=\"_blank\" href=https://colab.research.google.com/notebooks/data_table.ipynb>data table notebook</a>'\n",
              "            + ' to learn more about interactive tables.';\n",
              "          element.innerHTML = '';\n",
              "          dataTable['output_type'] = 'display_data';\n",
              "          await google.colab.output.renderOutput(dataTable, element);\n",
              "          const docLink = document.createElement('div');\n",
              "          docLink.innerHTML = docLinkHtml;\n",
              "          element.appendChild(docLink);\n",
              "        }\n",
              "      </script>\n",
              "    </div>\n",
              "  </div>\n",
              "  "
            ]
          },
          "metadata": {},
          "execution_count": 4
        }
      ],
      "source": [
        "u=len(users)\n",
        "m=max(movies[\"MovieID\"])\n",
        "r_train,r_test=train_test_split(ratings,test_size=0.1,stratify=ratings['UserID'])\n",
        "\n",
        "r_train.head()"
      ]
    },
    {
      "cell_type": "markdown",
      "metadata": {
        "id": "oretUxtUXaYB"
      },
      "source": [
        "# Item-item model\n"
      ]
    },
    {
      "cell_type": "markdown",
      "metadata": {
        "id": "UHPzeTeqtrIn"
      },
      "source": [
        "Utility matrix"
      ]
    },
    {
      "cell_type": "code",
      "execution_count": 5,
      "metadata": {
        "colab": {
          "base_uri": "https://localhost:8080/"
        },
        "id": "JWbNPQs5fHBS",
        "outputId": "f679c05c-cf44-41d5-fef5-95ca395cb1e1"
      },
      "outputs": [
        {
          "output_type": "execute_result",
          "data": {
            "text/plain": [
              "array([[nan, nan, nan, ..., nan, nan,  3.],\n",
              "       [nan, nan, nan, ..., nan, nan, nan],\n",
              "       [nan, nan, nan, ..., nan, nan, nan],\n",
              "       ...,\n",
              "       [nan, nan, nan, ..., nan, nan, nan],\n",
              "       [nan, nan, nan, ..., nan, nan, nan],\n",
              "       [nan, nan, nan, ..., nan, nan, nan]])"
            ]
          },
          "metadata": {},
          "execution_count": 5
        }
      ],
      "source": [
        "user_item=np.full((m,u),np.nan)\n",
        "for r in r_train.itertuples():\n",
        "    user_item[r[2]-1][r[1]-1]=r[3]\n",
        "\n",
        "user_item_test=np.full((m,u),np.nan)\n",
        "for r in r_test.itertuples():\n",
        "    user_item_test[r[2]-1][r[1]-1]=r[3]\n",
        "user_item"
      ]
    },
    {
      "cell_type": "markdown",
      "metadata": {
        "id": "Ms7kreXMt4Gs"
      },
      "source": [
        "Similarity matrix"
      ]
    },
    {
      "cell_type": "code",
      "execution_count": 6,
      "metadata": {
        "colab": {
          "base_uri": "https://localhost:8080/"
        },
        "id": "7pPemz-HfHBT",
        "outputId": "6db8e2c0-b467-4b6a-c415-8e2f91206d91"
      },
      "outputs": [
        {
          "output_type": "stream",
          "name": "stderr",
          "text": [
            "<ipython-input-6-66939538ae68>:1: RuntimeWarning: Mean of empty slice\n",
            "  mean=np.nanmean(user_item,axis=1)\n"
          ]
        }
      ],
      "source": [
        "mean=np.nanmean(user_item,axis=1)\n",
        "mean_user=np.nanmean(user_item,axis=0)\n",
        "for i in range(m):\n",
        "    user_item[i]=user_item[i]-mean[i]\n",
        "    user_item_test[i] = user_item_test[i] - mean[i]\n",
        "\n",
        "nan_cell=np.argwhere(np.isnan(user_item))\n",
        "\n",
        "user_item=np.nan_to_num(user_item)"
      ]
    },
    {
      "cell_type": "code",
      "execution_count": 7,
      "metadata": {
        "id": "EWI9CLLnfHBT"
      },
      "outputs": [],
      "source": [
        "nan_list=[[] for i in range(u)]\n",
        "for cell in nan_cell:\n",
        "    nan_list[cell[1]].append(cell[0])"
      ]
    },
    {
      "cell_type": "code",
      "execution_count": 8,
      "metadata": {
        "id": "HyOOelXkfHBT"
      },
      "outputs": [],
      "source": [
        "def similarity(x,y):\n",
        "    if np.dot(x,y)==0:\n",
        "        return 0\n",
        "    return np.dot(x,y)/math.sqrt(np.sum(x**2)*np.sum(y**2))"
      ]
    },
    {
      "cell_type": "code",
      "execution_count": 9,
      "metadata": {
        "colab": {
          "base_uri": "https://localhost:8080/"
        },
        "id": "dU-j67PkfHBT",
        "outputId": "3975eb15-601f-439e-d279-d115b5e0803f"
      },
      "outputs": [
        {
          "output_type": "execute_result",
          "data": {
            "text/plain": [
              "array([[ 1.        ,  0.07967814,  0.03482414, ...,  0.01634473,\n",
              "         0.01264318,  0.02556159],\n",
              "       [ 0.07967814,  1.        ,  0.02694429, ..., -0.00249238,\n",
              "        -0.00739782, -0.00694705],\n",
              "       [ 0.03482414,  0.02694429,  1.        , ...,  0.02927363,\n",
              "         0.        , -0.00558214],\n",
              "       ...,\n",
              "       [ 0.01634473, -0.00249238,  0.02927363, ...,  1.        ,\n",
              "         0.04759488,  0.06852242],\n",
              "       [ 0.01264318, -0.00739782,  0.        , ...,  0.04759488,\n",
              "         1.        ,  0.063823  ],\n",
              "       [ 0.02556159, -0.00694705, -0.00558214, ...,  0.06852242,\n",
              "         0.063823  ,  1.        ]])"
            ]
          },
          "metadata": {},
          "execution_count": 9
        }
      ],
      "source": [
        "similarity_matrix=np.full((m,m),np.nan)\n",
        "for movie_1 in range(m):\n",
        "    for movie_2 in range(movie_1+1):\n",
        "        res=similarity(user_item[movie_1],user_item[movie_2])\n",
        "        similarity_matrix[movie_1][movie_2]=res\n",
        "        similarity_matrix[movie_2][movie_1]=res\n",
        "\n",
        "similarity_matrix"
      ]
    },
    {
      "cell_type": "markdown",
      "metadata": {
        "id": "OJ-YuFhKt6ni"
      },
      "source": [
        "Prediction"
      ]
    },
    {
      "cell_type": "code",
      "source": [
        "similarity_matrix=np.nan_to_num(similarity_matrix)\n",
        "mean=np.nan_to_num(mean)"
      ],
      "metadata": {
        "id": "oXuE_WjvYHwE"
      },
      "execution_count": 10,
      "outputs": []
    },
    {
      "cell_type": "code",
      "execution_count": 11,
      "metadata": {
        "id": "axWpCZnbfHBU"
      },
      "outputs": [],
      "source": [
        "def predict(user,movie,k):\n",
        "    copy=np.array(similarity_matrix[movie])\n",
        "\n",
        "    np.delete(copy,nan_list[user])\n",
        "    neighbor=(-copy).argsort()[1:k+1]\n",
        "    similar=copy[neighbor]\n",
        "    rate=user_item.T[user][neighbor]\n",
        "    if np.sum(similar)!=0:\n",
        "        return (rate@similar)/np.sum(np.abs(similar))\n",
        "    return 0"
      ]
    },
    {
      "cell_type": "code",
      "source": [
        "def predict_matrix(k):\n",
        "    matrix=user_item.copy()\n",
        "    for r in r_test.itertuples():\n",
        "        pred=predict(r[1]-1,r[2]-1,k)\n",
        "        # matrix[r[2]-1][r[1]-1]=pred+mean[r[2]-1]\n",
        "        matrix[r[2]-1][r[1]-1]=pred\n",
        "    return matrix"
      ],
      "metadata": {
        "id": "TdwcYR0SmmVT"
      },
      "execution_count": 12,
      "outputs": []
    },
    {
      "cell_type": "markdown",
      "metadata": {
        "id": "8aJAZDkfXV6_"
      },
      "source": [
        "# Evaluation"
      ]
    },
    {
      "cell_type": "markdown",
      "source": [
        "# Metric function"
      ],
      "metadata": {
        "id": "uFksC-ChK2cK"
      }
    },
    {
      "cell_type": "code",
      "execution_count": 32,
      "metadata": {
        "id": "Th92o58TeysP"
      },
      "outputs": [],
      "source": [
        "def RMSE(pred, test):\n",
        "    pred=pred.T\n",
        "    test=test.T\n",
        "    rmse=0\n",
        "    mae=0\n",
        "    for user in range(u):\n",
        "        e=pred[user]-test[user]\n",
        "        rmse+=np.nanmean(np.square(e))\n",
        "        mae+=np.nanmean(np.abs(e))\n",
        "    return (rmse/u, mae/u)"
      ]
    },
    {
      "cell_type": "code",
      "source": [
        "def PrecisionAtK(Y,K):\n",
        "    X=user_item_test.T.copy()\n",
        "    Y=Y.T\n",
        "    rcm_movie_test = np.argsort(-(X))\n",
        "    rcm_movie = np.argsort(-Y)\n",
        "    precisionK=[]\n",
        "    recallK=[]\n",
        "    f1K=[]\n",
        "    mapK=[]\n",
        "    for user in range(u):\n",
        "        rcm = rcm_movie[user]\n",
        "        rcm = rcm[np.argwhere(Y[user][rcm] > 0)]\n",
        "        rcm_test = rcm_movie_test[user][np.in1d(rcm_movie_test[user], np.argwhere(~np.isnan(X[user])))]\n",
        "        rcm = np.intersect1d(rcm, rcm_test)\n",
        "        rcm_test = rcm_test[np.argwhere(X[user][rcm_test] > 0)]\n",
        "        rcm = rcm[:K]\n",
        "\n",
        "        precision=np.in1d(rcm,rcm_test)\n",
        "        recall=np.in1d(rcm_test,rcm)\n",
        "\n",
        "        map=[]\n",
        "        for k in range(len(rcm)):\n",
        "            p = np.mean(precision[:k+1])*precision[k]\n",
        "            if p>0:\n",
        "                map.append(p)\n",
        "\n",
        "\n",
        "        precision=np.mean(precision)\n",
        "        recall=np.mean(recall)\n",
        "        f1=0\n",
        "        if precision + recall != 0:\n",
        "            f1 = 2*precision*recall/(precision+recall)\n",
        "        precisionK.append(precision)\n",
        "        recallK.append(recall)\n",
        "        f1K.append(f1)\n",
        "        mapK.append(np.mean(map))\n",
        "\n",
        "    precisionK=np.nan_to_num(precisionK)\n",
        "    recallK=np.nan_to_num(recallK)\n",
        "    f1K=np.nan_to_num(f1K)\n",
        "    mapK=np.nan_to_num(mapK)\n",
        "\n",
        "    return (np.mean(precisionK), np.mean(recallK), np.mean(f1K), np.mean(mapK))"
      ],
      "metadata": {
        "id": "qZ8L3YNh1MCy"
      },
      "execution_count": 33,
      "outputs": []
    },
    {
      "cell_type": "code",
      "source": [
        "def NDCG(Y,K):\n",
        "    X=user_item_test.copy()\n",
        "    for i in range(m):\n",
        "        X[i] += mean[i]\n",
        "    X=X.T\n",
        "    Y=Y.T\n",
        "    rcm_movie_test = np.argsort(-(X))\n",
        "    rcm_movie = np.argsort(-Y)\n",
        "    ndcg=[]\n",
        "    for user in range(u):\n",
        "        dcg=0\n",
        "        idcg=0\n",
        "        rcm_test = rcm_movie_test[user][np.in1d(rcm_movie_test[user], np.argwhere(~np.isnan(X[user])))]\n",
        "        rcm = rcm_movie[user][np.in1d(rcm_movie[user], rcm_test)]\n",
        "        for i in range(len(rcm[:K])):\n",
        "            dcg += (2**X[user][rcm[i]]-1)/math.log(i+2, 2)\n",
        "            idcg += (2**X[user][rcm_test[i]]-1)/math.log(i+2, 2)\n",
        "        ndcg.append(dcg/idcg)\n",
        "    return np.mean(ndcg)"
      ],
      "metadata": {
        "id": "fk69m0hSzNxy"
      },
      "execution_count": 34,
      "outputs": []
    },
    {
      "cell_type": "markdown",
      "source": [
        "# Test for number of neighbor"
      ],
      "metadata": {
        "id": "_dvFg-wmKy0E"
      }
    },
    {
      "cell_type": "code",
      "execution_count": 35,
      "metadata": {
        "id": "4IS4_JMiuALW",
        "colab": {
          "base_uri": "https://localhost:8080/"
        },
        "outputId": "30f3d207-ce50-42ae-ea32-05af6170fad9"
      },
      "outputs": [
        {
          "output_type": "stream",
          "name": "stderr",
          "text": [
            "/usr/local/lib/python3.10/dist-packages/numpy/core/fromnumeric.py:3474: RuntimeWarning: Mean of empty slice.\n",
            "  return _methods._mean(a, axis=axis, dtype=dtype,\n",
            "/usr/local/lib/python3.10/dist-packages/numpy/core/_methods.py:189: RuntimeWarning: invalid value encountered in double_scalars\n",
            "  ret = ret.dtype.type(ret / rcount)\n"
          ]
        }
      ],
      "source": [
        "rmse = []\n",
        "mae = []\n",
        "precision = []\n",
        "recall = []\n",
        "f1 = []\n",
        "\n",
        "iteration_list = [5,15,30,50,100]\n",
        "\n",
        "for k in iteration_list:\n",
        "    user_item = predict_matrix(k)\n",
        "    e=RMSE(user_item, user_item_test)\n",
        "    rmse.append(e[0])\n",
        "    mae.append(e[1])\n",
        "\n",
        "    metric=PrecisionAtK(user_item, 10000)\n",
        "    precision.append(metric[0])\n",
        "    recall.append(metric[1])\n",
        "    f1.append(metric[2])"
      ]
    },
    {
      "cell_type": "code",
      "execution_count": 36,
      "metadata": {
        "colab": {
          "base_uri": "https://localhost:8080/",
          "height": 509
        },
        "id": "SA88winyiLiu",
        "outputId": "b48c8202-52ac-40f7-c19c-705a01986f05"
      },
      "outputs": [
        {
          "output_type": "stream",
          "name": "stdout",
          "text": [
            "RMSE:  [0.900538510008899, 0.9005397046483232, 0.9106481801082773, 0.9196451404543623, 0.9313548528771001]\n",
            "MAE:  [0.7494066628520886, 0.7523693631826895, 0.7578561433810863, 0.762399822885587, 0.7681088415200857]\n"
          ]
        },
        {
          "output_type": "display_data",
          "data": {
            "text/plain": [
              "<Figure size 640x480 with 1 Axes>"
            ],
            "image/png": "[encoded data removed]"
          },
          "metadata": {}
        }
      ],
      "source": [
        "print(\"RMSE: \",rmse)\n",
        "print(\"MAE: \",mae)\n",
        "plt=reload(plt)\n",
        "plt.plot(iteration_list, rmse, label='RMSE')\n",
        "plt.plot(iteration_list, mae, label='MAE')\n",
        "plt.xlabel('Neighbor')\n",
        "plt.title('RMSE')\n",
        "plt.legend()\n",
        "plt.show()"
      ]
    },
    {
      "cell_type": "code",
      "execution_count": 42,
      "metadata": {
        "colab": {
          "base_uri": "https://localhost:8080/",
          "height": 527
        },
        "id": "Drf_tMtBkSi-",
        "outputId": "cdd28eb0-f1d3-4edd-d70c-da4eb1619406"
      },
      "outputs": [
        {
          "output_type": "stream",
          "name": "stdout",
          "text": [
            "Precision:  [0.5901186534216335, 0.5873149027205319, 0.5873656986548441, 0.5874519676810327, 0.5874638949368182]\n",
            "Recall:  [0.37436815694364695, 0.5038195895948471, 0.5412281686183723, 0.550767309541056, 0.5540157840565295]\n",
            "F1:  [0.4177452241850195, 0.5133605971114183, 0.5369088429436937, 0.5424512784222993, 0.544128344995646]\n"
          ]
        },
        {
          "output_type": "display_data",
          "data": {
            "text/plain": [
              "<Figure size 640x480 with 1 Axes>"
            ],
            "image/png": "[encoded data removed]"
          },
          "metadata": {}
        }
      ],
      "source": [
        "print(\"Precision: \",precision)\n",
        "print('Recall: ', recall)\n",
        "print('F1: ', f1)\n",
        "plt=reload(plt)\n",
        "plt.plot(iteration_list, precision,label='Precision')\n",
        "plt.plot(iteration_list, recall, label='Recall')\n",
        "plt.plot(iteration_list, f1, label='F1')\n",
        "plt.xlabel('Neighbor')\n",
        "plt.title('Precision, Recall, and F1')\n",
        "plt.legend()\n",
        "plt.show()"
      ]
    },
    {
      "cell_type": "markdown",
      "source": [
        "# Test for number of movie recommend"
      ],
      "metadata": {
        "id": "49IINj98u6Lx"
      }
    },
    {
      "cell_type": "code",
      "source": [
        "precision = []\n",
        "recall = []\n",
        "f1 = []\n",
        "ndcg = []\n",
        "map=[]\n",
        "num_movie = [5,15,30,50,100]\n",
        "user_item = predict_matrix(30)\n",
        "for k in num_movie:\n",
        "    e=RMSE(user_item, user_item_test)\n",
        "    rmse.append(e[0])\n",
        "    mae.append(e[1])\n",
        "\n",
        "    metric=PrecisionAtK(user_item, k)\n",
        "    precision.append(metric[0])\n",
        "    recall.append(metric[1])\n",
        "    f1.append(metric[2])\n",
        "    map.append(metric[3])\n",
        "\n",
        "    ndcg.append(NDCG(user_item, k))"
      ],
      "metadata": {
        "id": "vwCliXp3xDD8"
      },
      "execution_count": 38,
      "outputs": []
    },
    {
      "cell_type": "code",
      "source": [
        "print(\"Precision: \",precision)\n",
        "plt=reload(plt)\n",
        "plt.plot(num_movie, precision,label='Precision')\n",
        "plt.plot(num_movie, recall, label='Recall')\n",
        "plt.plot(num_movie, f1, label='F1')\n",
        "plt.xlabel('Neighbor')\n",
        "plt.title('Precision, Recall, and F1')\n",
        "plt.legend()\n",
        "plt.show()"
      ],
      "metadata": {
        "colab": {
          "base_uri": "https://localhost:8080/",
          "height": 490
        },
        "id": "ibJOouyaxIs7",
        "outputId": "ef8382c7-7332-4895-b3b0-4e2fadc7590a"
      },
      "execution_count": 39,
      "outputs": [
        {
          "output_type": "stream",
          "name": "stdout",
          "text": [
            "Precision:  [0.5901186534216335, 0.5873149027205319, 0.5873656986548441, 0.5874519676810327, 0.5874638949368182]\n"
          ]
        },
        {
          "output_type": "display_data",
          "data": {
            "text/plain": [
              "<Figure size 640x480 with 1 Axes>"
            ],
            "image/png": "[encoded data removed]"
          },
          "metadata": {}
        }
      ]
    },
    {
      "cell_type": "code",
      "execution_count": 41,
      "metadata": {
        "colab": {
          "base_uri": "https://localhost:8080/",
          "height": 509
        },
        "id": "QvnyzPw9kUA1",
        "outputId": "1f09d8d3-3dcb-4b6b-f5a2-dd82afe29057"
      },
      "outputs": [
        {
          "output_type": "stream",
          "name": "stdout",
          "text": [
            "MAP:  [0.6712716151582045, 0.6570099875810449, 0.6549306379737805, 0.6546147309965492, 0.6545976183081443]\n",
            "NDCG:  [0.7781596401753442, 0.8415163467722588, 0.8691310425159245, 0.879972586917567, 0.8848749268666841]\n"
          ]
        },
        {
          "output_type": "display_data",
          "data": {
            "text/plain": [
              "<Figure size 640x480 with 1 Axes>"
            ],
            "image/png": "[encoded data removed]"
          },
          "metadata": {}
        }
      ],
      "source": [
        "print(\"MAP: \",map)\n",
        "print('NDCG: ', ndcg)\n",
        "plt=reload(plt)\n",
        "plt.plot(num_movie, map, label='MAP')\n",
        "plt.plot(num_movie, ndcg, label ='NDCG')\n",
        "plt.xlabel('Neighbor')\n",
        "plt.title('MAP and NDCG')\n",
        "plt.legend()\n",
        "plt.show()"
      ]
    },
    {
      "cell_type": "code",
      "source": [],
      "metadata": {
        "id": "58DkwLCHKtHj"
      },
      "execution_count": 40,
      "outputs": []
    }
  ],
  "metadata": {
    "colab": {
      "provenance": [],
      "collapsed_sections": [
        "zSlLha7atkms",
        "oretUxtUXaYB"
      ]
    },
    "kernelspec": {
      "display_name": "Python 3",
      "language": "python",
      "name": "python3"
    },
    "language_info": {
      "codemirror_mode": {
        "name": "ipython",
        "version": 3
      },
      "file_extension": ".py",
      "mimetype": "text/x-python",
      "name": "python",
      "nbconvert_exporter": "python",
      "pygments_lexer": "ipython3",
      "version": "3.11.0"
    }
  },
  "nbformat": 4,
  "nbformat_minor": 0
}