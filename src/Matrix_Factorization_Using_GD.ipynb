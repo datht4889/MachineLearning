{
  "nbformat": 4,
  "nbformat_minor": 0,
  "metadata": {
    "colab": {
      "provenance": []
    },
    "kernelspec": {
      "name": "python3",
      "display_name": "Python 3"
    },
    "language_info": {
      "name": "python"
    }
  },
  "cells": [
    {
      "cell_type": "markdown",
      "source": [
        "#1 Import library\n"
      ],
      "metadata": {
        "id": "cLVF-3_7-d7P"
      }
    },
    {
      "cell_type": "code",
      "execution_count": null,
      "metadata": {
        "id": "OQuyiMaxvhbe"
      },
      "outputs": [],
      "source": [
        "import pandas as pd\n",
        "import numpy as np \n",
        "import matplotlib.pyplot as plt \n",
        "%matplotlib inline"
      ]
    },
    {
      "cell_type": "markdown",
      "source": [
        "#2 Loading Data"
      ],
      "metadata": {
        "id": "275B1wh8-3k-"
      }
    },
    {
      "cell_type": "code",
      "source": [
        "r_cols = [\"UserID\", \"MovieID\", \"Rating\", \"Timestamp\"]\n",
        "raw_data = pd.read_csv(\"/content/ratings.dat\", index_col = False ,delimiter=\"::\",names = r_cols)"
      ],
      "metadata": {
        "id": "gHZEBe4bvldo",
        "colab": {
          "base_uri": "https://localhost:8080/"
        },
        "outputId": "9b5d0ef6-195a-4f0e-8675-66a0bc95abb8"
      },
      "execution_count": null,
      "outputs": [
        {
          "output_type": "stream",
          "name": "stderr",
          "text": [
            "<ipython-input-3-4934efb37d9c>:2: ParserWarning: Falling back to the 'python' engine because the 'c' engine does not support regex separators (separators > 1 char and different from '\\s+' are interpreted as regex); you can avoid this warning by specifying engine='python'.\n",
            "  raw_data = pd.read_csv(\"/content/ratings.dat\", index_col = False ,delimiter=\"::\",names = r_cols)\n"
          ]
        }
      ]
    },
    {
      "cell_type": "code",
      "source": [
        "raw_data"
      ],
      "metadata": {
        "id": "647Undm0_Hve"
      },
      "execution_count": null,
      "outputs": []
    },
    {
      "cell_type": "markdown",
      "source": [
        "## Change DataFrame into matrix numpy"
      ],
      "metadata": {
        "id": "MZC0EKuq_ZeX"
      }
    },
    {
      "cell_type": "code",
      "source": [
        "matrix_data = raw_data.to_numpy()\n"
      ],
      "metadata": {
        "id": "SUxQSt4Y_LkO"
      },
      "execution_count": null,
      "outputs": []
    },
    {
      "cell_type": "code",
      "source": [
        "# Index of movie and user-1\n",
        "matrix_data[:,[0,1]] = matrix_data[:,[0,1]] - 1\n",
        "matrix_data"
      ],
      "metadata": {
        "id": "bnHahSIV5j9d"
      },
      "execution_count": null,
      "outputs": []
    },
    {
      "cell_type": "code",
      "source": [
        "# Splitting the data into training set and testing set\n",
        "from sklearn.model_selection import train_test_split\n",
        "\n",
        "rate_train, rate_test = train_test_split(matrix_data, test_size=0.33, random_state=42)\n",
        "print(rate_train.shape, rate_test.shape)"
      ],
      "metadata": {
        "id": "wmSik_8f5uqk",
        "colab": {
          "base_uri": "https://localhost:8080/"
        },
        "outputId": "6a973eb0-388c-4a1a-f334-4f8b398372e5"
      },
      "execution_count": null,
      "outputs": [
        {
          "output_type": "stream",
          "name": "stdout",
          "text": [
            "(670140, 4) (330069, 4)\n"
          ]
        }
      ]
    },
    {
      "cell_type": "markdown",
      "source": [
        "#3 Build the Matrix Fatorization Using Gradient Descent Method"
      ],
      "metadata": {
        "id": "DA0V5bFe_nTQ"
      }
    },
    {
      "cell_type": "code",
      "source": [
        "class matrix_factorization(object):\n",
        "  def __init__(self, data, nums_feature, lamda = 0.1, Xinit = None, Winit = None, \n",
        "               learning_rate = 0.5, max_iter = 1000, print_every = 1000, user_based = 1):\n",
        "    self.raw_data = data\n",
        "    self.K = nums_feature\n",
        "\n",
        "    # regularization term:\n",
        "    self.lamda = lamda\n",
        "\n",
        "    #Learning rate:\n",
        "    self.alpha = learning_rate\n",
        "\n",
        "    # Print result after print_every iterations\n",
        "    self.print_every = print_every\n",
        "\n",
        "    # number of user, items, ratings:\n",
        "    self.n_users = int(np.max(self.raw_data[:,0]) + 1)\n",
        "    self.n_items = int(np.max(self.raw_data[:,1]) + 1)\n",
        "    self.n_objects = int(self.raw_data.shape[0])\n",
        "\n",
        "    # Numbers of iterations:\n",
        "    self.max_iter = max_iter\n",
        "\n",
        "    # Choose the way to normalize data:\n",
        "    self.user_based = user_based\n",
        "\n",
        "    # Initialize X matrix and W matrix:\n",
        "    if Xinit is not None:\n",
        "      self.X = Xinit\n",
        "    else:\n",
        "      self.X = np.random.rand(self.n_items,self.K)\n",
        "    \n",
        "    if Winit is not None:\n",
        "      self.W = Winit\n",
        "    else:\n",
        "      self.W = np.random.rand(self.K,self.n_users)\n",
        "\n",
        "    # Make a copy of raw matrix to prepare for normalize:\n",
        "    self.normal_matrix = self.raw_data.copy()\n",
        "    \n",
        "  def normalize(self):\n",
        "      \"\"\"\n",
        "      We normalize the rating matrix:\n",
        "      For each users, we calculate the mean of rating of movies that user vote for. Then subtract the rating with that mean value.\n",
        "      \"\"\"\n",
        "      if self.user_based:\n",
        "        user_col = 0\n",
        "        item_col = 1\n",
        "        n_objects = self.n_users\n",
        "      else:\n",
        "        user_col = 1\n",
        "        item_col = 0\n",
        "        n_objects = self.n_items\n",
        "\n",
        "      # # Convert all value in rating matrix to integer value:\n",
        "      self.normal_matrix = self.normal_matrix.astype(\"float32\")\n",
        "\n",
        "      # Create a array contain mean value for each object:\n",
        "      self.mean = np.zeros((n_objects,))\n",
        "      # Compute mean and subtract rating for each user:\n",
        "      for n in range(n_objects):\n",
        "        # find index row rating which rated by user n or rate for movie n (depend on user_based or item_based)\n",
        "        ids = np.where(self.normal_matrix[:,user_col] == n)\n",
        "\n",
        "        # Find the rating column\n",
        "        rating = self.normal_matrix[ids,2]\n",
        "        # Find the mean of rating column\n",
        "        mean_value = np.mean(rating)\n",
        "        # Check whether mean_value is none or not (since sometime rating column is empty -> mean_value = NULL)\n",
        "        if np.isnan(mean_value):\n",
        "          mean_value = 0\n",
        "        self.mean[n] = mean_value\n",
        "        # normalize:\n",
        "        self.normal_matrix[ids,2] =  self.normal_matrix[ids,2] - mean_value\n",
        "\n",
        "  def movie_rated_by_user(self, user):\n",
        "    \"\"\"\n",
        "    Return idex and matrix of movie column rated by the user\n",
        "    \"\"\"\n",
        "    # find index row of movies which are rated by user i\n",
        "    idx = np.where(self.normal_matrix[:,0] == user)\n",
        "\n",
        "    # list of movie id which are rated by user i\n",
        "    movieId = self.raw_data[idx,1].reshape((np.size(idx),))\n",
        "      \n",
        "    return idx[0], self.X[movieId,:]\n",
        "\n",
        "\n",
        "  def user_rate_for_movie(self, movie):\n",
        "    \"\"\"\n",
        "    Return idex and matrix of user row who rate for the movie\n",
        "    \"\"\"\n",
        "    # find index row of user who rate for movie i\n",
        "    idx = np.where(self.normal_matrix[:,1] == movie)\n",
        "\n",
        "    # list of user id who rate for movie i \n",
        "    userId = self.raw_data[idx,0].reshape((np.size(idx),))\n",
        "      \n",
        "    return idx[0], self.W[:,userId] \n",
        "\n",
        "\n",
        "  def loss(self):\n",
        "    \"\"\"\n",
        "    Compute the loss \n",
        "    \"\"\"\n",
        "        L = 0 \n",
        "        for i in range(self.n_objects):\n",
        "            # user, item, rating\n",
        "            n, m, rate = int(self.normal_matrix[i, 0]), int(self.normal_matrix[i, 1]), self.normal_matrix[i, 2]\n",
        "            L += 0.5*(rate - self.X[m, :].dot(self.W[:, n]))**2\n",
        "        \n",
        "        # take average\n",
        "        L /= self.n_objects\n",
        "        # regularization term \n",
        "        L += 0.5*self.lamda*(np.linalg.norm(self.X, 'fro') + np.linalg.norm(self.W, 'fro'))\n",
        "        return L \n",
        "\n",
        "  def update_X(self):\n",
        "    for movie in range(self.n_items):\n",
        "      # find index column of users which rate for movie i and\n",
        "      # list of user id who rate for movie i \n",
        "      idx,W = self.user_rate_for_movie(movie)\n",
        "      actual_value = self.normal_matrix[idx,2]\n",
        "\n",
        "      # Compute the predicted rating and error (1xn)\n",
        "      predict = np.dot(self.X[movie,:], W)\n",
        "      error = actual_value - predict\n",
        "      # Update each row in X matrix\n",
        "      self.X[movie,:] = self.X[movie,:] - self.alpha * ((-1/self.n_objects) * (np.dot(error, W.T)) + self.lamda * self.X[movie,:])\n",
        "    \n",
        "  def update_W(self):\n",
        "    for user in range(self.n_users):\n",
        "      # find index row of movie which is rated by user i\n",
        "      # list of movie id which is rated by user i \n",
        "      idx,X = self.movie_rated_by_user(user)\n",
        "\n",
        "       # Compute the predicted rating row with shape (K,1) and error\n",
        "      actual_value = self.normal_matrix[idx,2]\n",
        "      predict  = np.dot(X, self.W[:,user])\n",
        "      error = actual_value - predict\n",
        "      # Update each column in W matrix\n",
        "      self.W[:,user] = self.W[:,user] - self.alpha * ((-1/self.n_objects) * (np.dot(X.T,error)) + self.lamda * self.W[:,user])\n",
        "\n",
        "\n",
        "  def print(self, itr):\n",
        "    print(\"Iteration\",itr, \": \" + \"loss: \",self.loss() ,\"RMSE train : \", self.MSE(self.raw_data))\n",
        "\n",
        "  def fit(self):\n",
        "    self.normalize()\n",
        "    for iter in range(self.max_iter):\n",
        "      self.update_X()\n",
        "      self.update_W()\n",
        "\n",
        "      if (iter + 1) % self.print_every == 0:\n",
        "        self.print(iter+1)\n",
        "\n",
        "  def predict(self,user,movie):\n",
        "    predict = np.dot(self.X[movie,:], self.W[:,user])\n",
        "    if self.user_based:\n",
        "        predict = predict + self.mean[user]\n",
        "    else:\n",
        "      predict = predict + self.mean[movie]\n",
        "    if predict < 0:\n",
        "      predict = 0\n",
        "    elif predict > 5:\n",
        "      predict = 5\n",
        "    return predict\n",
        "\n",
        "  def MSE(self, rate_test):\n",
        "    MSE = 0\n",
        "    n_tests = rate_test.shape[0]\n",
        "    for i in range(n_tests):\n",
        "      pred = self.predict(rate_test[i,0], rate_test[i,1])\n",
        "      error = (rate_test[i,2] - pred)**2\n",
        "      MSE += error\n",
        "    MSE = (1/(n_tests)) * MSE\n",
        "    return MSE\n",
        "      \n",
        "\n",
        "  \n",
        "      \n",
        "\n",
        "\n",
        "    \n",
        "    \n",
        "\n",
        "        "
      ],
      "metadata": {
        "id": "xaE8NqmDAFr3"
      },
      "execution_count": null,
      "outputs": []
    },
    {
      "cell_type": "markdown",
      "source": [
        "#4 Visualize the accuracy of model"
      ],
      "metadata": {
        "id": "EL4fE9Wthqnq"
      }
    },
    {
      "cell_type": "markdown",
      "source": [
        "## With each value of iteration\n"
      ],
      "metadata": {
        "id": "4l74lvzXibde"
      }
    },
    {
      "cell_type": "code",
      "source": [
        "iteration_list = [2,5,8,10,15,20]\n",
        "MSE_train = []\n",
        "MSE_test = []"
      ],
      "metadata": {
        "id": "bOWMK4bphpaM"
      },
      "execution_count": null,
      "outputs": []
    },
    {
      "cell_type": "code",
      "source": [
        "for iter in iteration_list:\n",
        "  mf = matrix_factorization(rate_train, nums_feature = 10, lamda = 0.1, learning_rate = 0.5,max_iter = iter, print_every = 1,user_based = 1)\n",
        "  mf.fit()\n",
        "  MSE_train.append(mf.MSE(rate_train))\n",
        "  MSE_test.append(mf.MSE(rate_test))"
      ],
      "metadata": {
        "id": "RlfbJb6xkUL2"
      },
      "execution_count": null,
      "outputs": []
    },
    {
      "cell_type": "code",
      "source": [
        "time_list = []\n",
        "import time \n",
        "for i in [25,30,40,50]:\n",
        "  iteration_list.append(i)\n",
        "  mf = matrix_factorization(rate_train, nums_feature = 10, lamda = 0.1, learning_rate = 0.5,max_iter = i, print_every = 5,user_based = 1)\n",
        "  start = time.time()\n",
        "  mf.fit()\n",
        "  MSE_train.append(mf.MSE(rate_train))\n",
        "  MSE_test.append(mf.MSE(rate_test))\n",
        "  end = time.time()\n",
        "  time_list.append(end-start)\n",
        "\n",
        "\n"
      ],
      "metadata": {
        "id": "bhnCY1hyp6EJ"
      },
      "execution_count": null,
      "outputs": []
    },
    {
      "cell_type": "code",
      "source": [
        "plt.plot(iteration_list,MSE_train)\n",
        "plt.plot(iteration_list, MSE_test)\n",
        "plt.xlabel = \"Iteration\"\n",
        "plt.ylabel ='Roots Mean Square Error'"
      ],
      "metadata": {
        "colab": {
          "base_uri": "https://localhost:8080/",
          "height": 430
        },
        "id": "nIyyFWILlyI3",
        "outputId": "a6edfd2d-9cfd-4c25-ca06-dacc33f1934d"
      },
      "execution_count": null,
      "outputs": [
        {
          "output_type": "display_data",
          "data": {
            "text/plain": [
              "<Figure size 640x480 with 1 Axes>"
            ],
            "image/png": "[encoded data removed]"
          },
          "metadata": {}
        }
      ]
    }
  ]
}