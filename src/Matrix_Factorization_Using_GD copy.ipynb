{
  "cells": [
    {
      "cell_type": "markdown",
      "metadata": {
        "id": "cLVF-3_7-d7P"
      },
      "source": [
        "#1 Import library\n"
      ]
    },
    {
      "cell_type": "code",
      "execution_count": 1,
      "metadata": {
        "id": "OQuyiMaxvhbe"
      },
      "outputs": [],
      "source": [
        "import pandas as pd\n",
        "import numpy as np \n",
        "import matplotlib.pyplot as plt \n",
        "%matplotlib inline"
      ]
    },
    {
      "cell_type": "markdown",
      "metadata": {
        "id": "275B1wh8-3k-"
      },
      "source": [
        "#2 Loading Data"
      ]
    },
    {
      "cell_type": "code",
      "execution_count": 2,
      "metadata": {
        "colab": {
          "base_uri": "https://localhost:8080/"
        },
        "id": "gHZEBe4bvldo",
        "outputId": "9b5d0ef6-195a-4f0e-8675-66a0bc95abb8"
      },
      "outputs": [
        {
          "name": "stderr",
          "output_type": "stream",
          "text": [
            "/var/folders/9m/q_st48_96nxbrmf463nr7q580000gn/T/ipykernel_25333/3314057822.py:2: ParserWarning: Falling back to the 'python' engine because the 'c' engine does not support regex separators (separators > 1 char and different from '\\s+' are interpreted as regex); you can avoid this warning by specifying engine='python'.\n",
            "  raw_data = pd.read_csv(\"/Applications/coding for life/semester4/ML/project/MachineLearning/dataset/ratings.dat\", index_col = False ,delimiter=\"::\",names = r_cols)\n"
          ]
        }
      ],
      "source": [
        "r_cols = [\"UserID\", \"MovieID\", \"Rating\", \"Timestamp\"]\n",
        "raw_data = pd.read_csv(\"/Applications/coding for life/semester4/ML/project/MachineLearning/dataset/ratings.dat\", index_col = False ,delimiter=\"::\",names = r_cols)"
      ]
    },
    {
      "cell_type": "code",
      "execution_count": 3,
      "metadata": {
        "id": "647Undm0_Hve"
      },
      "outputs": [
        {
          "data": {
            "text/html": [
              "<div>\n",
              "<style scoped>\n",
              "    .dataframe tbody tr th:only-of-type {\n",
              "        vertical-align: middle;\n",
              "    }\n",
              "\n",
              "    .dataframe tbody tr th {\n",
              "        vertical-align: top;\n",
              "    }\n",
              "\n",
              "    .dataframe thead th {\n",
              "        text-align: right;\n",
              "    }\n",
              "</style>\n",
              "<table border=\"1\" class=\"dataframe\">\n",
              "  <thead>\n",
              "    <tr style=\"text-align: right;\">\n",
              "      <th></th>\n",
              "      <th>UserID</th>\n",
              "      <th>MovieID</th>\n",
              "      <th>Rating</th>\n",
              "      <th>Timestamp</th>\n",
              "    </tr>\n",
              "  </thead>\n",
              "  <tbody>\n",
              "    <tr>\n",
              "      <th>0</th>\n",
              "      <td>1</td>\n",
              "      <td>1193</td>\n",
              "      <td>5</td>\n",
              "      <td>978300760</td>\n",
              "    </tr>\n",
              "    <tr>\n",
              "      <th>1</th>\n",
              "      <td>1</td>\n",
              "      <td>661</td>\n",
              "      <td>3</td>\n",
              "      <td>978302109</td>\n",
              "    </tr>\n",
              "    <tr>\n",
              "      <th>2</th>\n",
              "      <td>1</td>\n",
              "      <td>914</td>\n",
              "      <td>3</td>\n",
              "      <td>978301968</td>\n",
              "    </tr>\n",
              "    <tr>\n",
              "      <th>3</th>\n",
              "      <td>1</td>\n",
              "      <td>3408</td>\n",
              "      <td>4</td>\n",
              "      <td>978300275</td>\n",
              "    </tr>\n",
              "    <tr>\n",
              "      <th>4</th>\n",
              "      <td>1</td>\n",
              "      <td>2355</td>\n",
              "      <td>5</td>\n",
              "      <td>978824291</td>\n",
              "    </tr>\n",
              "    <tr>\n",
              "      <th>...</th>\n",
              "      <td>...</td>\n",
              "      <td>...</td>\n",
              "      <td>...</td>\n",
              "      <td>...</td>\n",
              "    </tr>\n",
              "    <tr>\n",
              "      <th>1000204</th>\n",
              "      <td>6040</td>\n",
              "      <td>1091</td>\n",
              "      <td>1</td>\n",
              "      <td>956716541</td>\n",
              "    </tr>\n",
              "    <tr>\n",
              "      <th>1000205</th>\n",
              "      <td>6040</td>\n",
              "      <td>1094</td>\n",
              "      <td>5</td>\n",
              "      <td>956704887</td>\n",
              "    </tr>\n",
              "    <tr>\n",
              "      <th>1000206</th>\n",
              "      <td>6040</td>\n",
              "      <td>562</td>\n",
              "      <td>5</td>\n",
              "      <td>956704746</td>\n",
              "    </tr>\n",
              "    <tr>\n",
              "      <th>1000207</th>\n",
              "      <td>6040</td>\n",
              "      <td>1096</td>\n",
              "      <td>4</td>\n",
              "      <td>956715648</td>\n",
              "    </tr>\n",
              "    <tr>\n",
              "      <th>1000208</th>\n",
              "      <td>6040</td>\n",
              "      <td>1097</td>\n",
              "      <td>4</td>\n",
              "      <td>956715569</td>\n",
              "    </tr>\n",
              "  </tbody>\n",
              "</table>\n",
              "<p>1000209 rows × 4 columns</p>\n",
              "</div>"
            ],
            "text/plain": [
              "         UserID  MovieID  Rating  Timestamp\n",
              "0             1     1193       5  978300760\n",
              "1             1      661       3  978302109\n",
              "2             1      914       3  978301968\n",
              "3             1     3408       4  978300275\n",
              "4             1     2355       5  978824291\n",
              "...         ...      ...     ...        ...\n",
              "1000204    6040     1091       1  956716541\n",
              "1000205    6040     1094       5  956704887\n",
              "1000206    6040      562       5  956704746\n",
              "1000207    6040     1096       4  956715648\n",
              "1000208    6040     1097       4  956715569\n",
              "\n",
              "[1000209 rows x 4 columns]"
            ]
          },
          "execution_count": 3,
          "metadata": {},
          "output_type": "execute_result"
        }
      ],
      "source": [
        "raw_data"
      ]
    },
    {
      "cell_type": "markdown",
      "metadata": {
        "id": "MZC0EKuq_ZeX"
      },
      "source": [
        "## Change DataFrame into matrix numpy"
      ]
    },
    {
      "cell_type": "code",
      "execution_count": 4,
      "metadata": {
        "id": "SUxQSt4Y_LkO"
      },
      "outputs": [],
      "source": [
        "matrix_data = raw_data.to_numpy()\n"
      ]
    },
    {
      "cell_type": "code",
      "execution_count": 5,
      "metadata": {
        "id": "bnHahSIV5j9d"
      },
      "outputs": [
        {
          "data": {
            "text/plain": [
              "array([[        0,      1192,         5, 978300760],\n",
              "       [        0,       660,         3, 978302109],\n",
              "       [        0,       913,         3, 978301968],\n",
              "       ...,\n",
              "       [     6039,       561,         5, 956704746],\n",
              "       [     6039,      1095,         4, 956715648],\n",
              "       [     6039,      1096,         4, 956715569]])"
            ]
          },
          "execution_count": 5,
          "metadata": {},
          "output_type": "execute_result"
        }
      ],
      "source": [
        "# Index of movie and user-1\n",
        "matrix_data[:,[0,1]] = matrix_data[:,[0,1]] - 1\n",
        "matrix_data"
      ]
    },
    {
      "cell_type": "code",
      "execution_count": 6,
      "metadata": {
        "colab": {
          "base_uri": "https://localhost:8080/"
        },
        "id": "wmSik_8f5uqk",
        "outputId": "6a973eb0-388c-4a1a-f334-4f8b398372e5"
      },
      "outputs": [
        {
          "name": "stdout",
          "output_type": "stream",
          "text": [
            "(670140, 4) (330069, 4)\n"
          ]
        }
      ],
      "source": [
        "# Splitting the data into training set and testing set\n",
        "from sklearn.model_selection import train_test_split\n",
        "\n",
        "rate_train, rate_test = train_test_split(matrix_data, test_size=0.33, random_state=42)\n",
        "print(rate_train.shape, rate_test.shape)"
      ]
    },
    {
      "cell_type": "markdown",
      "metadata": {},
      "source": []
    },
    {
      "cell_type": "markdown",
      "metadata": {
        "id": "DA0V5bFe_nTQ"
      },
      "source": [
        "#3 Build the Matrix Fatorization Using Gradient Descent Method"
      ]
    },
    {
      "cell_type": "code",
      "execution_count": 8,
      "metadata": {
        "id": "xaE8NqmDAFr3"
      },
      "outputs": [],
      "source": [
        "class matrix_factorization(object):\n",
        "  def __init__(self, data, nums_feature, lamda = 0.1, Xinit = None, Winit = None, \n",
        "               learning_rate = 0.5, max_iter = 1000, print_every = 1000, user_based = 1):\n",
        "    self.raw_data = data\n",
        "    self.K = nums_feature\n",
        "\n",
        "    # regularization term:\n",
        "    self.lamda = lamda\n",
        "\n",
        "    #Learning rate:\n",
        "    self.alpha = learning_rate\n",
        "\n",
        "    # Print result after print_every iterations\n",
        "    self.print_every = print_every\n",
        "\n",
        "    # number of user, items, ratings:\n",
        "    self.n_users = int(np.max(self.raw_data[:,0]) + 1)\n",
        "    self.n_items = int(np.max(self.raw_data[:,1]) + 1)\n",
        "    self.n_objects = int(self.raw_data.shape[0])\n",
        "\n",
        "    # Numbers of iterations:\n",
        "    self.max_iter = max_iter\n",
        "\n",
        "    # Choose the way to normalize data:\n",
        "    self.user_based = user_based\n",
        "\n",
        "    # Initialize X matrix and W matrix:\n",
        "    if Xinit is not None:\n",
        "      self.X = Xinit\n",
        "    else:\n",
        "      self.X = np.random.rand(self.n_items,self.K)\n",
        "    \n",
        "    if Winit is not None:\n",
        "      self.W = Winit\n",
        "    else:\n",
        "      self.W = np.random.rand(self.K,self.n_users)\n",
        "\n",
        "    # Make a copy of raw matrix to prepare for normalize:\n",
        "    self.normal_matrix = self.raw_data.copy()\n",
        "    \n",
        "  def normalize(self):\n",
        "      \"\"\"\n",
        "      We normalize the rating matrix:\n",
        "      For each users, we calculate the mean of rating of movies that user vote for. Then subtract the rating with that mean value.\n",
        "      \"\"\"\n",
        "      if self.user_based:\n",
        "        user_col = 0\n",
        "        item_col = 1\n",
        "        n_objects = self.n_users\n",
        "      else:\n",
        "        user_col = 1\n",
        "        item_col = 0\n",
        "        n_objects = self.n_items\n",
        "\n",
        "      # # Convert all value in rating matrix to integer value:\n",
        "      self.normal_matrix = self.normal_matrix.astype(\"float32\")\n",
        "\n",
        "      # Create a array contain mean value for each object:\n",
        "      self.mean = np.zeros((n_objects,))\n",
        "      # Compute mean and subtract rating for each user:\n",
        "      for n in range(n_objects):\n",
        "        # find index row rating which rated by user n or rate for movie n (depend on user_based or item_based)\n",
        "        ids = np.where(self.normal_matrix[:,user_col] == n)\n",
        "\n",
        "        # Find the rating column\n",
        "        rating = self.normal_matrix[ids,2]\n",
        "        # Find the mean of rating column\n",
        "        mean_value = np.mean(rating)\n",
        "        # Check whether mean_value is none or not (since sometime rating column is empty -> mean_value = NULL)\n",
        "        if np.isnan(mean_value):\n",
        "          mean_value = 0\n",
        "        self.mean[n] = mean_value\n",
        "        # normalize:\n",
        "        self.normal_matrix[ids,2] =  self.normal_matrix[ids,2] - mean_value\n",
        "\n",
        "  def movie_rated_by_user(self, user):\n",
        "    \"\"\"\n",
        "    Return idex and matrix of movie column rated by the user\n",
        "    \"\"\"\n",
        "    # find index row of movies which are rated by user i\n",
        "    idx = np.where(self.normal_matrix[:,0] == user)\n",
        "\n",
        "    # list of movie id which are rated by user i\n",
        "    movieId = self.raw_data[idx,1].reshape((np.size(idx),))\n",
        "      \n",
        "    return idx[0], self.X[movieId,:]\n",
        "\n",
        "\n",
        "  def user_rate_for_movie(self, movie):\n",
        "    \"\"\"\n",
        "    Return idex and matrix of user row who rate for the movie\n",
        "    \"\"\"\n",
        "    # find index row of user who rate for movie i\n",
        "    idx = np.where(self.normal_matrix[:,1] == movie)\n",
        "\n",
        "    # list of user id who rate for movie i \n",
        "    userId = self.raw_data[idx,0].reshape((np.size(idx),))\n",
        "      \n",
        "    return idx[0], self.W[:,userId] \n",
        "\n",
        "\n",
        "  def loss(self):\n",
        "    \"\"\"\n",
        "    Compute the loss \n",
        "    \"\"\"\n",
        "    L = 0 \n",
        "    for i in range(self.n_objects):\n",
        "        # user, item, rating\n",
        "        n, m, rate = int(self.normal_matrix[i, 0]), int(self.normal_matrix[i, 1]), self.normal_matrix[i, 2]\n",
        "        L += 0.5*(rate - self.X[m, :].dot(self.W[:, n]))**2\n",
        "    \n",
        "    # take average\n",
        "    L /= self.n_objects\n",
        "    # regularization term \n",
        "    L += 0.5*self.lamda*(np.linalg.norm(self.X, 'fro') + np.linalg.norm(self.W, 'fro'))\n",
        "    return L \n",
        "\n",
        "  def update_X(self):\n",
        "    for movie in range(self.n_items):\n",
        "      # find index column of users which rate for movie i and\n",
        "      # list of user id who rate for movie i \n",
        "      idx,W = self.user_rate_for_movie(movie)\n",
        "      actual_value = self.normal_matrix[idx,2]\n",
        "\n",
        "      # Compute the predicted rating and error (1xn)\n",
        "      predict = np.dot(self.X[movie,:], W)\n",
        "      error = actual_value - predict\n",
        "      # Update each row in X matrix\n",
        "      self.X[movie,:] = self.X[movie,:] - self.alpha * ((-1/self.n_objects) * (np.dot(error, W.T)) + self.lamda * self.X[movie,:])\n",
        "    \n",
        "  def update_W(self):\n",
        "    for user in range(self.n_users):\n",
        "      # find index row of movie which is rated by user i\n",
        "      # list of movie id which is rated by user i \n",
        "      idx,X = self.movie_rated_by_user(user)\n",
        "\n",
        "       # Compute the predicted rating row with shape (K,1) and error\n",
        "      actual_value = self.normal_matrix[idx,2]\n",
        "      predict  = np.dot(X, self.W[:,user])\n",
        "      error = actual_value - predict\n",
        "      # Update each column in W matrix\n",
        "      self.W[:,user] = self.W[:,user] - self.alpha * ((-1/self.n_objects) * (np.dot(X.T,error)) + self.lamda * self.W[:,user])\n",
        "\n",
        "\n",
        "  def print(self, itr):\n",
        "    print(\"Iteration\",itr, \": \" + \"loss: \",self.loss() ,\"RMSE train : \", self.MSE(self.raw_data))\n",
        "\n",
        "  def fit(self):\n",
        "    self.normalize()\n",
        "    for iter in range(self.max_iter):\n",
        "      self.update_X()\n",
        "      self.update_W()\n",
        "\n",
        "      if (iter + 1) % self.print_every == 0:\n",
        "        self.print(iter+1)\n",
        "\n",
        "  def predict(self,user,movie):\n",
        "    predict = np.dot(self.X[movie,:], self.W[:,user])\n",
        "    if self.user_based:\n",
        "        predict = predict + self.mean[user]\n",
        "    else:\n",
        "      predict = predict + self.mean[movie]\n",
        "    if predict < 0:\n",
        "      predict = 0\n",
        "    elif predict > 5:\n",
        "      predict = 5\n",
        "    return predict\n",
        "\n",
        "  def MSE(self, rate_test):\n",
        "    MSE = 0\n",
        "    n_tests = rate_test.shape[0]\n",
        "    for i in range(n_tests):\n",
        "      pred = self.predict(rate_test[i,0], rate_test[i,1])\n",
        "      error = (rate_test[i,2] - pred)**2\n",
        "      MSE += error\n",
        "    MSE = (1/(n_tests)) * MSE\n",
        "    return MSE\n",
        "      \n",
        "\n",
        "  \n",
        "      \n",
        "\n",
        "\n",
        "    \n",
        "    \n",
        "\n",
        "        "
      ]
    },
    {
      "cell_type": "markdown",
      "metadata": {
        "id": "EL4fE9Wthqnq"
      },
      "source": [
        "#4 Visualize the accuracy of model"
      ]
    },
    {
      "cell_type": "markdown",
      "metadata": {
        "id": "4l74lvzXibde"
      },
      "source": [
        "## With each value of iteration\n"
      ]
    },
    {
      "cell_type": "code",
      "execution_count": 9,
      "metadata": {
        "id": "bOWMK4bphpaM"
      },
      "outputs": [],
      "source": [
        "iteration_list = [2,5,8,10,15,20]\n",
        "MSE_train = []\n",
        "MSE_test = []"
      ]
    },
    {
      "cell_type": "code",
      "execution_count": 10,
      "metadata": {
        "id": "RlfbJb6xkUL2"
      },
      "outputs": [
        {
          "name": "stdout",
          "output_type": "stream",
          "text": [
            "Iteration 1 : loss:  15.406789579102998 RMSE train :  3.0832169890834575\n",
            "Iteration 2 : loss:  14.29026373747018 RMSE train :  3.0011640187841375\n",
            "Iteration 1 : loss:  15.356272945598985 RMSE train :  3.0673491415847947\n",
            "Iteration 2 : loss:  14.24527980883946 RMSE train :  2.9834403539022354\n",
            "Iteration 3 : loss:  13.259524527105754 RMSE train :  2.8781066232294408\n",
            "Iteration 4 : loss:  12.379490111280292 RMSE train :  2.751617504642865\n",
            "Iteration 5 : loss:  11.589185798800472 RMSE train :  2.606682803715684\n",
            "Iteration 1 : loss:  15.462000995110746 RMSE train :  3.0845378407218895\n",
            "Iteration 2 : loss:  14.335344328852479 RMSE train :  3.004178165014403\n",
            "Iteration 3 : loss:  13.336698128382997 RMSE train :  2.9004635577303723\n",
            "Iteration 4 : loss:  12.446019826974094 RMSE train :  2.773828405910016\n",
            "Iteration 5 : loss:  11.646896088974986 RMSE train :  2.627876664906396\n",
            "Iteration 6 : loss:  10.925847332695671 RMSE train :  2.468485067449565\n",
            "Iteration 7 : loss:  10.271769753597741 RMSE train :  2.3031608758600974\n",
            "Iteration 8 : loss:  9.67548686868693 RMSE train :  2.1392193933296753\n",
            "Iteration 1 : loss:  15.38306668315551 RMSE train :  3.0660457012335254\n",
            "Iteration 2 : loss:  14.26971016487979 RMSE train :  2.9802265123156153\n",
            "Iteration 3 : loss:  13.28197227939728 RMSE train :  2.8715244595614204\n",
            "Iteration 4 : loss:  12.400253954723139 RMSE train :  2.7410968022325526\n",
            "Iteration 5 : loss:  11.608501574597927 RMSE train :  2.593069810218621\n",
            "Iteration 6 : loss:  10.893527576723024 RMSE train :  2.4336946449151218\n",
            "Iteration 7 : loss:  10.244465414430096 RMSE train :  2.2700628623184667\n",
            "Iteration 8 : loss:  9.652331527107139 RMSE train :  2.108858041649689\n",
            "Iteration 9 : loss:  9.109672724695425 RMSE train :  1.9558328634936193\n",
            "Iteration 10 : loss:  8.610281888861474 RMSE train :  1.8153280873590658\n",
            "Iteration 1 : loss:  15.521055988198459 RMSE train :  3.094492235956674\n"
          ]
        },
        {
          "ename": "KeyboardInterrupt",
          "evalue": "",
          "output_type": "error",
          "traceback": [
            "\u001b[0;31m---------------------------------------------------------------------------\u001b[0m",
            "\u001b[0;31mKeyboardInterrupt\u001b[0m                         Traceback (most recent call last)",
            "Cell \u001b[0;32mIn[10], line 3\u001b[0m\n\u001b[1;32m      1\u001b[0m \u001b[39mfor\u001b[39;00m \u001b[39miter\u001b[39m \u001b[39min\u001b[39;00m iteration_list:\n\u001b[1;32m      2\u001b[0m   mf \u001b[39m=\u001b[39m matrix_factorization(rate_train, nums_feature \u001b[39m=\u001b[39m \u001b[39m10\u001b[39m, lamda \u001b[39m=\u001b[39m \u001b[39m0.1\u001b[39m, learning_rate \u001b[39m=\u001b[39m \u001b[39m0.5\u001b[39m,max_iter \u001b[39m=\u001b[39m \u001b[39miter\u001b[39m, print_every \u001b[39m=\u001b[39m \u001b[39m1\u001b[39m,user_based \u001b[39m=\u001b[39m \u001b[39m1\u001b[39m)\n\u001b[0;32m----> 3\u001b[0m   mf\u001b[39m.\u001b[39;49mfit()\n\u001b[1;32m      4\u001b[0m   MSE_train\u001b[39m.\u001b[39mappend(mf\u001b[39m.\u001b[39mMSE(rate_train))\n\u001b[1;32m      5\u001b[0m   MSE_test\u001b[39m.\u001b[39mappend(mf\u001b[39m.\u001b[39mMSE(rate_test))\n",
            "Cell \u001b[0;32mIn[8], line 151\u001b[0m, in \u001b[0;36mmatrix_factorization.fit\u001b[0;34m(self)\u001b[0m\n\u001b[1;32m    149\u001b[0m \u001b[39mself\u001b[39m\u001b[39m.\u001b[39mnormalize()\n\u001b[1;32m    150\u001b[0m \u001b[39mfor\u001b[39;00m \u001b[39miter\u001b[39m \u001b[39min\u001b[39;00m \u001b[39mrange\u001b[39m(\u001b[39mself\u001b[39m\u001b[39m.\u001b[39mmax_iter):\n\u001b[0;32m--> 151\u001b[0m   \u001b[39mself\u001b[39;49m\u001b[39m.\u001b[39;49mupdate_X()\n\u001b[1;32m    152\u001b[0m   \u001b[39mself\u001b[39m\u001b[39m.\u001b[39mupdate_W()\n\u001b[1;32m    154\u001b[0m   \u001b[39mif\u001b[39;00m (\u001b[39miter\u001b[39m \u001b[39m+\u001b[39m \u001b[39m1\u001b[39m) \u001b[39m%\u001b[39m \u001b[39mself\u001b[39m\u001b[39m.\u001b[39mprint_every \u001b[39m==\u001b[39m \u001b[39m0\u001b[39m:\n",
            "Cell \u001b[0;32mIn[8], line 122\u001b[0m, in \u001b[0;36mmatrix_factorization.update_X\u001b[0;34m(self)\u001b[0m\n\u001b[1;32m    118\u001b[0m \u001b[39mdef\u001b[39;00m \u001b[39mupdate_X\u001b[39m(\u001b[39mself\u001b[39m):\n\u001b[1;32m    119\u001b[0m   \u001b[39mfor\u001b[39;00m movie \u001b[39min\u001b[39;00m \u001b[39mrange\u001b[39m(\u001b[39mself\u001b[39m\u001b[39m.\u001b[39mn_items):\n\u001b[1;32m    120\u001b[0m     \u001b[39m# find index column of users which rate for movie i and\u001b[39;00m\n\u001b[1;32m    121\u001b[0m     \u001b[39m# list of user id who rate for movie i \u001b[39;00m\n\u001b[0;32m--> 122\u001b[0m     idx,W \u001b[39m=\u001b[39m \u001b[39mself\u001b[39;49m\u001b[39m.\u001b[39;49muser_rate_for_movie(movie)\n\u001b[1;32m    123\u001b[0m     actual_value \u001b[39m=\u001b[39m \u001b[39mself\u001b[39m\u001b[39m.\u001b[39mnormal_matrix[idx,\u001b[39m2\u001b[39m]\n\u001b[1;32m    125\u001b[0m     \u001b[39m# Compute the predicted rating and error (1xn)\u001b[39;00m\n",
            "Cell \u001b[0;32mIn[8], line 94\u001b[0m, in \u001b[0;36mmatrix_factorization.user_rate_for_movie\u001b[0;34m(self, movie)\u001b[0m\n\u001b[1;32m     90\u001b[0m \u001b[39m\"\"\"\u001b[39;00m\n\u001b[1;32m     91\u001b[0m \u001b[39mReturn idex and matrix of user row who rate for the movie\u001b[39;00m\n\u001b[1;32m     92\u001b[0m \u001b[39m\"\"\"\u001b[39;00m\n\u001b[1;32m     93\u001b[0m \u001b[39m# find index row of user who rate for movie i\u001b[39;00m\n\u001b[0;32m---> 94\u001b[0m idx \u001b[39m=\u001b[39m np\u001b[39m.\u001b[39mwhere(\u001b[39mself\u001b[39;49m\u001b[39m.\u001b[39;49mnormal_matrix[:,\u001b[39m1\u001b[39;49m] \u001b[39m==\u001b[39;49m movie)\n\u001b[1;32m     96\u001b[0m \u001b[39m# list of user id who rate for movie i \u001b[39;00m\n\u001b[1;32m     97\u001b[0m userId \u001b[39m=\u001b[39m \u001b[39mself\u001b[39m\u001b[39m.\u001b[39mraw_data[idx,\u001b[39m0\u001b[39m]\u001b[39m.\u001b[39mreshape((np\u001b[39m.\u001b[39msize(idx),))\n",
            "\u001b[0;31mKeyboardInterrupt\u001b[0m: "
          ]
        }
      ],
      "source": [
        "for iter in iteration_list:\n",
        "  mf = matrix_factorization(rate_train, nums_feature = 10, lamda = 0.1, learning_rate = 0.5,max_iter = iter, print_every = 1,user_based = 1)\n",
        "  mf.fit()\n",
        "  MSE_train.append(mf.MSE(rate_train))\n",
        "  MSE_test.append(mf.MSE(rate_test))"
      ]
    },
    {
      "cell_type": "code",
      "execution_count": null,
      "metadata": {
        "id": "bhnCY1hyp6EJ"
      },
      "outputs": [],
      "source": [
        "time_list = []\n",
        "import time \n",
        "for i in [25,30,40,50]:\n",
        "  iteration_list.append(i)\n",
        "  mf = matrix_factorization(rate_train, nums_feature = 10, lamda = 0.1, learning_rate = 0.5,max_iter = i, print_every = 5,user_based = 1)\n",
        "  start = time.time()\n",
        "  mf.fit()\n",
        "  MSE_train.append(mf.MSE(rate_train))\n",
        "  MSE_test.append(mf.MSE(rate_test))\n",
        "  end = time.time()\n",
        "  time_list.append(end-start)\n",
        "\n",
        "\n"
      ]
    },
    {
      "cell_type": "code",
      "execution_count": null,
      "metadata": {
        "colab": {
          "base_uri": "https://localhost:8080/",
          "height": 430
        },
        "id": "nIyyFWILlyI3",
        "outputId": "a6edfd2d-9cfd-4c25-ca06-dacc33f1934d"
      },
      "outputs": [
        {
          "data": {
            "image/png": "[encoded data removed]",
            "text/plain": [
              "<Figure size 640x480 with 1 Axes>"
            ]
          },
          "metadata": {},
          "output_type": "display_data"
        }
      ],
      "source": [
        "plt.plot(iteration_list,MSE_train)\n",
        "plt.plot(iteration_list, MSE_test)\n",
        "plt.xlabel = \"Iteration\"\n",
        "plt.ylabel ='Roots Mean Square Error'"
      ]
    }
  ],
  "metadata": {
    "colab": {
      "provenance": []
    },
    "kernelspec": {
      "display_name": "Python 3",
      "name": "python3"
    },
    "language_info": {
      "codemirror_mode": {
        "name": "ipython",
        "version": 3
      },
      "file_extension": ".py",
      "mimetype": "text/x-python",
      "name": "python",
      "nbconvert_exporter": "python",
      "pygments_lexer": "ipython3",
      "version": "3.9.6"
    }
  },
  "nbformat": 4,
  "nbformat_minor": 0
}
